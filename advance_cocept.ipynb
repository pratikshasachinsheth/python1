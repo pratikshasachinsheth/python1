{
 "cells": [
  {
   "cell_type": "code",
   "execution_count": 6,
   "metadata": {},
   "outputs": [
    {
     "name": "stdout",
     "output_type": "stream",
     "text": [
      "hi\n",
      "hello\n"
     ]
    }
   ],
   "source": [
    "try:\n",
    "    1/2\n",
    "except Exception as e:\n",
    "    print(type(e).__name__)\n",
    "else:\n",
    "    print(\"hi\")\n",
    "finally:\n",
    "    print(\"hello\")"
   ]
  },
  {
   "cell_type": "code",
   "execution_count": 11,
   "metadata": {},
   "outputs": [
    {
     "ename": "AssertionError",
     "evalue": "exception",
     "output_type": "error",
     "traceback": [
      "\u001b[0;31m---------------------------------------------------------------------------\u001b[0m",
      "\u001b[0;31mAssertionError\u001b[0m                            Traceback (most recent call last)",
      "\u001b[0;32m<ipython-input-11-267cfc57cf48>\u001b[0m in \u001b[0;36m<module>\u001b[0;34m()\u001b[0m\n\u001b[1;32m      1\u001b[0m \u001b[0mx\u001b[0m\u001b[0;34m=\u001b[0m\u001b[0;36m3\u001b[0m\u001b[0;34m\u001b[0m\u001b[0m\n\u001b[1;32m      2\u001b[0m \u001b[0my\u001b[0m\u001b[0;34m=\u001b[0m\u001b[0;36m5\u001b[0m\u001b[0;34m\u001b[0m\u001b[0m\n\u001b[0;32m----> 3\u001b[0;31m \u001b[0;32massert\u001b[0m \u001b[0mx\u001b[0m \u001b[0;34m>\u001b[0m \u001b[0my\u001b[0m \u001b[0;34m,\u001b[0m\u001b[0;34m\"exception\"\u001b[0m  \u001b[0;31m# there is assertion error\u001b[0m\u001b[0;34m\u001b[0m\u001b[0m\n\u001b[0m",
      "\u001b[0;31mAssertionError\u001b[0m: exception"
     ]
    }
   ],
   "source": [
    "x=3\n",
    "y=5\n",
    "assert x > y ,\"exception\"  # there is assertion error"
   ]
  },
  {
   "cell_type": "code",
   "execution_count": 19,
   "metadata": {},
   "outputs": [
    {
     "name": "stdout",
     "output_type": "stream",
     "text": [
      "hello\n"
     ]
    }
   ],
   "source": [
    "try:\n",
    "    if(5+3==8):\n",
    "        raise Exception(\"hello\")\n",
    "except Exception as e:\n",
    "    print(e)\n"
   ]
  },
  {
   "cell_type": "code",
   "execution_count": 34,
   "metadata": {},
   "outputs": [],
   "source": [
    "class accident(Exception):\n",
    "    def __init__(self,msg):\n",
    "        self.msg=msg\n",
    "        #print(self.msg)\n",
    "try:\n",
    "    if(5+3==8):\n",
    "        raise accident(\"i m here\")\n",
    "except accident as e:\n",
    "    e.__init__(\"hi\")      "
   ]
  },
  {
   "cell_type": "markdown",
   "metadata": {},
   "source": [
    "# class"
   ]
  },
  {
   "cell_type": "code",
   "execution_count": 43,
   "metadata": {},
   "outputs": [
    {
     "name": "stdout",
     "output_type": "stream",
     "text": [
      "11\n"
     ]
    }
   ],
   "source": [
    "class sum:\n",
    "    def __init__(self,a,b):\n",
    "        self.a1=a\n",
    "        self.b1=b\n",
    "        c=self.a1+self.b1\n",
    "        print(c)\n",
    "        \n",
    "s=sum(5,6)\n"
   ]
  },
  {
   "cell_type": "code",
   "execution_count": 58,
   "metadata": {},
   "outputs": [
    {
     "name": "stdout",
     "output_type": "stream",
     "text": [
      "base\n",
      "c\n"
     ]
    }
   ],
   "source": [
    "class sum:\n",
    "    def __init__(self):\n",
    "        #self.a1=a\n",
    "        #self.b1=b\n",
    "        print(\"base\")\n",
    "class s(sum):\n",
    "   \n",
    "    def sumone(self):\n",
    "        #super().__init__()\n",
    "        #c = self.a1 + self.b1\n",
    "        print(\"c\")\n",
    "s1=s()\n",
    "s1.sumone()\n",
    "\n"
   ]
  },
  {
   "cell_type": "code",
   "execution_count": 60,
   "metadata": {},
   "outputs": [
    {
     "name": "stdout",
     "output_type": "stream",
     "text": [
      "11\n"
     ]
    }
   ],
   "source": [
    "class sum:\n",
    "    def __init__(self, a,b):\n",
    "        self.a =a\n",
    "        self.b =b\n",
    "        \n",
    "class sum1(sum):\n",
    "    def add(self):\n",
    "        c = self.a + self.b\n",
    "        print(c)\n",
    "s1 = sum1(5,6)\n",
    "s1.add()"
   ]
  },
  {
   "cell_type": "markdown",
   "metadata": {},
   "source": [
    "# iterator"
   ]
  },
  {
   "cell_type": "code",
   "execution_count": 61,
   "metadata": {},
   "outputs": [],
   "source": [
    "a=[1,2,3,4]"
   ]
  },
  {
   "cell_type": "code",
   "execution_count": 62,
   "metadata": {},
   "outputs": [
    {
     "name": "stdout",
     "output_type": "stream",
     "text": [
      "1\n",
      "2\n",
      "3\n",
      "4\n"
     ]
    }
   ],
   "source": [
    "for i in range(len(a)):\n",
    "    print(a[i])"
   ]
  },
  {
   "cell_type": "code",
   "execution_count": 71,
   "metadata": {},
   "outputs": [],
   "source": [
    "i=iter(a)"
   ]
  },
  {
   "cell_type": "code",
   "execution_count": 72,
   "metadata": {},
   "outputs": [
    {
     "data": {
      "text/plain": [
       "1"
      ]
     },
     "execution_count": 72,
     "metadata": {},
     "output_type": "execute_result"
    }
   ],
   "source": [
    "next(i)"
   ]
  },
  {
   "cell_type": "code",
   "execution_count": 69,
   "metadata": {},
   "outputs": [
    {
     "name": "stdout",
     "output_type": "stream",
     "text": [
      "Help on list_iterator object:\n",
      "\n",
      "class list_iterator(object)\n",
      " |  Methods defined here:\n",
      " |  \n",
      " |  __getattribute__(self, name, /)\n",
      " |      Return getattr(self, name).\n",
      " |  \n",
      " |  __iter__(self, /)\n",
      " |      Implement iter(self).\n",
      " |  \n",
      " |  __length_hint__(...)\n",
      " |      Private method returning an estimate of len(list(it)).\n",
      " |  \n",
      " |  __next__(self, /)\n",
      " |      Implement next(self).\n",
      " |  \n",
      " |  __reduce__(...)\n",
      " |      Return state information for pickling.\n",
      " |  \n",
      " |  __setstate__(...)\n",
      " |      Set state information for unpickling.\n",
      "\n"
     ]
    }
   ],
   "source": [
    "help(i)"
   ]
  },
  {
   "cell_type": "code",
   "execution_count": 74,
   "metadata": {},
   "outputs": [
    {
     "ename": "NameError",
     "evalue": "name 'reduce' is not defined",
     "output_type": "error",
     "traceback": [
      "\u001b[0;31m---------------------------------------------------------------------------\u001b[0m",
      "\u001b[0;31mNameError\u001b[0m                                 Traceback (most recent call last)",
      "\u001b[0;32m<ipython-input-74-04616a7f73b8>\u001b[0m in \u001b[0;36m<module>\u001b[0;34m()\u001b[0m\n\u001b[0;32m----> 1\u001b[0;31m \u001b[0mreduce\u001b[0m\u001b[0;34m(\u001b[0m\u001b[0ma\u001b[0m\u001b[0;34m)\u001b[0m\u001b[0;34m\u001b[0m\u001b[0m\n\u001b[0m",
      "\u001b[0;31mNameError\u001b[0m: name 'reduce' is not defined"
     ]
    }
   ],
   "source": [
    "reduce(a)"
   ]
  },
  {
   "cell_type": "code",
   "execution_count": 76,
   "metadata": {},
   "outputs": [
    {
     "name": "stdout",
     "output_type": "stream",
     "text": [
      "Help on built-in function iter in module builtins:\n",
      "\n",
      "iter(...)\n",
      "    iter(iterable) -> iterator\n",
      "    iter(callable, sentinel) -> iterator\n",
      "    \n",
      "    Get an iterator from an object.  In the first form, the argument must\n",
      "    supply its own iterator, or be a sequence.\n",
      "    In the second form, the callable is called until it returns the sentinel.\n",
      "\n"
     ]
    }
   ],
   "source": [
    "help(iter)"
   ]
  },
  {
   "cell_type": "code",
   "execution_count": 77,
   "metadata": {},
   "outputs": [],
   "source": [
    "i=reversed(a)"
   ]
  },
  {
   "cell_type": "code",
   "execution_count": 78,
   "metadata": {},
   "outputs": [
    {
     "data": {
      "text/plain": [
       "4"
      ]
     },
     "execution_count": 78,
     "metadata": {},
     "output_type": "execute_result"
    }
   ],
   "source": [
    "next(i)"
   ]
  },
  {
   "cell_type": "code",
   "execution_count": 81,
   "metadata": {},
   "outputs": [
    {
     "name": "stdout",
     "output_type": "stream",
     "text": [
      "Help on list object:\n",
      "\n",
      "class list(object)\n",
      " |  list() -> new empty list\n",
      " |  list(iterable) -> new list initialized from iterable's items\n",
      " |  \n",
      " |  Methods defined here:\n",
      " |  \n",
      " |  __add__(self, value, /)\n",
      " |      Return self+value.\n",
      " |  \n",
      " |  __contains__(self, key, /)\n",
      " |      Return key in self.\n",
      " |  \n",
      " |  __delitem__(self, key, /)\n",
      " |      Delete self[key].\n",
      " |  \n",
      " |  __eq__(self, value, /)\n",
      " |      Return self==value.\n",
      " |  \n",
      " |  __ge__(self, value, /)\n",
      " |      Return self>=value.\n",
      " |  \n",
      " |  __getattribute__(self, name, /)\n",
      " |      Return getattr(self, name).\n",
      " |  \n",
      " |  __getitem__(...)\n",
      " |      x.__getitem__(y) <==> x[y]\n",
      " |  \n",
      " |  __gt__(self, value, /)\n",
      " |      Return self>value.\n",
      " |  \n",
      " |  __iadd__(self, value, /)\n",
      " |      Implement self+=value.\n",
      " |  \n",
      " |  __imul__(self, value, /)\n",
      " |      Implement self*=value.\n",
      " |  \n",
      " |  __init__(self, /, *args, **kwargs)\n",
      " |      Initialize self.  See help(type(self)) for accurate signature.\n",
      " |  \n",
      " |  __iter__(self, /)\n",
      " |      Implement iter(self).\n",
      " |  \n",
      " |  __le__(self, value, /)\n",
      " |      Return self<=value.\n",
      " |  \n",
      " |  __len__(self, /)\n",
      " |      Return len(self).\n",
      " |  \n",
      " |  __lt__(self, value, /)\n",
      " |      Return self<value.\n",
      " |  \n",
      " |  __mul__(self, value, /)\n",
      " |      Return self*value.n\n",
      " |  \n",
      " |  __ne__(self, value, /)\n",
      " |      Return self!=value.\n",
      " |  \n",
      " |  __new__(*args, **kwargs) from builtins.type\n",
      " |      Create and return a new object.  See help(type) for accurate signature.\n",
      " |  \n",
      " |  __repr__(self, /)\n",
      " |      Return repr(self).\n",
      " |  \n",
      " |  __reversed__(...)\n",
      " |      L.__reversed__() -- return a reverse iterator over the list\n",
      " |  \n",
      " |  __rmul__(self, value, /)\n",
      " |      Return self*value.\n",
      " |  \n",
      " |  __setitem__(self, key, value, /)\n",
      " |      Set self[key] to value.\n",
      " |  \n",
      " |  __sizeof__(...)\n",
      " |      L.__sizeof__() -- size of L in memory, in bytes\n",
      " |  \n",
      " |  append(...)\n",
      " |      L.append(object) -> None -- append object to end\n",
      " |  \n",
      " |  clear(...)\n",
      " |      L.clear() -> None -- remove all items from L\n",
      " |  \n",
      " |  copy(...)\n",
      " |      L.copy() -> list -- a shallow copy of L\n",
      " |  \n",
      " |  count(...)\n",
      " |      L.count(value) -> integer -- return number of occurrences of value\n",
      " |  \n",
      " |  extend(...)\n",
      " |      L.extend(iterable) -> None -- extend list by appending elements from the iterable\n",
      " |  \n",
      " |  index(...)\n",
      " |      L.index(value, [start, [stop]]) -> integer -- return first index of value.\n",
      " |      Raises ValueError if the value is not present.\n",
      " |  \n",
      " |  insert(...)\n",
      " |      L.insert(index, object) -- insert object before index\n",
      " |  \n",
      " |  pop(...)\n",
      " |      L.pop([index]) -> item -- remove and return item at index (default last).\n",
      " |      Raises IndexError if list is empty or index is out of range.\n",
      " |  \n",
      " |  remove(...)\n",
      " |      L.remove(value) -> None -- remove first occurrence of value.\n",
      " |      Raises ValueError if the value is not present.\n",
      " |  \n",
      " |  reverse(...)\n",
      " |      L.reverse() -- reverse *IN PLACE*\n",
      " |  \n",
      " |  sort(...)\n",
      " |      L.sort(key=None, reverse=False) -> None -- stable sort *IN PLACE*\n",
      " |  \n",
      " |  ----------------------------------------------------------------------\n",
      " |  Data and other attributes defined here:\n",
      " |  \n",
      " |  __hash__ = None\n",
      "\n"
     ]
    }
   ],
   "source": [
    "help(a)"
   ]
  },
  {
   "cell_type": "code",
   "execution_count": 85,
   "metadata": {},
   "outputs": [
    {
     "data": {
      "text/plain": [
       "'[2, 3, 4]'"
      ]
     },
     "execution_count": 85,
     "metadata": {},
     "output_type": "execute_result"
    }
   ],
   "source": [
    "repr(a) #print list"
   ]
  },
  {
   "cell_type": "code",
   "execution_count": 84,
   "metadata": {},
   "outputs": [],
   "source": [
    "del a[0]"
   ]
  },
  {
   "cell_type": "code",
   "execution_count": 86,
   "metadata": {},
   "outputs": [],
   "source": [
    "b={1:\"a\",2:\"b\"}"
   ]
  },
  {
   "cell_type": "code",
   "execution_count": 87,
   "metadata": {},
   "outputs": [
    {
     "data": {
      "text/plain": [
       "{1: 'a', 2: 'b'}"
      ]
     },
     "execution_count": 87,
     "metadata": {},
     "output_type": "execute_result"
    }
   ],
   "source": [
    "b"
   ]
  },
  {
   "cell_type": "code",
   "execution_count": 88,
   "metadata": {},
   "outputs": [],
   "source": [
    "i=iter(b)"
   ]
  },
  {
   "cell_type": "code",
   "execution_count": 91,
   "metadata": {},
   "outputs": [
    {
     "ename": "StopIteration",
     "evalue": "",
     "output_type": "error",
     "traceback": [
      "\u001b[0;31m---------------------------------------------------------------------------\u001b[0m",
      "\u001b[0;31mStopIteration\u001b[0m                             Traceback (most recent call last)",
      "\u001b[0;32m<ipython-input-91-a883b34d6d8a>\u001b[0m in \u001b[0;36m<module>\u001b[0;34m()\u001b[0m\n\u001b[0;32m----> 1\u001b[0;31m \u001b[0mnext\u001b[0m\u001b[0;34m(\u001b[0m\u001b[0mi\u001b[0m\u001b[0;34m)\u001b[0m\u001b[0;34m\u001b[0m\u001b[0m\n\u001b[0m",
      "\u001b[0;31mStopIteration\u001b[0m: "
     ]
    }
   ],
   "source": [
    "next(i)"
   ]
  },
  {
   "cell_type": "code",
   "execution_count": 92,
   "metadata": {},
   "outputs": [
    {
     "name": "stdout",
     "output_type": "stream",
     "text": [
      "Help on dict object:\n",
      "\n",
      "class dict(object)\n",
      " |  dict() -> new empty dictionary\n",
      " |  dict(mapping) -> new dictionary initialized from a mapping object's\n",
      " |      (key, value) pairs\n",
      " |  dict(iterable) -> new dictionary initialized as if via:\n",
      " |      d = {}\n",
      " |      for k, v in iterable:\n",
      " |          d[k] = v\n",
      " |  dict(**kwargs) -> new dictionary initialized with the name=value pairs\n",
      " |      in the keyword argument list.  For example:  dict(one=1, two=2)\n",
      " |  \n",
      " |  Methods defined here:\n",
      " |  \n",
      " |  __contains__(self, key, /)\n",
      " |      True if D has a key k, else False.\n",
      " |  \n",
      " |  __delitem__(self, key, /)\n",
      " |      Delete self[key].\n",
      " |  \n",
      " |  __eq__(self, value, /)\n",
      " |      Return self==value.\n",
      " |  \n",
      " |  __ge__(self, value, /)\n",
      " |      Return self>=value.\n",
      " |  \n",
      " |  __getattribute__(self, name, /)\n",
      " |      Return getattr(self, name).\n",
      " |  \n",
      " |  __getitem__(...)\n",
      " |      x.__getitem__(y) <==> x[y]\n",
      " |  \n",
      " |  __gt__(self, value, /)\n",
      " |      Return self>value.\n",
      " |  \n",
      " |  __init__(self, /, *args, **kwargs)\n",
      " |      Initialize self.  See help(type(self)) for accurate signature.\n",
      " |  \n",
      " |  __iter__(self, /)\n",
      " |      Implement iter(self).\n",
      " |  \n",
      " |  __le__(self, value, /)\n",
      " |      Return self<=value.\n",
      " |  \n",
      " |  __len__(self, /)\n",
      " |      Return len(self).\n",
      " |  \n",
      " |  __lt__(self, value, /)\n",
      " |      Return self<value.\n",
      " |  \n",
      " |  __ne__(self, value, /)\n",
      " |      Return self!=value.\n",
      " |  \n",
      " |  __new__(*args, **kwargs) from builtins.type\n",
      " |      Create and return a new object.  See help(type) for accurate signature.\n",
      " |  \n",
      " |  __repr__(self, /)\n",
      " |      Return repr(self).\n",
      " |  \n",
      " |  __setitem__(self, key, value, /)\n",
      " |      Set self[key] to value.\n",
      " |  \n",
      " |  __sizeof__(...)\n",
      " |      D.__sizeof__() -> size of D in memory, in bytes\n",
      " |  \n",
      " |  clear(...)\n",
      " |      D.clear() -> None.  Remove all items from D.\n",
      " |  \n",
      " |  copy(...)\n",
      " |      D.copy() -> a shallow copy of D\n",
      " |  \n",
      " |  fromkeys(iterable, value=None, /) from builtins.type\n",
      " |      Returns a new dict with keys from iterable and values equal to value.\n",
      " |  \n",
      " |  get(...)\n",
      " |      D.get(k[,d]) -> D[k] if k in D, else d.  d defaults to None.\n",
      " |  \n",
      " |  items(...)\n",
      " |      D.items() -> a set-like object providing a view on D's items\n",
      " |  \n",
      " |  keys(...)\n",
      " |      D.keys() -> a set-like object providing a view on D's keys\n",
      " |  \n",
      " |  pop(...)\n",
      " |      D.pop(k[,d]) -> v, remove specified key and return the corresponding value.\n",
      " |      If key is not found, d is returned if given, otherwise KeyError is raised\n",
      " |  \n",
      " |  popitem(...)\n",
      " |      D.popitem() -> (k, v), remove and return some (key, value) pair as a\n",
      " |      2-tuple; but raise KeyError if D is empty.\n",
      " |  \n",
      " |  setdefault(...)\n",
      " |      D.setdefault(k[,d]) -> D.get(k,d), also set D[k]=d if k not in D\n",
      " |  \n",
      " |  update(...)\n",
      " |      D.update([E, ]**F) -> None.  Update D from dict/iterable E and F.\n",
      " |      If E is present and has a .keys() method, then does:  for k in E: D[k] = E[k]\n",
      " |      If E is present and lacks a .keys() method, then does:  for k, v in E: D[k] = v\n",
      " |      In either case, this is followed by: for k in F:  D[k] = F[k]\n",
      " |  \n",
      " |  values(...)\n",
      " |      D.values() -> an object providing a view on D's values\n",
      " |  \n",
      " |  ----------------------------------------------------------------------\n",
      " |  Data and other attributes defined here:\n",
      " |  \n",
      " |  __hash__ = None\n",
      "\n"
     ]
    }
   ],
   "source": [
    "help(b)"
   ]
  },
  {
   "cell_type": "code",
   "execution_count": 194,
   "metadata": {},
   "outputs": [],
   "source": [
    "m=\"1234\""
   ]
  },
  {
   "cell_type": "code",
   "execution_count": 195,
   "metadata": {},
   "outputs": [
    {
     "data": {
      "text/plain": [
       "'1'"
      ]
     },
     "execution_count": 195,
     "metadata": {},
     "output_type": "execute_result"
    }
   ],
   "source": [
    "m[0]"
   ]
  },
  {
   "cell_type": "code",
   "execution_count": 196,
   "metadata": {},
   "outputs": [
    {
     "ename": "TypeError",
     "evalue": "'abc' object is not callable",
     "output_type": "error",
     "traceback": [
      "\u001b[0;31m---------------------------------------------------------------------------\u001b[0m",
      "\u001b[0;31mTypeError\u001b[0m                                 Traceback (most recent call last)",
      "\u001b[0;32m<ipython-input-196-8c1743c9180e>\u001b[0m in \u001b[0;36m<module>\u001b[0;34m()\u001b[0m\n\u001b[0;32m----> 1\u001b[0;31m \u001b[0mi\u001b[0m\u001b[0;34m=\u001b[0m\u001b[0miter\u001b[0m\u001b[0;34m(\u001b[0m\u001b[0mm\u001b[0m\u001b[0;34m)\u001b[0m\u001b[0;34m\u001b[0m\u001b[0m\n\u001b[0m",
      "\u001b[0;31mTypeError\u001b[0m: 'abc' object is not callable"
     ]
    }
   ],
   "source": [
    "i=iter(m)"
   ]
  },
  {
   "cell_type": "code",
   "execution_count": 102,
   "metadata": {},
   "outputs": [
    {
     "ename": "TypeError",
     "evalue": "'int' object is not an iterator",
     "output_type": "error",
     "traceback": [
      "\u001b[0;31m---------------------------------------------------------------------------\u001b[0m",
      "\u001b[0;31mTypeError\u001b[0m                                 Traceback (most recent call last)",
      "\u001b[0;32m<ipython-input-102-e846efec376d>\u001b[0m in \u001b[0;36m<module>\u001b[0;34m()\u001b[0m\n\u001b[0;32m----> 1\u001b[0;31m \u001b[0mnext\u001b[0m\u001b[0;34m(\u001b[0m\u001b[0mc\u001b[0m\u001b[0;34m)\u001b[0m\u001b[0;34m\u001b[0m\u001b[0m\n\u001b[0m",
      "\u001b[0;31mTypeError\u001b[0m: 'int' object is not an iterator"
     ]
    }
   ],
   "source": [
    "next(c)"
   ]
  },
  {
   "cell_type": "code",
   "execution_count": 147,
   "metadata": {},
   "outputs": [
    {
     "name": "stdout",
     "output_type": "stream",
     "text": [
      "1\n",
      "None\n",
      "2\n",
      "None\n",
      "3\n",
      "None\n"
     ]
    }
   ],
   "source": [
    "class abc:\n",
    "    def __init__(self):\n",
    "        self.a=[1,2,3,4]\n",
    "        self.i=0\n",
    "    def __iter__(self):\n",
    "        return self\n",
    "    def __next__(self):\n",
    "        print(self.a[self.i])\n",
    "        self.i+=1\n",
    "c=abc()\n",
    "itr = c.__iter__()\n",
    "print(next(itr))\n",
    "print(next(itr))\n",
    "print(next(itr))\n",
    "    "
   ]
  },
  {
   "cell_type": "code",
   "execution_count": 229,
   "metadata": {},
   "outputs": [
    {
     "name": "stdout",
     "output_type": "stream",
     "text": [
      "1\n",
      "2\n"
     ]
    }
   ],
   "source": [
    "class abc:\n",
    "    def __init__(self):\n",
    "        self.a=[1,2,3,4]\n",
    "        self.i=0\n",
    "    def __iter__(self):\n",
    "        return self\n",
    "    def __next__(self):   #Use __next__ in python 3.x\n",
    "        if self.i < len(self.a):\n",
    "            val = self.a[self.i]\n",
    "            self.i += 1 \n",
    "            return val\n",
    "        else:\n",
    "            raise StopIteration()\n",
    "c=abc()\n",
    "itr = c.__iter__()\n",
    "print(itr.__next__())\n",
    "print(itr.__next__())"
   ]
  },
  {
   "cell_type": "code",
   "execution_count": 197,
   "metadata": {},
   "outputs": [
    {
     "name": "stdout",
     "output_type": "stream",
     "text": [
      "0\n",
      "1\n",
      "2\n"
     ]
    }
   ],
   "source": [
    "for i in range(3):\n",
    "    print(i)"
   ]
  },
  {
   "cell_type": "markdown",
   "metadata": {},
   "source": [
    "Difference between iterable and iterator\n",
    "\n",
    "Iterable is an object, which one can iterate over. It generates an Iterator when passed to inter() method. Iterator is an object, which is used to iterate over an iterable object using __next__() method. Iterators have __next__() method, which returns the next item of the object.\n",
    "\n",
    "Note that every iterator is also an iterable, but not every iterable is an iterator. For example, a list is iterable but a list is not an iterator. An iterator can be created from an iterable by using the function iter(). To make this possible, the class of an object needs either a method __iter__, which returns an iterator, or a __getitem__ method with sequential indexes starting with 0.\n",
    "\n",
    "When a for loop is executed, for statement calls iter() on the object, which it is supposed to loop over. If this call is successful, the iter call will return an iterator object that defines the method __next__(), which accesses elements of the object one at a time. The __next__() method will raise a StopIteration exception, if there are no further elements available. The for loop will terminate as soon as it catches a StopIteration exception.\n",
    "\n",
    " Check object is iterable or not\n",
    "\n",
    "# Function to check object\n",
    "# is iterable or not \n",
    "def iterable(obj):\n",
    "    try:\n",
    "        iter(obj)\n",
    "        \n",
    "        return True\n",
    "         \n",
    "    except TypeError:\n",
    "        return False\n",
    " \n",
    "# Driver Code     \n",
    "for element in [34, [4, 5], (4, 5),\n",
    "             {\"a\":4}, \"dfsdf\", 4.5]:\n",
    "                  \n",
    "    print(element, \" is iterable : \", iterable(element))\n",
    "\n"
   ]
  },
  {
   "cell_type": "code",
   "execution_count": 157,
   "metadata": {},
   "outputs": [
    {
     "name": "stdout",
     "output_type": "stream",
     "text": [
      "p\n",
      "r\n",
      "a\n",
      "t\n",
      "i\n",
      "k\n",
      "s\n",
      "h\n",
      "a\n"
     ]
    },
    {
     "ename": "TypeError",
     "evalue": "'abc' object is not callable",
     "output_type": "error",
     "traceback": [
      "\u001b[0;31m---------------------------------------------------------------------------\u001b[0m",
      "\u001b[0;31mTypeError\u001b[0m                                 Traceback (most recent call last)",
      "\u001b[0;32m<ipython-input-157-e38bc07a0c57>\u001b[0m in \u001b[0;36m<module>\u001b[0;34m()\u001b[0m\n\u001b[1;32m      2\u001b[0m \u001b[0;32mfor\u001b[0m \u001b[0mi\u001b[0m \u001b[0;32min\u001b[0m \u001b[0mstr\u001b[0m\u001b[0;34m:\u001b[0m\u001b[0;34m\u001b[0m\u001b[0m\n\u001b[1;32m      3\u001b[0m     \u001b[0mprint\u001b[0m\u001b[0;34m(\u001b[0m\u001b[0mi\u001b[0m\u001b[0;34m)\u001b[0m\u001b[0;34m\u001b[0m\u001b[0m\n\u001b[0;32m----> 4\u001b[0;31m \u001b[0mst\u001b[0m\u001b[0;34m=\u001b[0m\u001b[0miter\u001b[0m\u001b[0;34m(\u001b[0m\u001b[0mstr\u001b[0m\u001b[0;34m)\u001b[0m\u001b[0;34m\u001b[0m\u001b[0m\n\u001b[0m\u001b[1;32m      5\u001b[0m \u001b[0mnext\u001b[0m\u001b[0;34m(\u001b[0m\u001b[0mst\u001b[0m\u001b[0;34m)\u001b[0m\u001b[0;34m\u001b[0m\u001b[0m\n",
      "\u001b[0;31mTypeError\u001b[0m: 'abc' object is not callable"
     ]
    }
   ],
   "source": [
    "str=\"pratiksha\"\n",
    "for i in str:\n",
    "    print(i)\n",
    "st=iter(str)\n",
    "next(st)"
   ]
  },
  {
   "cell_type": "markdown",
   "metadata": {},
   "source": [
    "Comparison Between Python Generator vs Iterator\n",
    "Let’s see the difference between Iterators and Generators in python.\n",
    "\n",
    "In creating a python generator, we use a function. But in creating an iterator in python, we use the iter() and next() functions.\n",
    "\n",
    "A generator in python makes use of the ‘yield’ keyword. A python iterator doesn’t.\n",
    "\n",
    "Python generator saves the states of the local variables every time ‘yield’ pauses the loop in python. An iterator does not make use of local variables, all it needs is iterable to iterate on.\n",
    "\n",
    "A generator may have any number of ‘yield’ statements.\n",
    "\n",
    "You can implement your own iterator using a python class; a generator does not need a class in python.\n",
    "\n",
    "To write a python generator, you can either use a Python function or a comprehension. But for an iterator, you must use the iter() and next() functions.\n",
    "\n",
    "Generator in python let us write fast and compact code. This is an advantage over Python iterators. They are also simpler to code than do custom iterator.\n"
   ]
  },
  {
   "cell_type": "markdown",
   "metadata": {},
   "source": [
    "# generator"
   ]
  },
  {
   "cell_type": "code",
   "execution_count": 181,
   "metadata": {},
   "outputs": [
    {
     "name": "stdout",
     "output_type": "stream",
     "text": [
      "0\n",
      "1\n",
      "1\n",
      "2\n",
      "3\n",
      "5\n",
      "8\n",
      "13\n"
     ]
    }
   ],
   "source": [
    "class aabb:\n",
    "    \n",
    "    def fib():\n",
    "        a=0\n",
    "        b=1\n",
    "        c=0\n",
    "        while True:\n",
    "            yield a\n",
    "           \n",
    "            a=b\n",
    "            b=c+b\n",
    "            c=a\n",
    "            \n",
    "         #   print(\"a\",a ,\"b\",b)\n",
    "    for a in fib():\n",
    "        if a > 13:\n",
    "            break\n",
    "        print(a)\n",
    "    "
   ]
  },
  {
   "cell_type": "code",
   "execution_count": 182,
   "metadata": {},
   "outputs": [
    {
     "data": {
      "text/plain": [
       "<function __main__.fib()>"
      ]
     },
     "execution_count": 182,
     "metadata": {},
     "output_type": "execute_result"
    }
   ],
   "source": [
    "fib"
   ]
  },
  {
   "cell_type": "code",
   "execution_count": 183,
   "metadata": {},
   "outputs": [
    {
     "data": {
      "text/plain": [
       "[1, 2, 3, 4, 5]"
      ]
     },
     "execution_count": 183,
     "metadata": {},
     "output_type": "execute_result"
    }
   ],
   "source": [
    "a"
   ]
  },
  {
   "cell_type": "code",
   "execution_count": 184,
   "metadata": {},
   "outputs": [
    {
     "data": {
      "text/plain": [
       "__main__.aabb"
      ]
     },
     "execution_count": 184,
     "metadata": {},
     "output_type": "execute_result"
    }
   ],
   "source": [
    "aabb"
   ]
  },
  {
   "cell_type": "code",
   "execution_count": 205,
   "metadata": {},
   "outputs": [
    {
     "name": "stdout",
     "output_type": "stream",
     "text": [
      "1 1\n",
      "2 3\n",
      "3 5\n",
      "4 7\n",
      "5 9\n",
      "6 11\n",
      "7 13\n",
      "8 15\n",
      "9 17\n",
      "10 19\n",
      "11 21\n"
     ]
    }
   ],
   "source": [
    "# Single class\n",
    "class OddNumber:\n",
    "  # Constructor\n",
    "  def __init__(self, max):\n",
    "    self.curr = -1\n",
    "    self.max = max\n",
    "    \n",
    "  # Class implements next \n",
    "  # so it is an iterator\n",
    "  def __next__(self):\n",
    "    self.curr+=2\n",
    "    if self.curr > self.max:\n",
    "      raise StopIteration()\n",
    "    else:\n",
    "      return self.curr\n",
    " \n",
    "  # Class implements iter so it is an \n",
    "  # iterable. Since the same class \n",
    "  # implements the iterator we return self\n",
    "  def __iter__(self):\n",
    "    return self\n",
    " \n",
    "# Create an iterable object\n",
    "od = OddNumber(21)\n",
    "\n",
    "#using next\n",
    "for i in range(1, 12):\n",
    "  print(i, next(od))\n",
    " \n",
    "# Run a for loop against it\n",
    "for i in od:\n",
    "  print(i)"
   ]
  },
  {
   "cell_type": "code",
   "execution_count": 203,
   "metadata": {},
   "outputs": [
    {
     "name": "stdout",
     "output_type": "stream",
     "text": [
      "1\n",
      "3\n",
      "5\n",
      "1\n",
      "3\n",
      "5\n",
      "7\n",
      "9\n",
      "11\n",
      "13\n",
      "15\n",
      "17\n",
      "19\n",
      "21\n"
     ]
    },
    {
     "name": "stderr",
     "output_type": "stream",
     "text": [
      "/home/pratiksha/anaconda3/lib/python3.6/site-packages/ipykernel_launcher.py:25: DeprecationWarning: generator 'OddNumber' raised StopIteration\n"
     ]
    }
   ],
   "source": [
    "# Odd number generator function definition. \n",
    "def OddNumber(max):\n",
    "  o = -1\n",
    "  for i in range(max):\n",
    "    o += 2\n",
    "    # max is the maximum odd number \n",
    "    # we are going to generate\n",
    "    if o > max:\n",
    "        raise StopIteration()\n",
    "    else:\n",
    "          yield o\n",
    " \n",
    "# Define an odd generator function\n",
    "# Recall that od is going to be an\n",
    "# object not a value\n",
    "od = OddNumber(21)\n",
    " \n",
    "# This is going to print 1, 3, 5\n",
    "print (next(od))\n",
    "print (next(od))\n",
    "print (next(od))\n",
    " \n",
    "# This is going to print all odd\n",
    "# numbers between 1 and 21\n",
    "for i in OddNumber(21):\n",
    "  print(i)"
   ]
  },
  {
   "cell_type": "code",
   "execution_count": 236,
   "metadata": {},
   "outputs": [
    {
     "name": "stdout",
     "output_type": "stream",
     "text": [
      "1\n",
      "1\n"
     ]
    }
   ],
   "source": [
    "# Odd number normal function definition. \n",
    "class odd:\n",
    "    def __init__(self,max):\n",
    "        self.max=max\n",
    "    def OddNumber(self):\n",
    "        o = -1\n",
    "        for i in range(self.max):\n",
    "            o += 2\n",
    "    # max is the maximum odd number \n",
    "    # we are going to generate\n",
    "            if o > self.max:\n",
    "                raise StopIteration()\n",
    "            else:\n",
    "                  return o\n",
    " \n",
    "od = odd(21)\n",
    "print(od.OddNumber())\n",
    "print(od.OddNumber()) #each time new object is created and it initilize to -1\n"
   ]
  },
  {
   "cell_type": "code",
   "execution_count": 235,
   "metadata": {},
   "outputs": [
    {
     "name": "stdout",
     "output_type": "stream",
     "text": [
      "1\n",
      "3\n"
     ]
    }
   ],
   "source": [
    "# Odd number generator function definition. same as normal function only yield statement is used and it is use for iteration but iter and next is not used\n",
    "class odd:\n",
    "    def __init__(self,max):\n",
    "        self.max=max\n",
    "    def OddNumber(self):\n",
    "        o = -1\n",
    "        for i in range(self.max):\n",
    "            o += 2\n",
    "    # max is the maximum odd number \n",
    "    # we are going to generate\n",
    "            if o > self.max:\n",
    "                raise StopIteration()\n",
    "            else:\n",
    "                  yield o\n",
    " \n",
    "od = odd(21)\n",
    "od1=od.OddNumber()\n",
    "print(next(od1))   #previous state is preserved\n",
    "print(next(od1))"
   ]
  },
  {
   "cell_type": "code",
   "execution_count": 233,
   "metadata": {},
   "outputs": [
    {
     "name": "stdout",
     "output_type": "stream",
     "text": [
      "1\n",
      "3\n"
     ]
    },
    {
     "data": {
      "text/plain": [
       "7"
      ]
     },
     "execution_count": 233,
     "metadata": {},
     "output_type": "execute_result"
    }
   ],
   "source": [
    "# Odd number iterator function definition. \n",
    "class odd:\n",
    "    def __init__(self,max):\n",
    "        self.max=max\n",
    "        self.o = -1\n",
    "    def __iter__(self):\n",
    "        return self\n",
    "    def next(self):\n",
    "        for i in range(self.max):\n",
    "            self.o += 2\n",
    "    # max is the maximum odd number \n",
    "    # we are going to generate\n",
    "            if self.o > self.max:\n",
    "                raise StopIteration()\n",
    "            else:\n",
    "                  return self.o\n",
    " \n",
    "od = odd(21)\n",
    "od1=od.__iter__()\n",
    "print(od1.next())\n",
    "print(od1.next())\n",
    "od1.next()\n",
    "od1.next()"
   ]
  },
  {
   "cell_type": "markdown",
   "metadata": {},
   "source": [
    "generator expression\n",
    "\n"
   ]
  },
  {
   "cell_type": "code",
   "execution_count": 240,
   "metadata": {},
   "outputs": [
    {
     "name": "stdout",
     "output_type": "stream",
     "text": [
      "<generator object <genexpr> at 0x7f5fbf7bd990>\n"
     ]
    }
   ],
   "source": [
    "# Initialize the list\n",
    "my_list = [1, 3, 6, 10]\n",
    "\n",
    "# square each term using list comprehension\n",
    "# Output: [1, 9, 36, 100]\n",
    "[x**2 for x in my_list]\n",
    "\n",
    "# same thing can be done using generator expression\n",
    "# Output: <generator object <genexpr> at 0x0000000002EBDAF8>\n",
    "i=(x**2 for x in my_list)\n",
    "print(i)"
   ]
  },
  {
   "cell_type": "code",
   "execution_count": 247,
   "metadata": {},
   "outputs": [],
   "source": [
    "i=(x**2 for x in my_list)    #generator expression same as list comprehension but to print value of it use next()"
   ]
  },
  {
   "cell_type": "code",
   "execution_count": 248,
   "metadata": {},
   "outputs": [
    {
     "data": {
      "text/plain": [
       "1"
      ]
     },
     "execution_count": 248,
     "metadata": {},
     "output_type": "execute_result"
    }
   ],
   "source": [
    "next(i)"
   ]
  },
  {
   "cell_type": "code",
   "execution_count": 244,
   "metadata": {},
   "outputs": [
    {
     "data": {
      "text/plain": [
       "9"
      ]
     },
     "execution_count": 244,
     "metadata": {},
     "output_type": "execute_result"
    }
   ],
   "source": [
    "next(i)"
   ]
  },
  {
   "cell_type": "code",
   "execution_count": 245,
   "metadata": {},
   "outputs": [],
   "source": [
    "j=[x**2 for x in my_list]"
   ]
  },
  {
   "cell_type": "code",
   "execution_count": 246,
   "metadata": {},
   "outputs": [
    {
     "data": {
      "text/plain": [
       "[1, 9, 36, 100]"
      ]
     },
     "execution_count": 246,
     "metadata": {},
     "output_type": "execute_result"
    }
   ],
   "source": [
    "j\n"
   ]
  },
  {
   "cell_type": "code",
   "execution_count": 249,
   "metadata": {},
   "outputs": [],
   "source": [
    "l=[1,1,2,3,4,5,5]"
   ]
  },
  {
   "cell_type": "code",
   "execution_count": 250,
   "metadata": {},
   "outputs": [
    {
     "data": {
      "text/plain": [
       "[1, 1, 2, 3, 4, 5, 5]"
      ]
     },
     "execution_count": 250,
     "metadata": {},
     "output_type": "execute_result"
    }
   ],
   "source": [
    "l"
   ]
  },
  {
   "cell_type": "code",
   "execution_count": 251,
   "metadata": {},
   "outputs": [],
   "source": [
    "l={1,1,2,3,4,5,5}"
   ]
  },
  {
   "cell_type": "code",
   "execution_count": 252,
   "metadata": {},
   "outputs": [
    {
     "data": {
      "text/plain": [
       "{1, 2, 3, 4, 5}"
      ]
     },
     "execution_count": 252,
     "metadata": {},
     "output_type": "execute_result"
    }
   ],
   "source": [
    "l"
   ]
  },
  {
   "cell_type": "code",
   "execution_count": 253,
   "metadata": {},
   "outputs": [
    {
     "ename": "TypeError",
     "evalue": "'set' object does not support indexing",
     "output_type": "error",
     "traceback": [
      "\u001b[0;31m---------------------------------------------------------------------------\u001b[0m",
      "\u001b[0;31mTypeError\u001b[0m                                 Traceback (most recent call last)",
      "\u001b[0;32m<ipython-input-253-98c6d61fc190>\u001b[0m in \u001b[0;36m<module>\u001b[0;34m()\u001b[0m\n\u001b[0;32m----> 1\u001b[0;31m \u001b[0ml\u001b[0m\u001b[0;34m[\u001b[0m\u001b[0;36m0\u001b[0m\u001b[0;34m]\u001b[0m\u001b[0;34m\u001b[0m\u001b[0m\n\u001b[0m",
      "\u001b[0;31mTypeError\u001b[0m: 'set' object does not support indexing"
     ]
    }
   ],
   "source": [
    "l[0]"
   ]
  },
  {
   "cell_type": "code",
   "execution_count": 254,
   "metadata": {},
   "outputs": [],
   "source": [
    "x=set(\"spam\")"
   ]
  },
  {
   "cell_type": "code",
   "execution_count": 255,
   "metadata": {},
   "outputs": [
    {
     "data": {
      "text/plain": [
       "{'a', 'm', 'p', 's'}"
      ]
     },
     "execution_count": 255,
     "metadata": {},
     "output_type": "execute_result"
    }
   ],
   "source": [
    "x  #alphabetical order is used "
   ]
  },
  {
   "cell_type": "code",
   "execution_count": 256,
   "metadata": {},
   "outputs": [
    {
     "data": {
      "text/plain": [
       "{'a', 'm', 'p', 's'}"
      ]
     },
     "execution_count": 256,
     "metadata": {},
     "output_type": "execute_result"
    }
   ],
   "source": [
    "x"
   ]
  },
  {
   "cell_type": "code",
   "execution_count": 257,
   "metadata": {},
   "outputs": [],
   "source": [
    "y=list(\"spam\")"
   ]
  },
  {
   "cell_type": "code",
   "execution_count": 259,
   "metadata": {},
   "outputs": [
    {
     "data": {
      "text/plain": [
       "['s', 'p', 'a', 'm']"
      ]
     },
     "execution_count": 259,
     "metadata": {},
     "output_type": "execute_result"
    }
   ],
   "source": [
    "y  #store value as it is"
   ]
  },
  {
   "cell_type": "code",
   "execution_count": 260,
   "metadata": {},
   "outputs": [
    {
     "data": {
      "text/plain": [
       "({'a', 'm', 'p', 's'}, {1, 2, 3, 4, 5})"
      ]
     },
     "execution_count": 260,
     "metadata": {},
     "output_type": "execute_result"
    }
   ],
   "source": [
    "x,l"
   ]
  },
  {
   "cell_type": "code",
   "execution_count": 261,
   "metadata": {},
   "outputs": [
    {
     "name": "stdout",
     "output_type": "stream",
     "text": [
      "Help on set object:\n",
      "\n",
      "class set(object)\n",
      " |  set() -> new empty set object\n",
      " |  set(iterable) -> new set object\n",
      " |  \n",
      " |  Build an unordered collection of unique elements.\n",
      " |  \n",
      " |  Methods defined here:\n",
      " |  \n",
      " |  __and__(self, value, /)\n",
      " |      Return self&value.\n",
      " |  \n",
      " |  __contains__(...)\n",
      " |      x.__contains__(y) <==> y in x.\n",
      " |  \n",
      " |  __eq__(self, value, /)\n",
      " |      Return self==value.\n",
      " |  \n",
      " |  __ge__(self, value, /)\n",
      " |      Return self>=value.\n",
      " |  \n",
      " |  __getattribute__(self, name, /)\n",
      " |      Return getattr(self, name).\n",
      " |  \n",
      " |  __gt__(self, value, /)\n",
      " |      Return self>value.\n",
      " |  \n",
      " |  __iand__(self, value, /)\n",
      " |      Return self&=value.\n",
      " |  \n",
      " |  __init__(self, /, *args, **kwargs)\n",
      " |      Initialize self.  See help(type(self)) for accurate signature.\n",
      " |  \n",
      " |  __ior__(self, value, /)\n",
      " |      Return self|=value.\n",
      " |  \n",
      " |  __isub__(self, value, /)\n",
      " |      Return self-=value.\n",
      " |  \n",
      " |  __iter__(self, /)\n",
      " |      Implement iter(self).\n",
      " |  \n",
      " |  __ixor__(self, value, /)\n",
      " |      Return self^=value.\n",
      " |  \n",
      " |  __le__(self, value, /)\n",
      " |      Return self<=value.\n",
      " |  \n",
      " |  __len__(self, /)\n",
      " |      Return len(self).\n",
      " |  \n",
      " |  __lt__(self, value, /)\n",
      " |      Return self<value.\n",
      " |  \n",
      " |  __ne__(self, value, /)\n",
      " |      Return self!=value.\n",
      " |  \n",
      " |  __new__(*args, **kwargs) from builtins.type\n",
      " |      Create and return a new object.  See help(type) for accurate signature.\n",
      " |  \n",
      " |  __or__(self, value, /)\n",
      " |      Return self|value.\n",
      " |  \n",
      " |  __rand__(self, value, /)\n",
      " |      Return value&self.\n",
      " |  \n",
      " |  __reduce__(...)\n",
      " |      Return state information for pickling.\n",
      " |  \n",
      " |  __repr__(self, /)\n",
      " |      Return repr(self).\n",
      " |  \n",
      " |  __ror__(self, value, /)\n",
      " |      Return value|self.\n",
      " |  \n",
      " |  __rsub__(self, value, /)\n",
      " |      Return value-self.\n",
      " |  \n",
      " |  __rxor__(self, value, /)\n",
      " |      Return value^self.\n",
      " |  \n",
      " |  __sizeof__(...)\n",
      " |      S.__sizeof__() -> size of S in memory, in bytes\n",
      " |  \n",
      " |  __sub__(self, value, /)\n",
      " |      Return self-value.\n",
      " |  \n",
      " |  __xor__(self, value, /)\n",
      " |      Return self^value.\n",
      " |  \n",
      " |  add(...)\n",
      " |      Add an element to a set.\n",
      " |      \n",
      " |      This has no effect if the element is already present.\n",
      " |  \n",
      " |  clear(...)\n",
      " |      Remove all elements from this set.\n",
      " |  \n",
      " |  copy(...)\n",
      " |      Return a shallow copy of a set.\n",
      " |  \n",
      " |  difference(...)\n",
      " |      Return the difference of two or more sets as a new set.\n",
      " |      \n",
      " |      (i.e. all elements that are in this set but not the others.)\n",
      " |  \n",
      " |  difference_update(...)\n",
      " |      Remove all elements of another set from this set.\n",
      " |  \n",
      " |  discard(...)\n",
      " |      Remove an element from a set if it is a member.\n",
      " |      \n",
      " |      If the element is not a member, do nothing.\n",
      " |  \n",
      " |  intersection(...)\n",
      " |      Return the intersection of two sets as a new set.\n",
      " |      \n",
      " |      (i.e. all elements that are in both sets.)\n",
      " |  \n",
      " |  intersection_update(...)\n",
      " |      Update a set with the intersection of itself and another.\n",
      " |  \n",
      " |  isdisjoint(...)\n",
      " |      Return True if two sets have a null intersection.\n",
      " |  \n",
      " |  issubset(...)\n",
      " |      Report whether another set contains this set.\n",
      " |  \n",
      " |  issuperset(...)\n",
      " |      Report whether this set contains another set.\n",
      " |  \n",
      " |  pop(...)\n",
      " |      Remove and return an arbitrary set element.\n",
      " |      Raises KeyError if the set is empty.\n",
      " |  \n",
      " |  remove(...)\n",
      " |      Remove an element from a set; it must be a member.\n",
      " |      \n",
      " |      If the element is not a member, raise a KeyError.\n",
      " |  \n",
      " |  symmetric_difference(...)\n",
      " |      Return the symmetric difference of two sets as a new set.\n",
      " |      \n",
      " |      (i.e. all elements that are in exactly one of the sets.)\n",
      " |  \n",
      " |  symmetric_difference_update(...)\n",
      " |      Update a set with the symmetric difference of itself and another.\n",
      " |  \n",
      " |  union(...)\n",
      " |      Return the union of sets as a new set.\n",
      " |      \n",
      " |      (i.e. all elements that are in either set.)\n",
      " |  \n",
      " |  update(...)\n",
      " |      Update a set with the union of itself and others.\n",
      " |  \n",
      " |  ----------------------------------------------------------------------\n",
      " |  Data and other attributes defined here:\n",
      " |  \n",
      " |  __hash__ = None\n",
      "\n"
     ]
    }
   ],
   "source": [
    "help(x)"
   ]
  },
  {
   "cell_type": "code",
   "execution_count": 262,
   "metadata": {},
   "outputs": [],
   "source": [
    "z=x.copy()"
   ]
  },
  {
   "cell_type": "code",
   "execution_count": 263,
   "metadata": {},
   "outputs": [
    {
     "data": {
      "text/plain": [
       "{'a', 'm', 'p', 's'}"
      ]
     },
     "execution_count": 263,
     "metadata": {},
     "output_type": "execute_result"
    }
   ],
   "source": [
    "z"
   ]
  },
  {
   "cell_type": "code",
   "execution_count": 266,
   "metadata": {},
   "outputs": [
    {
     "data": {
      "text/plain": [
       "{'a', 'm', 'p', 's'}"
      ]
     },
     "execution_count": 266,
     "metadata": {},
     "output_type": "execute_result"
    }
   ],
   "source": [
    "z.difference(l) #z-l"
   ]
  },
  {
   "cell_type": "code",
   "execution_count": 267,
   "metadata": {},
   "outputs": [
    {
     "data": {
      "text/plain": [
       "{'a', 'm', 'p', 's'}"
      ]
     },
     "execution_count": 267,
     "metadata": {},
     "output_type": "execute_result"
    }
   ],
   "source": [
    "z-l"
   ]
  },
  {
   "cell_type": "code",
   "execution_count": 268,
   "metadata": {},
   "outputs": [
    {
     "data": {
      "text/plain": [
       "True"
      ]
     },
     "execution_count": 268,
     "metadata": {},
     "output_type": "execute_result"
    }
   ],
   "source": [
    "z.isdisjoint(l)  #return true if null intersection"
   ]
  },
  {
   "cell_type": "code",
   "execution_count": 270,
   "metadata": {},
   "outputs": [],
   "source": [
    "z.remove('a')"
   ]
  },
  {
   "cell_type": "code",
   "execution_count": 271,
   "metadata": {},
   "outputs": [
    {
     "data": {
      "text/plain": [
       "{'m', 'p', 's'}"
      ]
     },
     "execution_count": 271,
     "metadata": {},
     "output_type": "execute_result"
    }
   ],
   "source": [
    "z"
   ]
  },
  {
   "cell_type": "code",
   "execution_count": 272,
   "metadata": {},
   "outputs": [],
   "source": [
    "f=frozenset(z)"
   ]
  },
  {
   "cell_type": "code",
   "execution_count": 273,
   "metadata": {},
   "outputs": [
    {
     "data": {
      "text/plain": [
       "frozenset({'m', 'p', 's'})"
      ]
     },
     "execution_count": 273,
     "metadata": {},
     "output_type": "execute_result"
    }
   ],
   "source": [
    "f"
   ]
  },
  {
   "cell_type": "code",
   "execution_count": 274,
   "metadata": {},
   "outputs": [
    {
     "ename": "AttributeError",
     "evalue": "'frozenset' object has no attribute 'add'",
     "output_type": "error",
     "traceback": [
      "\u001b[0;31m---------------------------------------------------------------------------\u001b[0m",
      "\u001b[0;31mAttributeError\u001b[0m                            Traceback (most recent call last)",
      "\u001b[0;32m<ipython-input-274-2411435e39fd>\u001b[0m in \u001b[0;36m<module>\u001b[0;34m()\u001b[0m\n\u001b[0;32m----> 1\u001b[0;31m \u001b[0mf\u001b[0m\u001b[0;34m.\u001b[0m\u001b[0madd\u001b[0m\u001b[0;34m(\u001b[0m\u001b[0;34m\"q\"\u001b[0m\u001b[0;34m)\u001b[0m\u001b[0;34m\u001b[0m\u001b[0m\n\u001b[0m",
      "\u001b[0;31mAttributeError\u001b[0m: 'frozenset' object has no attribute 'add'"
     ]
    }
   ],
   "source": [
    "f.add(\"q\")"
   ]
  },
  {
   "cell_type": "markdown",
   "metadata": {},
   "source": [
    "# MULTITHREADING"
   ]
  },
  {
   "cell_type": "code",
   "execution_count": 1,
   "metadata": {},
   "outputs": [
    {
     "data": {
      "text/plain": [
       "1533100234.604999"
      ]
     },
     "execution_count": 1,
     "metadata": {},
     "output_type": "execute_result"
    }
   ],
   "source": [
    "import time\n",
    "time.time()"
   ]
  },
  {
   "cell_type": "code",
   "execution_count": 2,
   "metadata": {},
   "outputs": [
    {
     "name": "stdout",
     "output_type": "stream",
     "text": [
      "Help on built-in module time:\n",
      "\n",
      "NAME\n",
      "    time - This module provides various functions to manipulate time values.\n",
      "\n",
      "DESCRIPTION\n",
      "    There are two standard representations of time.  One is the number\n",
      "    of seconds since the Epoch, in UTC (a.k.a. GMT).  It may be an integer\n",
      "    or a floating point number (to represent fractions of seconds).\n",
      "    The Epoch is system-defined; on Unix, it is generally January 1st, 1970.\n",
      "    The actual value can be retrieved by calling gmtime(0).\n",
      "    \n",
      "    The other representation is a tuple of 9 integers giving local time.\n",
      "    The tuple items are:\n",
      "      year (including century, e.g. 1998)\n",
      "      month (1-12)\n",
      "      day (1-31)\n",
      "      hours (0-23)\n",
      "      minutes (0-59)\n",
      "      seconds (0-59)\n",
      "      weekday (0-6, Monday is 0)\n",
      "      Julian day (day in the year, 1-366)\n",
      "      DST (Daylight Savings Time) flag (-1, 0 or 1)\n",
      "    If the DST flag is 0, the time is given in the regular time zone;\n",
      "    if it is 1, the time is given in the DST time zone;\n",
      "    if it is -1, mktime() should guess based on the date and time.\n",
      "\n",
      "CLASSES\n",
      "    builtins.tuple(builtins.object)\n",
      "        struct_time\n",
      "    \n",
      "    class struct_time(builtins.tuple)\n",
      "     |  The time value as returned by gmtime(), localtime(), and strptime(), and\n",
      "     |  accepted by asctime(), mktime() and strftime().  May be considered as a\n",
      "     |  sequence of 9 integers.\n",
      "     |  \n",
      "     |  Note that several fields' values are not the same as those defined by\n",
      "     |  the C language standard for struct tm.  For example, the value of the\n",
      "     |  field tm_year is the actual year, not year - 1900.  See individual\n",
      "     |  fields' descriptions for details.\n",
      "     |  \n",
      "     |  Method resolution order:\n",
      "     |      struct_time\n",
      "     |      builtins.tuple\n",
      "     |      builtins.object\n",
      "     |  \n",
      "     |  Methods defined here:\n",
      "     |  \n",
      "     |  __new__(*args, **kwargs) from builtins.type\n",
      "     |      Create and return a new object.  See help(type) for accurate signature.\n",
      "     |  \n",
      "     |  __reduce__(...)\n",
      "     |      helper for pickle\n",
      "     |  \n",
      "     |  __repr__(self, /)\n",
      "     |      Return repr(self).\n",
      "     |  \n",
      "     |  ----------------------------------------------------------------------\n",
      "     |  Data descriptors defined here:\n",
      "     |  \n",
      "     |  tm_gmtoff\n",
      "     |      offset from UTC in seconds\n",
      "     |  \n",
      "     |  tm_hour\n",
      "     |      hours, range [0, 23]\n",
      "     |  \n",
      "     |  tm_isdst\n",
      "     |      1 if summer time is in effect, 0 if not, and -1 if unknown\n",
      "     |  \n",
      "     |  tm_mday\n",
      "     |      day of month, range [1, 31]\n",
      "     |  \n",
      "     |  tm_min\n",
      "     |      minutes, range [0, 59]\n",
      "     |  \n",
      "     |  tm_mon\n",
      "     |      month of year, range [1, 12]\n",
      "     |  \n",
      "     |  tm_sec\n",
      "     |      seconds, range [0, 61])\n",
      "     |  \n",
      "     |  tm_wday\n",
      "     |      day of week, range [0, 6], Monday is 0\n",
      "     |  \n",
      "     |  tm_yday\n",
      "     |      day of year, range [1, 366]\n",
      "     |  \n",
      "     |  tm_year\n",
      "     |      year, for example, 1993\n",
      "     |  \n",
      "     |  tm_zone\n",
      "     |      abbreviation of timezone name\n",
      "     |  \n",
      "     |  ----------------------------------------------------------------------\n",
      "     |  Data and other attributes defined here:\n",
      "     |  \n",
      "     |  n_fields = 11\n",
      "     |  \n",
      "     |  n_sequence_fields = 9\n",
      "     |  \n",
      "     |  n_unnamed_fields = 0\n",
      "     |  \n",
      "     |  ----------------------------------------------------------------------\n",
      "     |  Methods inherited from builtins.tuple:\n",
      "     |  \n",
      "     |  __add__(self, value, /)\n",
      "     |      Return self+value.\n",
      "     |  \n",
      "     |  __contains__(self, key, /)\n",
      "     |      Return key in self.\n",
      "     |  \n",
      "     |  __eq__(self, value, /)\n",
      "     |      Return self==value.\n",
      "     |  \n",
      "     |  __ge__(self, value, /)\n",
      "     |      Return self>=value.\n",
      "     |  \n",
      "     |  __getattribute__(self, name, /)\n",
      "     |      Return getattr(self, name).\n",
      "     |  \n",
      "     |  __getitem__(self, key, /)\n",
      "     |      Return self[key].\n",
      "     |  \n",
      "     |  __getnewargs__(...)\n",
      "     |  \n",
      "     |  __gt__(self, value, /)\n",
      "     |      Return self>value.\n",
      "     |  \n",
      "     |  __hash__(self, /)\n",
      "     |      Return hash(self).\n",
      "     |  \n",
      "     |  __iter__(self, /)\n",
      "     |      Implement iter(self).\n",
      "     |  \n",
      "     |  __le__(self, value, /)\n",
      "     |      Return self<=value.\n",
      "     |  \n",
      "     |  __len__(self, /)\n",
      "     |      Return len(self).\n",
      "     |  \n",
      "     |  __lt__(self, value, /)\n",
      "     |      Return self<value.\n",
      "     |  \n",
      "     |  __mul__(self, value, /)\n",
      "     |      Return self*value.n\n",
      "     |  \n",
      "     |  __ne__(self, value, /)\n",
      "     |      Return self!=value.\n",
      "     |  \n",
      "     |  __rmul__(self, value, /)\n",
      "     |      Return self*value.\n",
      "     |  \n",
      "     |  count(...)\n",
      "     |      T.count(value) -> integer -- return number of occurrences of value\n",
      "     |  \n",
      "     |  index(...)\n",
      "     |      T.index(value, [start, [stop]]) -> integer -- return first index of value.\n",
      "     |      Raises ValueError if the value is not present.\n",
      "\n",
      "FUNCTIONS\n",
      "    asctime(...)\n",
      "        asctime([tuple]) -> string\n",
      "        \n",
      "        Convert a time tuple to a string, e.g. 'Sat Jun 06 16:26:11 1998'.\n",
      "        When the time tuple is not present, current time as returned by localtime()\n",
      "        is used.\n",
      "    \n",
      "    clock(...)\n",
      "        clock() -> floating point number\n",
      "        \n",
      "        Return the CPU time or real time since the start of the process or since\n",
      "        the first call to clock().  This has as much precision as the system\n",
      "        records.\n",
      "    \n",
      "    clock_getres(...)\n",
      "        clock_getres(clk_id) -> floating point number\n",
      "        \n",
      "        Return the resolution (precision) of the specified clock clk_id.\n",
      "    \n",
      "    clock_gettime(...)\n",
      "        clock_gettime(clk_id) -> floating point number\n",
      "        \n",
      "        Return the time of the specified clock clk_id.\n",
      "    \n",
      "    clock_settime(...)\n",
      "        clock_settime(clk_id, time)\n",
      "        \n",
      "        Set the time of the specified clock clk_id.\n",
      "    \n",
      "    ctime(...)\n",
      "        ctime(seconds) -> string\n",
      "        \n",
      "        Convert a time in seconds since the Epoch to a string in local time.\n",
      "        This is equivalent to asctime(localtime(seconds)). When the time tuple is\n",
      "        not present, current time as returned by localtime() is used.\n",
      "    \n",
      "    get_clock_info(...)\n",
      "        get_clock_info(name: str) -> dict\n",
      "        \n",
      "        Get information of the specified clock.\n",
      "    \n",
      "    gmtime(...)\n",
      "        gmtime([seconds]) -> (tm_year, tm_mon, tm_mday, tm_hour, tm_min,\n",
      "                               tm_sec, tm_wday, tm_yday, tm_isdst)\n",
      "        \n",
      "        Convert seconds since the Epoch to a time tuple expressing UTC (a.k.a.\n",
      "        GMT).  When 'seconds' is not passed in, convert the current time instead.\n",
      "        \n",
      "        If the platform supports the tm_gmtoff and tm_zone, they are available as\n",
      "        attributes only.\n",
      "    \n",
      "    localtime(...)\n",
      "        localtime([seconds]) -> (tm_year,tm_mon,tm_mday,tm_hour,tm_min,\n",
      "                                  tm_sec,tm_wday,tm_yday,tm_isdst)\n",
      "        \n",
      "        Convert seconds since the Epoch to a time tuple expressing local time.\n",
      "        When 'seconds' is not passed in, convert the current time instead.\n",
      "    \n",
      "    mktime(...)\n",
      "        mktime(tuple) -> floating point number\n",
      "        \n",
      "        Convert a time tuple in local time to seconds since the Epoch.\n",
      "        Note that mktime(gmtime(0)) will not generally return zero for most\n",
      "        time zones; instead the returned value will either be equal to that\n",
      "        of the timezone or altzone attributes on the time module.\n",
      "    \n",
      "    monotonic(...)\n",
      "        monotonic() -> float\n",
      "        \n",
      "        Monotonic clock, cannot go backward.\n",
      "    \n",
      "    perf_counter(...)\n",
      "        perf_counter() -> float\n",
      "        \n",
      "        Performance counter for benchmarking.\n",
      "    \n",
      "    process_time(...)\n",
      "        process_time() -> float\n",
      "        \n",
      "        Process time for profiling: sum of the kernel and user-space CPU time.\n",
      "    \n",
      "    sleep(...)\n",
      "        sleep(seconds)\n",
      "        \n",
      "        Delay execution for a given number of seconds.  The argument may be\n",
      "        a floating point number for subsecond precision.\n",
      "    \n",
      "    strftime(...)\n",
      "        strftime(format[, tuple]) -> string\n",
      "        \n",
      "        Convert a time tuple to a string according to a format specification.\n",
      "        See the library reference manual for formatting codes. When the time tuple\n",
      "        is not present, current time as returned by localtime() is used.\n",
      "        \n",
      "        Commonly used format codes:\n",
      "        \n",
      "        %Y  Year with century as a decimal number.\n",
      "        %m  Month as a decimal number [01,12].\n",
      "        %d  Day of the month as a decimal number [01,31].\n",
      "        %H  Hour (24-hour clock) as a decimal number [00,23].\n",
      "        %M  Minute as a decimal number [00,59].\n",
      "        %S  Second as a decimal number [00,61].\n",
      "        %z  Time zone offset from UTC.\n",
      "        %a  Locale's abbreviated weekday name.\n",
      "        %A  Locale's full weekday name.\n",
      "        %b  Locale's abbreviated month name.\n",
      "        %B  Locale's full month name.\n",
      "        %c  Locale's appropriate date and time representation.\n",
      "        %I  Hour (12-hour clock) as a decimal number [01,12].\n",
      "        %p  Locale's equivalent of either AM or PM.\n",
      "        \n",
      "        Other codes may be available on your platform.  See documentation for\n",
      "        the C library strftime function.\n",
      "    \n",
      "    strptime(...)\n",
      "        strptime(string, format) -> struct_time\n",
      "        \n",
      "        Parse a string to a time tuple according to a format specification.\n",
      "        See the library reference manual for formatting codes (same as\n",
      "        strftime()).\n",
      "        \n",
      "        Commonly used format codes:\n",
      "        \n",
      "        %Y  Year with century as a decimal number.\n",
      "        %m  Month as a decimal number [01,12].\n",
      "        %d  Day of the month as a decimal number [01,31].\n",
      "        %H  Hour (24-hour clock) as a decimal number [00,23].\n",
      "        %M  Minute as a decimal number [00,59].\n",
      "        %S  Second as a decimal number [00,61].\n",
      "        %z  Time zone offset from UTC.\n",
      "        %a  Locale's abbreviated weekday name.\n",
      "        %A  Locale's full weekday name.\n",
      "        %b  Locale's abbreviated month name.\n",
      "        %B  Locale's full month name.\n",
      "        %c  Locale's appropriate date and time representation.\n",
      "        %I  Hour (12-hour clock) as a decimal number [01,12].\n",
      "        %p  Locale's equivalent of either AM or PM.\n",
      "        \n",
      "        Other codes may be available on your platform.  See documentation for\n",
      "        the C library strftime function.\n",
      "    \n",
      "    time(...)\n",
      "        time() -> floating point number\n",
      "        \n",
      "        Return the current time in seconds since the Epoch.\n",
      "        Fractions of a second may be present if the system clock provides them.\n",
      "    \n",
      "    tzset(...)\n",
      "        tzset()\n",
      "        \n",
      "        Initialize, or reinitialize, the local timezone to the value stored in\n",
      "        os.environ['TZ']. The TZ environment variable should be specified in\n",
      "        standard Unix timezone format as documented in the tzset man page\n",
      "        (eg. 'US/Eastern', 'Europe/Amsterdam'). Unknown timezones will silently\n",
      "        fall back to UTC. If the TZ environment variable is not set, the local\n",
      "        timezone is set to the systems best guess of wallclock time.\n",
      "        Changing the TZ environment variable without calling tzset *may* change\n",
      "        the local timezone used by methods such as localtime, but this behaviour\n",
      "        should not be relied on.\n",
      "\n",
      "DATA\n",
      "    CLOCK_MONOTONIC = 1\n",
      "    CLOCK_MONOTONIC_RAW = 4\n",
      "    CLOCK_PROCESS_CPUTIME_ID = 2\n",
      "    CLOCK_REALTIME = 0\n",
      "    CLOCK_THREAD_CPUTIME_ID = 3\n",
      "    altzone = -19800\n",
      "    daylight = 0\n",
      "    timezone = -19800\n",
      "    tzname = ('IST', 'IST')\n",
      "\n",
      "FILE\n",
      "    (built-in)\n",
      "\n",
      "\n"
     ]
    }
   ],
   "source": [
    "help(time)"
   ]
  },
  {
   "cell_type": "code",
   "execution_count": 3,
   "metadata": {},
   "outputs": [
    {
     "data": {
      "text/plain": [
       "-19800"
      ]
     },
     "execution_count": 3,
     "metadata": {},
     "output_type": "execute_result"
    }
   ],
   "source": [
    "time.timezone"
   ]
  },
  {
   "cell_type": "code",
   "execution_count": 14,
   "metadata": {},
   "outputs": [
    {
     "data": {
      "text/plain": [
       "time.struct_time(tm_year=2018, tm_mon=8, tm_mday=1, tm_hour=11, tm_min=0, tm_sec=44, tm_wday=2, tm_yday=213, tm_isdst=0)"
      ]
     },
     "execution_count": 14,
     "metadata": {},
     "output_type": "execute_result"
    }
   ],
   "source": [
    "time.localtime(time.time())  #get local current time"
   ]
  },
  {
   "cell_type": "code",
   "execution_count": 7,
   "metadata": {},
   "outputs": [
    {
     "data": {
      "text/plain": [
       "'Wed Aug  1 10:46:40 2018'"
      ]
     },
     "execution_count": 7,
     "metadata": {},
     "output_type": "execute_result"
    }
   ],
   "source": [
    "time.asctime( time.localtime(time.time()) )   #in readable format"
   ]
  },
  {
   "cell_type": "markdown",
   "metadata": {},
   "source": [
    "**a thread is a sequence of such instructions within a program that can be executed independently of other code\n",
    "\n",
    "***Multiple threads can exist within one process where:\n",
    "\n",
    "Each thread contains its own register set and local variables (stored in stack).\n",
    "\n",
    "All thread of a process share global variables (stored in heap) and the program code.\n",
    "\n",
    "**In a simple, single-core CPU, it is achieved using frequent switching between threads. This is termed as context switching. In context switching, the state of a thread is saved and state of another thread is loaded whenever any interrupt (due to I/O or manually set) takes place. Context switching takes place so frequently that all the threads appear to be running parallely (this is termed as multitasking).\n",
    "\n",
    "the entire Python program exits when only daemon threads are left.\n",
    "\n",
    "\n",
    "**daemon threads\n",
    "\n",
    "Daemons are only useful when the main program is running, and it's okay to kill them off once the other non-daemon threads have exited. Without daemon threads, we have to keep track of them, and tell them to exit, before our program can completely quit. By setting them as daemon threads, we can let them run and forget about them, and when our program quits, any daemon threads are killed automatically.\n",
    "\n",
    "Usually our main program implicitly waits until all other threads have completed their work. However, sometimes programs spawn a thread as a daemon that runs without blocking the main program from exiting. Using daemon threads is useful for services where there may not be an easy way to interrupt the thread or where letting the thread die in the middle of its work without losing or corrupting data. To designate a thread as a daemon, we call its setDaemon() method with a boolean argument. The default setting for a thread is non-daemon. So, passing True turns the daemon mode on\n",
    "\n",
    "join()\n",
    "\n",
    "To wait until a daemon thread has completed its work, we may want to use join() method.\n",
    "\n",
    "****There's no way to set thread priorities within Python\n",
    "\n",
    "\n"
   ]
  },
  {
   "cell_type": "code",
   "execution_count": 53,
   "metadata": {},
   "outputs": [
    {
     "name": "stdout",
     "output_type": "stream",
     "text": [
      "1533107251.819708\n",
      "hi\n",
      "hi\n",
      "hi\n",
      "hi\n",
      "hi\n",
      "bye\n",
      "bye\n",
      "bye\n",
      "bye\n",
      "bye\n",
      "2.0063579082489014\n"
     ]
    }
   ],
   "source": [
    "import time\n",
    "def a(num):\n",
    "    for i in range(num):\n",
    "        time.sleep(0.2)\n",
    "        print(\"hi\")\n",
    "def b(num):\n",
    "    for j in range(num):\n",
    "        time.sleep(0.2)\n",
    "        print(\"bye\")\n",
    "t=time.time()\n",
    "print(t)\n",
    "a(5)\n",
    "b(5)\n",
    "print(time.time()-t)"
   ]
  },
  {
   "cell_type": "code",
   "execution_count": 135,
   "metadata": {},
   "outputs": [
    {
     "name": "stdout",
     "output_type": "stream",
     "text": [
      "1533124615.7083387\n",
      "140030714550016\n",
      "140030722942720\n",
      "Thread-96\n",
      "Thread-97\n",
      "True\n",
      "False\n",
      "hi\n",
      "bye\n",
      "hi\n",
      "bye\n",
      "hi\n",
      "bye\n",
      "hi\n",
      "bye\n",
      "hi\n",
      "bye\n",
      "False\n",
      "1.0050251483917236\n"
     ]
    }
   ],
   "source": [
    "#by using this time required for program is less\n",
    "#if we not give this time.sleep() then 1st function execute completely and 2nd function will get execute\n",
    "import time\n",
    "import threading\n",
    "lock=threading.Lock()\n",
    "def a(num,lock):\n",
    "    \n",
    "    for i in range(num):\n",
    "        lock.acquire()\n",
    "        time.sleep(0.2)\n",
    "        print(\"hi\")\n",
    "        lock.release()\n",
    "def b(num):\n",
    "    for j in range(num):\n",
    "        time.sleep(0.2)\n",
    "        print(\"bye\")\n",
    "t=time.time()\n",
    "print(t)\n",
    "lock=threading.Lock()\n",
    "t1=threading.Thread(target=a,args=(5,lock))\n",
    "t2=threading.Thread(target=b,args=(5,))\n",
    "\n",
    "t1.start()\n",
    "t2.start()\n",
    "print(t1.ident) #to get thread id\n",
    "\n",
    "print(t2.ident)\n",
    "print(t1.name) #thread name\n",
    "print(t2.name)\n",
    "print (t1.isAlive())\n",
    "t1.Daemon = False\n",
    "print (t1.isDaemon())\n",
    "\n",
    "t1.join()\n",
    "t2.join()\n",
    "print (t1.isAlive())\n",
    "print(time.time()-t)"
   ]
  },
  {
   "cell_type": "code",
   "execution_count": 55,
   "metadata": {},
   "outputs": [
    {
     "name": "stdout",
     "output_type": "stream",
     "text": [
      "Help on Thread in module threading object:\n",
      "\n",
      "class Thread(builtins.object)\n",
      " |  A class that represents a thread of control.\n",
      " |  \n",
      " |  This class can be safely subclassed in a limited fashion. There are two ways\n",
      " |  to specify the activity: by passing a callable object to the constructor, or\n",
      " |  by overriding the run() method in a subclass.\n",
      " |  \n",
      " |  Methods defined here:\n",
      " |  \n",
      " |  __init__(self, group=None, target=None, name=None, args=(), kwargs=None, *, daemon=None)\n",
      " |      This constructor should always be called with keyword arguments. Arguments are:\n",
      " |      \n",
      " |      *group* should be None; reserved for future extension when a ThreadGroup\n",
      " |      class is implemented.\n",
      " |      \n",
      " |      *target* is the callable object to be invoked by the run()\n",
      " |      method. Defaults to None, meaning nothing is called.\n",
      " |      \n",
      " |      *name* is the thread name. By default, a unique name is constructed of\n",
      " |      the form \"Thread-N\" where N is a small decimal number.\n",
      " |      \n",
      " |      *args* is the argument tuple for the target invocation. Defaults to ().\n",
      " |      \n",
      " |      *kwargs* is a dictionary of keyword arguments for the target\n",
      " |      invocation. Defaults to {}.\n",
      " |      \n",
      " |      If a subclass overrides the constructor, it must make sure to invoke\n",
      " |      the base class constructor (Thread.__init__()) before doing anything\n",
      " |      else to the thread.\n",
      " |  \n",
      " |  __repr__(self)\n",
      " |      Return repr(self).\n",
      " |  \n",
      " |  getName(self)\n",
      " |  \n",
      " |  isAlive = is_alive(self)\n",
      " |  \n",
      " |  isDaemon(self)\n",
      " |  \n",
      " |  is_alive(self)\n",
      " |      Return whether the thread is alive.\n",
      " |      \n",
      " |      This method returns True just before the run() method starts until just\n",
      " |      after the run() method terminates. The module function enumerate()\n",
      " |      returns a list of all alive threads.\n",
      " |  \n",
      " |  join(self, timeout=None)\n",
      " |      Wait until the thread terminates.\n",
      " |      \n",
      " |      This blocks the calling thread until the thread whose join() method is\n",
      " |      called terminates -- either normally or through an unhandled exception\n",
      " |      or until the optional timeout occurs.\n",
      " |      \n",
      " |      When the timeout argument is present and not None, it should be a\n",
      " |      floating point number specifying a timeout for the operation in seconds\n",
      " |      (or fractions thereof). As join() always returns None, you must call\n",
      " |      isAlive() after join() to decide whether a timeout happened -- if the\n",
      " |      thread is still alive, the join() call timed out.\n",
      " |      \n",
      " |      When the timeout argument is not present or None, the operation will\n",
      " |      block until the thread terminates.\n",
      " |      \n",
      " |      A thread can be join()ed many times.\n",
      " |      \n",
      " |      join() raises a RuntimeError if an attempt is made to join the current\n",
      " |      thread as that would cause a deadlock. It is also an error to join() a\n",
      " |      thread before it has been started and attempts to do so raises the same\n",
      " |      exception.\n",
      " |  \n",
      " |  run(self)\n",
      " |      Method representing the thread's activity.\n",
      " |      \n",
      " |      You may override this method in a subclass. The standard run() method\n",
      " |      invokes the callable object passed to the object's constructor as the\n",
      " |      target argument, if any, with sequential and keyword arguments taken\n",
      " |      from the args and kwargs arguments, respectively.\n",
      " |  \n",
      " |  setDaemon(self, daemonic)\n",
      " |  \n",
      " |  setName(self, name)\n",
      " |  \n",
      " |  start(self)\n",
      " |      Start the thread's activity.\n",
      " |      \n",
      " |      It must be called at most once per thread object. It arranges for the\n",
      " |      object's run() method to be invoked in a separate thread of control.\n",
      " |      \n",
      " |      This method will raise a RuntimeError if called more than once on the\n",
      " |      same thread object.\n",
      " |  \n",
      " |  ----------------------------------------------------------------------\n",
      " |  Data descriptors defined here:\n",
      " |  \n",
      " |  __dict__\n",
      " |      dictionary for instance variables (if defined)\n",
      " |  \n",
      " |  __weakref__\n",
      " |      list of weak references to the object (if defined)\n",
      " |  \n",
      " |  daemon\n",
      " |      A boolean value indicating whether this thread is a daemon thread.\n",
      " |      \n",
      " |      This must be set before start() is called, otherwise RuntimeError is\n",
      " |      raised. Its initial value is inherited from the creating thread; the\n",
      " |      main thread is not a daemon thread and therefore all threads created in\n",
      " |      the main thread default to daemon = False.\n",
      " |      \n",
      " |      The entire Python program exits when no alive non-daemon threads are\n",
      " |      left.\n",
      " |  \n",
      " |  ident\n",
      " |      Thread identifier of this thread or None if it has not been started.\n",
      " |      \n",
      " |      This is a nonzero integer. See the thread.get_ident() function. Thread\n",
      " |      identifiers may be recycled when a thread exits and another thread is\n",
      " |      created. The identifier is available even after the thread has exited.\n",
      " |  \n",
      " |  name\n",
      " |      A string used for identification purposes only.\n",
      " |      \n",
      " |      It has no semantics. Multiple threads may be given the same name. The\n",
      " |      initial name is set by the constructor.\n",
      "\n"
     ]
    }
   ],
   "source": [
    "help(t1)"
   ]
  },
  {
   "cell_type": "code",
   "execution_count": 19,
   "metadata": {},
   "outputs": [
    {
     "name": "stdout",
     "output_type": "stream",
     "text": [
      "ID of process running main program: 5861\n",
      "Main thread name: MainThread\n",
      "Task 1 assigned to thread: t1\n",
      "ID of process running task 1: 5861\n",
      "Task 2 assigned to thread: t2\n",
      "ID of process running task 2: 5861\n"
     ]
    },
    {
     "name": "stderr",
     "output_type": "stream",
     "text": [
      "Exception in thread t1:\n",
      "Traceback (most recent call last):\n",
      "  File \"/home/pratiksha/anaconda3/lib/python3.6/threading.py\", line 916, in _bootstrap_inner\n",
      "    self.run()\n",
      "  File \"/home/pratiksha/anaconda3/lib/python3.6/threading.py\", line 864, in run\n",
      "    self._target(*self._args, **self._kwargs)\n",
      "  File \"<ipython-input-19-7447d3171df5>\", line 9, in task1\n",
      "    print(\"ID of process running task 1: {}\".format(os.gettid()))\n",
      "AttributeError: module 'os' has no attribute 'gettid'\n",
      "\n",
      "Exception in thread t2:\n",
      "Traceback (most recent call last):\n",
      "  File \"/home/pratiksha/anaconda3/lib/python3.6/threading.py\", line 916, in _bootstrap_inner\n",
      "    self.run()\n",
      "  File \"/home/pratiksha/anaconda3/lib/python3.6/threading.py\", line 864, in run\n",
      "    self._target(*self._args, **self._kwargs)\n",
      "  File \"<ipython-input-19-7447d3171df5>\", line 14, in task2\n",
      "    print(\"ID of process running task 2: {}\".format(os.gettid()))\n",
      "AttributeError: module 'os' has no attribute 'gettid'\n",
      "\n"
     ]
    }
   ],
   "source": [
    "# Python program to illustrate the concept\n",
    "# of threading\n",
    "import threading\n",
    "import os\n",
    " \n",
    "def task1():\n",
    "    print(\"Task 1 assigned to thread: {}\".format(threading.current_thread().name))\n",
    "    print(\"ID of process running task 1: {}\".format(os.getpid()))\n",
    "    print(\"ID of process running task 1: {}\".format(os.gettid()))\n",
    " \n",
    "def task2():\n",
    "    print(\"Task 2 assigned to thread: {}\".format(threading.current_thread().name))\n",
    "    print(\"ID of process running task 2: {}\".format(os.getpid()))\n",
    "    print(\"ID of process running task 2: {}\".format(os.gettid()))\n",
    " \n",
    "if __name__ == \"__main__\":\n",
    " \n",
    "    # print ID of current process\n",
    "    print(\"ID of process running main program: {}\".format(os.getpid()))\n",
    " \n",
    "    # print name of main thread\n",
    "    print(\"Main thread name: {}\".format(threading.main_thread().name))\n",
    " \n",
    "    # creating threads\n",
    "    t1 = threading.Thread(target=task1, name='t1')\n",
    "    t2 = threading.Thread(target=task2, name='t2')  \n",
    " \n",
    "    # starting threads\n",
    "    t1.start()\n",
    "    t2.start()\n",
    " \n",
    "    # wait until all threads finish\n",
    "    t1.join()\n",
    "    t2.join()"
   ]
  },
  {
   "cell_type": "markdown",
   "metadata": {},
   "source": [
    "The latest threading module provides rich features and greater support for threads than the legacy thread module "
   ]
  },
  {
   "cell_type": "markdown",
   "metadata": {},
   "source": [
    "2.1- Steps To Implement Threads Using The Threading Module.\n",
    "\n",
    "You may follow the below steps to implement a new thread using the <threading> module.\n",
    "\n",
    "Construct a subclass from the <Thread> class.\n",
    "    \n",
    "Override the <__init__(self [,args])> method to supply arguments as per requirements.\n",
    "\n",
    "Next, override the <run(self [,args])> method to code the business logic of the thread.\n",
    "\n",
    "Once you define the new <Thread> subclass, you have to instantiate it to start a new thread. Then, invoke the <start()> method to initiate it. It will eventually call the <run()> method to execute the business logic.\n",
    "\n"
   ]
  },
  {
   "cell_type": "code",
   "execution_count": 21,
   "metadata": {},
   "outputs": [
    {
     "name": "stdout",
     "output_type": "stream",
     "text": [
      "Starting Thread\n",
      "Thread[1]: 2018-08-01\n",
      "Exiting Thread\n",
      "Starting Thread\n",
      "Thread[2]: 2018-08-01\n",
      "Exiting Thread\n",
      "Exiting the Program!!!\n"
     ]
    }
   ],
   "source": [
    "import threading\n",
    "import datetime\n",
    "\n",
    "class myThread (threading.Thread): #inherite from Thread class\n",
    "    def __init__(self, name, counter):\n",
    "        threading.Thread.__init__(self)\n",
    "        self.threadID = counter\n",
    "        self.name = name\n",
    "        self.counter = counter\n",
    "    def run(self):\n",
    "        print (\"Starting \" + self.name)\n",
    "        print_date(self.name, self.counter)\n",
    "        print (\"Exiting \" + self.name)\n",
    "\n",
    "def print_date(threadName, counter):\n",
    "    datefields = []\n",
    "    today = datetime.date.today()\n",
    "    datefields.append(today)\n",
    "    print (\"%s[%d]: %s\" % ( threadName, counter, datefields[0] ))\n",
    "\n",
    "# Create new threads\n",
    "thread1 = myThread(\"Thread\", 1)\n",
    "thread2 = myThread(\"Thread\", 2)\n",
    "\n",
    "# Start new Threads\n",
    "thread1.start()\n",
    "thread2.start()\n",
    "\n",
    "thread1.join()\n",
    "thread2.join()\n",
    "print (\"Exiting the Program!!!\")\n"
   ]
  },
  {
   "cell_type": "code",
   "execution_count": 111,
   "metadata": {},
   "outputs": [
    {
     "name": "stdout",
     "output_type": "stream",
     "text": [
      "1533117152.6281643\n",
      "[0, 1, 4, 9, 16, 6, 7]\n"
     ]
    }
   ],
   "source": [
    "import time\n",
    "import threading\n",
    "result = [1,2,3,4,5,6,7]\n",
    "\n",
    "def a(num):\n",
    "    i=0\n",
    "    global result\n",
    "    time.sleep(0.2)\n",
    "    for i in range(num):\n",
    "        result[i]= i*i\n",
    "   \n",
    "       \n",
    "\n",
    "t=time.time()\n",
    "print(t)\n",
    "\n",
    "t1=threading.Thread(target=a,args=(5,))\n",
    "\n",
    "#t2=multiprocessing.Process(target=b,args=(5,))\n",
    "\n",
    "t1.start()\n",
    "\n",
    "\n",
    "t1.join()\n",
    "print (result[:])\n",
    "\n",
    "    "
   ]
  },
  {
   "cell_type": "markdown",
   "metadata": {},
   "source": [
    "# multiprocessing "
   ]
  },
  {
   "cell_type": "code",
   "execution_count": 70,
   "metadata": {},
   "outputs": [
    {
     "name": "stdout",
     "output_type": "stream",
     "text": [
      "1533110167.071884\n",
      "9570\n",
      "9571\n",
      "9571\n",
      "Process-13\n",
      "Process-14\n",
      "[]\n",
      "hi\n",
      "bye\n",
      "['hi']\n",
      "hi\n",
      "['hi', 'hi']\n",
      "bye\n",
      "hi\n",
      "bye\n",
      "['hi', 'hi', 'hi']\n",
      "hi\n",
      "bye\n",
      "['hi', 'hi', 'hi', 'hi']\n",
      "bye\n",
      "hi\n",
      "['hi', 'hi', 'hi', 'hi', 'hi']\n",
      "1.0275225639343262\n"
     ]
    }
   ],
   "source": [
    "#if we not give this time.sleep() then 1st function execute completely and 2nd function will get execute\n",
    "import time\n",
    "import multiprocessing\n",
    "result = []\n",
    "\n",
    "def a(num):\n",
    "    global result\n",
    "    for i in range(num):\n",
    "        \n",
    "        time.sleep(0.2)\n",
    "        print(\"hi\")\n",
    "        result.append(\"hi\")\n",
    "        print (result)\n",
    "       \n",
    "def b(num):\n",
    "    for j in range(num):\n",
    "        time.sleep(0.2)\n",
    "        print(\"bye\")\n",
    "t=time.time()\n",
    "print(t)\n",
    "t1=multiprocessing.Process(target=a,args=(5,))\n",
    "t2=multiprocessing.Process(target=b,args=(5,))\n",
    "\n",
    "t1.start()\n",
    "t2.start()\n",
    "print(t1.ident) #to get thread id\n",
    "\n",
    "print(t2.ident)\n",
    "\n",
    "print(t2.pid)\n",
    "print(t1.name) #thread name\n",
    "print(t2.name)\n",
    "print (result)\n",
    "\n",
    "t1.join()\n",
    "t2.join()\n",
    "\n",
    "print(time.time()-t)"
   ]
  },
  {
   "cell_type": "code",
   "execution_count": 65,
   "metadata": {},
   "outputs": [
    {
     "name": "stdout",
     "output_type": "stream",
     "text": [
      "Help on Process in module multiprocessing.context object:\n",
      "\n",
      "class Process(multiprocessing.process.BaseProcess)\n",
      " |  Process objects represent activity that is run in a separate process\n",
      " |  \n",
      " |  The class is analogous to `threading.Thread`\n",
      " |  \n",
      " |  Method resolution order:\n",
      " |      Process\n",
      " |      multiprocessing.process.BaseProcess\n",
      " |      builtins.object\n",
      " |  \n",
      " |  Methods inherited from multiprocessing.process.BaseProcess:\n",
      " |  \n",
      " |  __init__(self, group=None, target=None, name=None, args=(), kwargs={}, *, daemon=None)\n",
      " |      Initialize self.  See help(type(self)) for accurate signature.\n",
      " |  \n",
      " |  __repr__(self)\n",
      " |      Return repr(self).\n",
      " |  \n",
      " |  is_alive(self)\n",
      " |      Return whether process is alive\n",
      " |  \n",
      " |  join(self, timeout=None)\n",
      " |      Wait until child process terminates\n",
      " |  \n",
      " |  run(self)\n",
      " |      Method to be run in sub-process; can be overridden in sub-class\n",
      " |  \n",
      " |  start(self)\n",
      " |      Start child process\n",
      " |  \n",
      " |  terminate(self)\n",
      " |      Terminate process; sends SIGTERM signal or uses TerminateProcess()\n",
      " |  \n",
      " |  ----------------------------------------------------------------------\n",
      " |  Data descriptors inherited from multiprocessing.process.BaseProcess:\n",
      " |  \n",
      " |  __dict__\n",
      " |      dictionary for instance variables (if defined)\n",
      " |  \n",
      " |  __weakref__\n",
      " |      list of weak references to the object (if defined)\n",
      " |  \n",
      " |  authkey\n",
      " |  \n",
      " |  daemon\n",
      " |      Return whether process is a daemon\n",
      " |  \n",
      " |  exitcode\n",
      " |      Return exit code of process or `None` if it has yet to stop\n",
      " |  \n",
      " |  ident\n",
      " |      Return identifier (PID) of process or `None` if it has yet to start\n",
      " |  \n",
      " |  name\n",
      " |  \n",
      " |  pid\n",
      " |      Return identifier (PID) of process or `None` if it has yet to start\n",
      " |  \n",
      " |  sentinel\n",
      " |      Return a file descriptor (Unix) or handle (Windows) suitable for\n",
      " |      waiting for process termination.\n",
      "\n"
     ]
    }
   ],
   "source": [
    "help(t1)"
   ]
  },
  {
   "cell_type": "markdown",
   "metadata": {},
   "source": [
    "each process have its own memory and so to share data betweeen process array and value used "
   ]
  },
  {
   "cell_type": "markdown",
   "metadata": {},
   "source": [
    "by using array"
   ]
  },
  {
   "cell_type": "code",
   "execution_count": 98,
   "metadata": {},
   "outputs": [
    {
     "name": "stdout",
     "output_type": "stream",
     "text": [
      "1533116613.4934747\n",
      "hi\n",
      "hi\n",
      "hi\n",
      "hi\n",
      "hi\n",
      "[0, 1, 2, 3, 4]\n"
     ]
    }
   ],
   "source": [
    "import time\n",
    "import multiprocessing\n",
    "result = []\n",
    "\n",
    "def a(num,result):\n",
    "    \n",
    "    for i in range(num):\n",
    "        \n",
    "        time.sleep(0.2)\n",
    "        print(\"hi\")\n",
    "        for i in range(num):\n",
    "            result[i]= i\n",
    "        #print (result)\n",
    "       \n",
    "\n",
    "t=time.time()\n",
    "print(t)\n",
    "result = multiprocessing.Array(\"i\",5)\n",
    "t1=multiprocessing.Process(target=a,args=(5,result))\n",
    "\n",
    "#t2=multiprocessing.Process(target=b,args=(5,))\n",
    "\n",
    "t1.start()\n",
    "\n",
    "\n",
    "t1.join()\n",
    "\n",
    "print (result[:])\n",
    "\n"
   ]
  },
  {
   "cell_type": "code",
   "execution_count": 95,
   "metadata": {},
   "outputs": [
    {
     "name": "stdout",
     "output_type": "stream",
     "text": [
      "Help on package multiprocessing:\n",
      "\n",
      "NAME\n",
      "    multiprocessing\n",
      "\n",
      "MODULE REFERENCE\n",
      "    https://docs.python.org/3.6/library/multiprocessing\n",
      "    \n",
      "    The following documentation is automatically generated from the Python\n",
      "    source files.  It may be incomplete, incorrect or include features that\n",
      "    are considered implementation detail and may vary between Python\n",
      "    implementations.  When in doubt, consult the module reference at the\n",
      "    location listed above.\n",
      "\n",
      "DESCRIPTION\n",
      "    # Package analogous to 'threading.py' but using processes\n",
      "    #\n",
      "    # multiprocessing/__init__.py\n",
      "    #\n",
      "    # This package is intended to duplicate the functionality (and much of\n",
      "    # the API) of threading.py but uses processes instead of threads.  A\n",
      "    # subpackage 'multiprocessing.dummy' has the same API but is a simple\n",
      "    # wrapper for 'threading'.\n",
      "    #\n",
      "    # Copyright (c) 2006-2008, R Oudkerk\n",
      "    # Licensed to PSF under a Contributor Agreement.\n",
      "    #\n",
      "\n",
      "PACKAGE CONTENTS\n",
      "    connection\n",
      "    context\n",
      "    dummy (package)\n",
      "    forkserver\n",
      "    heap\n",
      "    managers\n",
      "    pool\n",
      "    popen_fork\n",
      "    popen_forkserver\n",
      "    popen_spawn_posix\n",
      "    popen_spawn_win32\n",
      "    process\n",
      "    queues\n",
      "    reduction\n",
      "    resource_sharer\n",
      "    semaphore_tracker\n",
      "    sharedctypes\n",
      "    spawn\n",
      "    synchronize\n",
      "    util\n",
      "\n",
      "SUBMODULES\n",
      "    reducer\n",
      "\n",
      "CLASSES\n",
      "    builtins.Exception(builtins.BaseException)\n",
      "        multiprocessing.context.ProcessError\n",
      "            multiprocessing.context.AuthenticationError\n",
      "            multiprocessing.context.BufferTooShort\n",
      "            multiprocessing.context.TimeoutError\n",
      "    multiprocessing.process.BaseProcess(builtins.object)\n",
      "        multiprocessing.context.Process\n",
      "    \n",
      "    class AuthenticationError(ProcessError)\n",
      "     |  Common base class for all non-exit exceptions.\n",
      "     |  \n",
      "     |  Method resolution order:\n",
      "     |      AuthenticationError\n",
      "     |      ProcessError\n",
      "     |      builtins.Exception\n",
      "     |      builtins.BaseException\n",
      "     |      builtins.object\n",
      "     |  \n",
      "     |  Data descriptors inherited from ProcessError:\n",
      "     |  \n",
      "     |  __weakref__\n",
      "     |      list of weak references to the object (if defined)\n",
      "     |  \n",
      "     |  ----------------------------------------------------------------------\n",
      "     |  Methods inherited from builtins.Exception:\n",
      "     |  \n",
      "     |  __init__(self, /, *args, **kwargs)\n",
      "     |      Initialize self.  See help(type(self)) for accurate signature.\n",
      "     |  \n",
      "     |  __new__(*args, **kwargs) from builtins.type\n",
      "     |      Create and return a new object.  See help(type) for accurate signature.\n",
      "     |  \n",
      "     |  ----------------------------------------------------------------------\n",
      "     |  Methods inherited from builtins.BaseException:\n",
      "     |  \n",
      "     |  __delattr__(self, name, /)\n",
      "     |      Implement delattr(self, name).\n",
      "     |  \n",
      "     |  __getattribute__(self, name, /)\n",
      "     |      Return getattr(self, name).\n",
      "     |  \n",
      "     |  __reduce__(...)\n",
      "     |      helper for pickle\n",
      "     |  \n",
      "     |  __repr__(self, /)\n",
      "     |      Return repr(self).\n",
      "     |  \n",
      "     |  __setattr__(self, name, value, /)\n",
      "     |      Implement setattr(self, name, value).\n",
      "     |  \n",
      "     |  __setstate__(...)\n",
      "     |  \n",
      "     |  __str__(self, /)\n",
      "     |      Return str(self).\n",
      "     |  \n",
      "     |  with_traceback(...)\n",
      "     |      Exception.with_traceback(tb) --\n",
      "     |      set self.__traceback__ to tb and return self.\n",
      "     |  \n",
      "     |  ----------------------------------------------------------------------\n",
      "     |  Data descriptors inherited from builtins.BaseException:\n",
      "     |  \n",
      "     |  __cause__\n",
      "     |      exception cause\n",
      "     |  \n",
      "     |  __context__\n",
      "     |      exception context\n",
      "     |  \n",
      "     |  __dict__\n",
      "     |  \n",
      "     |  __suppress_context__\n",
      "     |  \n",
      "     |  __traceback__\n",
      "     |  \n",
      "     |  args\n",
      "    \n",
      "    class BufferTooShort(ProcessError)\n",
      "     |  Common base class for all non-exit exceptions.\n",
      "     |  \n",
      "     |  Method resolution order:\n",
      "     |      BufferTooShort\n",
      "     |      ProcessError\n",
      "     |      builtins.Exception\n",
      "     |      builtins.BaseException\n",
      "     |      builtins.object\n",
      "     |  \n",
      "     |  Data descriptors inherited from ProcessError:\n",
      "     |  \n",
      "     |  __weakref__\n",
      "     |      list of weak references to the object (if defined)\n",
      "     |  \n",
      "     |  ----------------------------------------------------------------------\n",
      "     |  Methods inherited from builtins.Exception:\n",
      "     |  \n",
      "     |  __init__(self, /, *args, **kwargs)\n",
      "     |      Initialize self.  See help(type(self)) for accurate signature.\n",
      "     |  \n",
      "     |  __new__(*args, **kwargs) from builtins.type\n",
      "     |      Create and return a new object.  See help(type) for accurate signature.\n",
      "     |  \n",
      "     |  ----------------------------------------------------------------------\n",
      "     |  Methods inherited from builtins.BaseException:\n",
      "     |  \n",
      "     |  __delattr__(self, name, /)\n",
      "     |      Implement delattr(self, name).\n",
      "     |  \n",
      "     |  __getattribute__(self, name, /)\n",
      "     |      Return getattr(self, name).\n",
      "     |  \n",
      "     |  __reduce__(...)\n",
      "     |      helper for pickle\n",
      "     |  \n",
      "     |  __repr__(self, /)\n",
      "     |      Return repr(self).\n",
      "     |  \n",
      "     |  __setattr__(self, name, value, /)\n",
      "     |      Implement setattr(self, name, value).\n",
      "     |  \n",
      "     |  __setstate__(...)\n",
      "     |  \n",
      "     |  __str__(self, /)\n",
      "     |      Return str(self).\n",
      "     |  \n",
      "     |  with_traceback(...)\n",
      "     |      Exception.with_traceback(tb) --\n",
      "     |      set self.__traceback__ to tb and return self.\n",
      "     |  \n",
      "     |  ----------------------------------------------------------------------\n",
      "     |  Data descriptors inherited from builtins.BaseException:\n",
      "     |  \n",
      "     |  __cause__\n",
      "     |      exception cause\n",
      "     |  \n",
      "     |  __context__\n",
      "     |      exception context\n",
      "     |  \n",
      "     |  __dict__\n",
      "     |  \n",
      "     |  __suppress_context__\n",
      "     |  \n",
      "     |  __traceback__\n",
      "     |  \n",
      "     |  args\n",
      "    \n",
      "    class Process(multiprocessing.process.BaseProcess)\n",
      "     |  Process objects represent activity that is run in a separate process\n",
      "     |  \n",
      "     |  The class is analogous to `threading.Thread`\n",
      "     |  \n",
      "     |  Method resolution order:\n",
      "     |      Process\n",
      "     |      multiprocessing.process.BaseProcess\n",
      "     |      builtins.object\n",
      "     |  \n",
      "     |  Methods inherited from multiprocessing.process.BaseProcess:\n",
      "     |  \n",
      "     |  __init__(self, group=None, target=None, name=None, args=(), kwargs={}, *, daemon=None)\n",
      "     |      Initialize self.  See help(type(self)) for accurate signature.\n",
      "     |  \n",
      "     |  __repr__(self)\n",
      "     |      Return repr(self).\n",
      "     |  \n",
      "     |  is_alive(self)\n",
      "     |      Return whether process is alive\n",
      "     |  \n",
      "     |  join(self, timeout=None)\n",
      "     |      Wait until child process terminates\n",
      "     |  \n",
      "     |  run(self)\n",
      "     |      Method to be run in sub-process; can be overridden in sub-class\n",
      "     |  \n",
      "     |  start(self)\n",
      "     |      Start child process\n",
      "     |  \n",
      "     |  terminate(self)\n",
      "     |      Terminate process; sends SIGTERM signal or uses TerminateProcess()\n",
      "     |  \n",
      "     |  ----------------------------------------------------------------------\n",
      "     |  Data descriptors inherited from multiprocessing.process.BaseProcess:\n",
      "     |  \n",
      "     |  __dict__\n",
      "     |      dictionary for instance variables (if defined)\n",
      "     |  \n",
      "     |  __weakref__\n",
      "     |      list of weak references to the object (if defined)\n",
      "     |  \n",
      "     |  authkey\n",
      "     |  \n",
      "     |  daemon\n",
      "     |      Return whether process is a daemon\n",
      "     |  \n",
      "     |  exitcode\n",
      "     |      Return exit code of process or `None` if it has yet to stop\n",
      "     |  \n",
      "     |  ident\n",
      "     |      Return identifier (PID) of process or `None` if it has yet to start\n",
      "     |  \n",
      "     |  name\n",
      "     |  \n",
      "     |  pid\n",
      "     |      Return identifier (PID) of process or `None` if it has yet to start\n",
      "     |  \n",
      "     |  sentinel\n",
      "     |      Return a file descriptor (Unix) or handle (Windows) suitable for\n",
      "     |      waiting for process termination.\n",
      "    \n",
      "    class ProcessError(builtins.Exception)\n",
      "     |  Common base class for all non-exit exceptions.\n",
      "     |  \n",
      "     |  Method resolution order:\n",
      "     |      ProcessError\n",
      "     |      builtins.Exception\n",
      "     |      builtins.BaseException\n",
      "     |      builtins.object\n",
      "     |  \n",
      "     |  Data descriptors defined here:\n",
      "     |  \n",
      "     |  __weakref__\n",
      "     |      list of weak references to the object (if defined)\n",
      "     |  \n",
      "     |  ----------------------------------------------------------------------\n",
      "     |  Methods inherited from builtins.Exception:\n",
      "     |  \n",
      "     |  __init__(self, /, *args, **kwargs)\n",
      "     |      Initialize self.  See help(type(self)) for accurate signature.\n",
      "     |  \n",
      "     |  __new__(*args, **kwargs) from builtins.type\n",
      "     |      Create and return a new object.  See help(type) for accurate signature.\n",
      "     |  \n",
      "     |  ----------------------------------------------------------------------\n",
      "     |  Methods inherited from builtins.BaseException:\n",
      "     |  \n",
      "     |  __delattr__(self, name, /)\n",
      "     |      Implement delattr(self, name).\n",
      "     |  \n",
      "     |  __getattribute__(self, name, /)\n",
      "     |      Return getattr(self, name).\n",
      "     |  \n",
      "     |  __reduce__(...)\n",
      "     |      helper for pickle\n",
      "     |  \n",
      "     |  __repr__(self, /)\n",
      "     |      Return repr(self).\n",
      "     |  \n",
      "     |  __setattr__(self, name, value, /)\n",
      "     |      Implement setattr(self, name, value).\n",
      "     |  \n",
      "     |  __setstate__(...)\n",
      "     |  \n",
      "     |  __str__(self, /)\n",
      "     |      Return str(self).\n",
      "     |  \n",
      "     |  with_traceback(...)\n",
      "     |      Exception.with_traceback(tb) --\n",
      "     |      set self.__traceback__ to tb and return self.\n",
      "     |  \n",
      "     |  ----------------------------------------------------------------------\n",
      "     |  Data descriptors inherited from builtins.BaseException:\n",
      "     |  \n",
      "     |  __cause__\n",
      "     |      exception cause\n",
      "     |  \n",
      "     |  __context__\n",
      "     |      exception context\n",
      "     |  \n",
      "     |  __dict__\n",
      "     |  \n",
      "     |  __suppress_context__\n",
      "     |  \n",
      "     |  __traceback__\n",
      "     |  \n",
      "     |  args\n",
      "    \n",
      "    class TimeoutError(ProcessError)\n",
      "     |  Common base class for all non-exit exceptions.\n",
      "     |  \n",
      "     |  Method resolution order:\n",
      "     |      TimeoutError\n",
      "     |      ProcessError\n",
      "     |      builtins.Exception\n",
      "     |      builtins.BaseException\n",
      "     |      builtins.object\n",
      "     |  \n",
      "     |  Data descriptors inherited from ProcessError:\n",
      "     |  \n",
      "     |  __weakref__\n",
      "     |      list of weak references to the object (if defined)\n",
      "     |  \n",
      "     |  ----------------------------------------------------------------------\n",
      "     |  Methods inherited from builtins.Exception:\n",
      "     |  \n",
      "     |  __init__(self, /, *args, **kwargs)\n",
      "     |      Initialize self.  See help(type(self)) for accurate signature.\n",
      "     |  \n",
      "     |  __new__(*args, **kwargs) from builtins.type\n",
      "     |      Create and return a new object.  See help(type) for accurate signature.\n",
      "     |  \n",
      "     |  ----------------------------------------------------------------------\n",
      "     |  Methods inherited from builtins.BaseException:\n",
      "     |  \n",
      "     |  __delattr__(self, name, /)\n",
      "     |      Implement delattr(self, name).\n",
      "     |  \n",
      "     |  __getattribute__(self, name, /)\n",
      "     |      Return getattr(self, name).\n",
      "     |  \n",
      "     |  __reduce__(...)\n",
      "     |      helper for pickle\n",
      "     |  \n",
      "     |  __repr__(self, /)\n",
      "     |      Return repr(self).\n",
      "     |  \n",
      "     |  __setattr__(self, name, value, /)\n",
      "     |      Implement setattr(self, name, value).\n",
      "     |  \n",
      "     |  __setstate__(...)\n",
      "     |  \n",
      "     |  __str__(self, /)\n",
      "     |      Return str(self).\n",
      "     |  \n",
      "     |  with_traceback(...)\n",
      "     |      Exception.with_traceback(tb) --\n",
      "     |      set self.__traceback__ to tb and return self.\n",
      "     |  \n",
      "     |  ----------------------------------------------------------------------\n",
      "     |  Data descriptors inherited from builtins.BaseException:\n",
      "     |  \n",
      "     |  __cause__\n",
      "     |      exception cause\n",
      "     |  \n",
      "     |  __context__\n",
      "     |      exception context\n",
      "     |  \n",
      "     |  __dict__\n",
      "     |  \n",
      "     |  __suppress_context__\n",
      "     |  \n",
      "     |  __traceback__\n",
      "     |  \n",
      "     |  args\n",
      "\n",
      "FUNCTIONS\n",
      "    Array(typecode_or_type, size_or_initializer, *, lock=True) method of multiprocessing.context.DefaultContext instance\n",
      "        Returns a synchronized shared array\n",
      "    \n",
      "    Barrier(parties, action=None, timeout=None) method of multiprocessing.context.DefaultContext instance\n",
      "        Returns a barrier object\n",
      "    \n",
      "    BoundedSemaphore(value=1) method of multiprocessing.context.DefaultContext instance\n",
      "        Returns a bounded semaphore object\n",
      "    \n",
      "    Condition(lock=None) method of multiprocessing.context.DefaultContext instance\n",
      "        Returns a condition object\n",
      "    \n",
      "    Event() method of multiprocessing.context.DefaultContext instance\n",
      "        Returns an event object\n",
      "    \n",
      "    JoinableQueue(maxsize=0) method of multiprocessing.context.DefaultContext instance\n",
      "        Returns a queue object\n",
      "    \n",
      "    Lock() method of multiprocessing.context.DefaultContext instance\n",
      "        Returns a non-recursive lock object\n",
      "    \n",
      "    Manager() method of multiprocessing.context.DefaultContext instance\n",
      "        Returns a manager associated with a running server process\n",
      "        \n",
      "        The managers methods such as `Lock()`, `Condition()` and `Queue()`\n",
      "        can be used to create shared objects.\n",
      "    \n",
      "    Pipe(duplex=True) method of multiprocessing.context.DefaultContext instance\n",
      "        Returns two connection object connected by a pipe\n",
      "    \n",
      "    Pool(processes=None, initializer=None, initargs=(), maxtasksperchild=None) method of multiprocessing.context.DefaultContext instance\n",
      "        Returns a process pool object\n",
      "    \n",
      "    Queue(maxsize=0) method of multiprocessing.context.DefaultContext instance\n",
      "        Returns a queue object\n",
      "    \n",
      "    RLock() method of multiprocessing.context.DefaultContext instance\n",
      "        Returns a recursive lock object\n",
      "    \n",
      "    RawArray(typecode_or_type, size_or_initializer) method of multiprocessing.context.DefaultContext instance\n",
      "        Returns a shared array\n",
      "    \n",
      "    RawValue(typecode_or_type, *args) method of multiprocessing.context.DefaultContext instance\n",
      "        Returns a shared object\n",
      "    \n",
      "    Semaphore(value=1) method of multiprocessing.context.DefaultContext instance\n",
      "        Returns a semaphore object\n",
      "    \n",
      "    SimpleQueue() method of multiprocessing.context.DefaultContext instance\n",
      "        Returns a queue object\n",
      "    \n",
      "    Value(typecode_or_type, *args, lock=True) method of multiprocessing.context.DefaultContext instance\n",
      "        Returns a synchronized shared object\n",
      "    \n",
      "    active_children()\n",
      "        Return list of process objects corresponding to live child processes\n",
      "    \n",
      "    allow_connection_pickling() method of multiprocessing.context.DefaultContext instance\n",
      "        Install support for sending connections and sockets\n",
      "        between processes\n",
      "    \n",
      "    cpu_count() method of multiprocessing.context.DefaultContext instance\n",
      "        Returns the number of CPUs in the system\n",
      "    \n",
      "    current_process()\n",
      "        Return process object representing the current process\n",
      "    \n",
      "    freeze_support() method of multiprocessing.context.DefaultContext instance\n",
      "        Check whether this is a fake forked process in a frozen executable.\n",
      "        If so then run code specified by commandline and exit.\n",
      "    \n",
      "    get_all_start_methods() method of multiprocessing.context.DefaultContext instance\n",
      "    \n",
      "    get_context(method=None) method of multiprocessing.context.DefaultContext instance\n",
      "    \n",
      "    get_logger() method of multiprocessing.context.DefaultContext instance\n",
      "        Return package logger -- if it does not already exist then\n",
      "        it is created.\n",
      "    \n",
      "    get_start_method(allow_none=False) method of multiprocessing.context.DefaultContext instance\n",
      "    \n",
      "    log_to_stderr(level=None) method of multiprocessing.context.DefaultContext instance\n",
      "        Turn on logging and add a handler which prints to stderr\n",
      "    \n",
      "    set_executable(executable) method of multiprocessing.context.DefaultContext instance\n",
      "        Sets the path to a python.exe or pythonw.exe binary used to run\n",
      "        child processes instead of sys.executable when using the 'spawn'\n",
      "        start method.  Useful for people embedding Python.\n",
      "    \n",
      "    set_forkserver_preload(module_names) method of multiprocessing.context.DefaultContext instance\n",
      "        Set list of module names to try to load in forkserver process.\n",
      "        This is really just a hint.\n",
      "    \n",
      "    set_start_method(method, force=False) method of multiprocessing.context.DefaultContext instance\n",
      "\n",
      "DATA\n",
      "    __all__ = ['Array', 'AuthenticationError', 'Barrier', 'BoundedSemaphor...\n",
      "\n",
      "FILE\n",
      "    /home/pratiksha/anaconda3/lib/python3.6/multiprocessing/__init__.py\n",
      "\n",
      "\n"
     ]
    }
   ],
   "source": [
    "help(multiprocessing)"
   ]
  },
  {
   "cell_type": "code",
   "execution_count": 113,
   "metadata": {},
   "outputs": [
    {
     "name": "stdout",
     "output_type": "stream",
     "text": [
      "1533117378.6909502\n",
      "hi\n",
      "hi\n",
      "hi\n",
      "hi\n",
      "hi\n",
      "0\n",
      "1\n",
      "2\n",
      "3\n",
      "4\n",
      "0\n",
      "1\n",
      "2\n",
      "3\n",
      "4\n",
      "0\n",
      "1\n",
      "2\n",
      "3\n",
      "4\n",
      "0\n",
      "1\n",
      "2\n",
      "3\n",
      "4\n",
      "0\n",
      "1\n",
      "2\n",
      "3\n",
      "4\n"
     ]
    }
   ],
   "source": [
    "import time\n",
    "import multiprocessing\n",
    "result = []\n",
    "\n",
    "def a(num,result):\n",
    "    \n",
    "    for i in range(num):\n",
    "        \n",
    "        time.sleep(0.2)\n",
    "        print(\"hi\")\n",
    "        for i in range(num):\n",
    "            result.put(i)\n",
    "        #print (result)\n",
    "       \n",
    "\n",
    "t=time.time()\n",
    "print(t)\n",
    "result = multiprocessing.Queue()\n",
    "t1=multiprocessing.Process(target=a,args=(5,result))\n",
    "\n",
    "#t2=multiprocessing.Process(target=b,args=(5,))\n",
    "\n",
    "t1.start()\n",
    "\n",
    "\n",
    "t1.join()\n",
    "while result.empty() is False:\n",
    "    print (result.get())"
   ]
  },
  {
   "cell_type": "code",
   "execution_count": 115,
   "metadata": {},
   "outputs": [
    {
     "ename": "NameError",
     "evalue": "name 'Queue' is not defined",
     "output_type": "error",
     "traceback": [
      "\u001b[0;31m---------------------------------------------------------------------------\u001b[0m",
      "\u001b[0;31mNameError\u001b[0m                                 Traceback (most recent call last)",
      "\u001b[0;32m<ipython-input-115-f170bd0d3b84>\u001b[0m in \u001b[0;36m<module>\u001b[0;34m()\u001b[0m\n\u001b[0;32m----> 1\u001b[0;31m \u001b[0mhelp\u001b[0m\u001b[0;34m(\u001b[0m\u001b[0mQueue\u001b[0m\u001b[0;34m)\u001b[0m\u001b[0;34m\u001b[0m\u001b[0m\n\u001b[0m",
      "\u001b[0;31mNameError\u001b[0m: name 'Queue' is not defined"
     ]
    }
   ],
   "source": [
    "help(Queue)"
   ]
  },
  {
   "cell_type": "code",
   "execution_count": 130,
   "metadata": {},
   "outputs": [
    {
     "name": "stdout",
     "output_type": "stream",
     "text": [
      "a\n",
      "b\n",
      "c\n",
      "d\n"
     ]
    }
   ],
   "source": [
    "m={'a':1,'b':2,'c':3,'d':4}\n",
    "for i,n  in enumerate(m):\n",
    "    print(n)"
   ]
  },
  {
   "cell_type": "code",
   "execution_count": 121,
   "metadata": {},
   "outputs": [
    {
     "name": "stdout",
     "output_type": "stream",
     "text": [
      "0 Dogs\n",
      "1 Cats\n",
      "2 Turtles\n",
      "3 Rabbits\n"
     ]
    }
   ],
   "source": [
    "pets = ('Dogs', 'Cats', 'Turtles', 'Rabbits')\n",
    "for i, pet in enumerate(pets):\n",
    "    print (i, pet)\n"
   ]
  },
  {
   "cell_type": "code",
   "execution_count": 134,
   "metadata": {},
   "outputs": [
    {
     "name": "stdout",
     "output_type": "stream",
     "text": [
      "[(3, 'Dogs'), (4, 'Cats'), (5, 'Turtles'), (6, 'Rabbits')]\n"
     ]
    }
   ],
   "source": [
    "print (list(enumerate(pets, 3)))    #keep track of iteration as well as items in list\n",
    " "
   ]
  },
  {
   "cell_type": "code",
   "execution_count": 164,
   "metadata": {},
   "outputs": [
    {
     "name": "stdout",
     "output_type": "stream",
     "text": [
      "5\n"
     ]
    }
   ],
   "source": [
    "import multiprocessing\n",
    "import time\n",
    "num = 0\n",
    "def sum1(num,lock):\n",
    "    for i in range(5):\n",
    "        lock.acquire()\n",
    "        num.value=num.value+1\n",
    "        lock.release()\n",
    "    return num.value\n",
    "def sub(num):\n",
    "    for i in range(5):\n",
    "        num.value=num.value-1\n",
    "    return num.value\n",
    "num=multiprocessing.Value('i',5)\n",
    "lock=multiprocessing.Lock()\n",
    "t=multiprocessing.Process(target=sum1,args=(num,lock))\n",
    "t1=multiprocessing.Process(target=sub,args=(num,))\n",
    "t.start()\n",
    "t1.start()\n",
    "t.join()\n",
    "t1.join()\n",
    "print(num.value)\n"
   ]
  },
  {
   "cell_type": "code",
   "execution_count": 177,
   "metadata": {},
   "outputs": [
    {
     "name": "stdout",
     "output_type": "stream",
     "text": [
      "5\n",
      "5\n",
      "5\n",
      "5\n",
      "5\n",
      "16\n"
     ]
    }
   ],
   "source": [
    "import multiprocessing\n",
    "import time\n",
    "num = []\n",
    "n=0\n",
    "def sum1(num,n,lock):\n",
    "    for i in range(len(num)):\n",
    "        lock.acquire()\n",
    "        n.value=num[i]+n.value\n",
    "        print(len(num))\n",
    "        lock.release()\n",
    "    return n.value\n",
    "def sub(num,n):\n",
    "    for i in range(len(num)):\n",
    "        n.value=num[i]-n.value\n",
    "    return n.value\n",
    "num = [1,2,3,4,5]\n",
    "#num=multiprocessing.Array('i',5)\n",
    "n=multiprocessing.Value('i',0)\n",
    "lock=multiprocessing.Lock()\n",
    "t=multiprocessing.Process(target=sum1,args=(num,n,lock))\n",
    "t1=multiprocessing.Process(target=sub,args=(num,n))\n",
    "t.start()\n",
    "t1.start()\n",
    "t.join()\n",
    "t1.join()\n",
    "print(n.value)"
   ]
  },
  {
   "cell_type": "code",
   "execution_count": 1,
   "metadata": {},
   "outputs": [
    {
     "name": "stdout",
     "output_type": "stream",
     "text": [
      "[1, 4, 27]\n"
     ]
    }
   ],
   "source": [
    "import multiprocessing\n",
    "i=0\n",
    "m=[]\n",
    "def f(n):\n",
    "    for i in range(len(n)):\n",
    "        m.append(n[i]**n[i])      \n",
    "    return m\n",
    "n=[1,2,3]\n",
    "print(f(n))\n",
    "    "
   ]
  },
  {
   "cell_type": "code",
   "execution_count": 2,
   "metadata": {},
   "outputs": [
    {
     "name": "stdout",
     "output_type": "stream",
     "text": [
      "[1, 4, 27]\n"
     ]
    }
   ],
   "source": [
    "import multiprocessing\n",
    "i=0\n",
    "m=[]\n",
    "def f(n):   \n",
    "    return n**n\n",
    "n=[1,2,3]\n",
    "p=multiprocessing.Pool()\n",
    "result=p.map(f,n)\n",
    "p.close()\n",
    "p.join()\n",
    "print(result[:])"
   ]
  },
  {
   "cell_type": "markdown",
   "metadata": {},
   "source": [
    "# Decorator"
   ]
  },
  {
   "cell_type": "code",
   "execution_count": 16,
   "metadata": {},
   "outputs": [
    {
     "name": "stdout",
     "output_type": "stream",
     "text": [
      "45\n",
      "sum 5.173683166503906e-05\n",
      "-45\n",
      "sub 1.71661376953125e-05\n"
     ]
    }
   ],
   "source": [
    "import time\n",
    "def time_it(fun):\n",
    "    def wrapp():\n",
    "        start = time.time()\n",
    "        result = fun()\n",
    "        end = time.time()\n",
    "        print(fun.__name__+\" \"+str(end-start))\n",
    "        return result\n",
    "    return wrapp\n",
    "@time_it\n",
    "def sum():\n",
    "    total=0\n",
    "   \n",
    "    for i in range(10):\n",
    "        total = total+i\n",
    "  \n",
    "    print(total)\n",
    "@time_it\n",
    "def sub():\n",
    "    total=0\n",
    "    \n",
    "    for i in range(10):\n",
    "        total = total-i\n",
    "    \n",
    "    print(total)\n",
    "sum()\n",
    "sub()"
   ]
  },
  {
   "cell_type": "code",
   "execution_count": 72,
   "metadata": {},
   "outputs": [
    {
     "name": "stdout",
     "output_type": "stream",
     "text": [
      "Printing from the parent() function.\n"
     ]
    }
   ],
   "source": [
    "def parent():\n",
    "    print(\"Printing from the parent() function.\")\n",
    "\n",
    "    def first_child():\n",
    "        print( \"Printing from the first_child() function.\")\n",
    "\n",
    "    def second_child():\n",
    "        return \"Printing from the second_child() function.\"\n",
    "\n",
    "   # print(first_child())\n",
    "    #print(second_child())\n",
    "parent()"
   ]
  },
  {
   "cell_type": "code",
   "execution_count": 31,
   "metadata": {},
   "outputs": [
    {
     "name": "stdout",
     "output_type": "stream",
     "text": [
      "Printing from the parent() function.\n",
      "Printing from the first_child() function.\n",
      "Printing from the second_child() function.\n"
     ]
    },
    {
     "ename": "AttributeError",
     "evalue": "'NoneType' object has no attribute 'first_child'",
     "output_type": "error",
     "traceback": [
      "\u001b[0;31m---------------------------------------------------------------------------\u001b[0m",
      "\u001b[0;31mAttributeError\u001b[0m                            Traceback (most recent call last)",
      "\u001b[0;32m<ipython-input-31-d31adc01319c>\u001b[0m in \u001b[0;36m<module>\u001b[0;34m()\u001b[0m\n\u001b[0;32m----> 1\u001b[0;31m \u001b[0mparent\u001b[0m\u001b[0;34m(\u001b[0m\u001b[0;34m)\u001b[0m\u001b[0;34m.\u001b[0m\u001b[0mfirst_child\u001b[0m\u001b[0;34m(\u001b[0m\u001b[0;34m)\u001b[0m\u001b[0;34m\u001b[0m\u001b[0m\n\u001b[0m",
      "\u001b[0;31mAttributeError\u001b[0m: 'NoneType' object has no attribute 'first_child'"
     ]
    }
   ],
   "source": [
    "parent().first_child()"
   ]
  },
  {
   "cell_type": "code",
   "execution_count": 32,
   "metadata": {},
   "outputs": [],
   "source": [
    "# Python program to illustrate\n",
    "# nested functions\n",
    "def outerFunction(text):\n",
    "    text = text\n",
    " \n",
    "    def innerFunction():\n",
    "        print(text)\n",
    "    return innerFunction\n",
    " \n",
    "if __name__ == '__main__':\n",
    "    outerFunction('Hey!')"
   ]
  },
  {
   "cell_type": "markdown",
   "metadata": {},
   "source": [
    "\n",
    "There are two ways to assign argument values to function parameters, both are used.\n",
    "\n",
    "By Position. Positional arguments do not have keywords and are assigned first.\n",
    "\n",
    "By Keyword. Keyword arguments have keywords and are assigned second, after positional arguments."
   ]
  },
  {
   "cell_type": "code",
   "execution_count": 76,
   "metadata": {},
   "outputs": [
    {
     "name": "stdout",
     "output_type": "stream",
     "text": [
      "Yes!\n",
      "Wheee!\n",
      "Something is happening after some_function() is called.\n"
     ]
    },
    {
     "data": {
      "text/plain": [
       "NoneType"
      ]
     },
     "execution_count": 76,
     "metadata": {},
     "output_type": "execute_result"
    }
   ],
   "source": [
    "def my_decorator(some_function):\n",
    "\n",
    "    def wrapper():\n",
    "\n",
    "        num = 10\n",
    "\n",
    "        if num == 10:\n",
    "            print(\"Yes!\")\n",
    "        else:\n",
    "            print(\"No!\")\n",
    "\n",
    "        some_function()\n",
    "\n",
    "        print(\"Something is happening after some_function() is called.\")\n",
    "\n",
    "    return wrapper\n",
    "\n",
    "\n",
    "def just_some_function():\n",
    "    print(\"Wheee!\")\n",
    "\n",
    "just_some_function1 = my_decorator(just_some_function) #here pass function as argument to another function and that function return function\n",
    "\n",
    "type(just_some_function1())"
   ]
  },
  {
   "cell_type": "code",
   "execution_count": 41,
   "metadata": {},
   "outputs": [
    {
     "name": "stdout",
     "output_type": "stream",
     "text": [
      "Yes!\n",
      "Wheee!\n",
      "Something is happening after some_function() is called.\n",
      "Yes!\n",
      "Wheee!\n",
      "Something is happening after some_function() is called.\n"
     ]
    }
   ],
   "source": [
    "def my_decorator(aa):   #use function aas argument\n",
    "\n",
    "    def wrapper():\n",
    "\n",
    "        num = 10\n",
    "\n",
    "        if num == 10:\n",
    "            print(\"Yes!\")\n",
    "        else:\n",
    "            print(\"No!\")\n",
    "\n",
    "        aa()\n",
    "\n",
    "        print(\"Something is happening after some_function() is called.\")\n",
    "\n",
    "    return wrapper\n",
    "@my_decorator             #same as this line == just_some_function = my_decorator(just_some_function)\n",
    "def just_some_function():\n",
    "    print(\"Wheee!\")\n",
    "@my_decorator\n",
    "def just_some_function():\n",
    "    print(\"Wheee!\")\n",
    "\n",
    "just_some_function()  #when we call function 1st it goto @my_decorateor \n",
    "\n",
    "\n",
    "just_some_function()\n"
   ]
  },
  {
   "cell_type": "code",
   "execution_count": 132,
   "metadata": {},
   "outputs": [
    {
     "ename": "TypeError",
     "evalue": "wrapper() missing 1 required positional argument: 'k'",
     "output_type": "error",
     "traceback": [
      "\u001b[0;31m---------------------------------------------------------------------------\u001b[0m",
      "\u001b[0;31mTypeError\u001b[0m                                 Traceback (most recent call last)",
      "\u001b[0;32m<ipython-input-132-7b2fa9c18f98>\u001b[0m in \u001b[0;36m<module>\u001b[0;34m()\u001b[0m\n\u001b[1;32m     20\u001b[0m \u001b[0;34m\u001b[0m\u001b[0m\n\u001b[1;32m     21\u001b[0m \u001b[0;34m\u001b[0m\u001b[0m\n\u001b[0;32m---> 22\u001b[0;31m \u001b[0;34m@\u001b[0m\u001b[0mprint_number\u001b[0m\u001b[0;34m\u001b[0m\u001b[0m\n\u001b[0m\u001b[1;32m     23\u001b[0m \u001b[0;32mdef\u001b[0m \u001b[0mabcd\u001b[0m\u001b[0;34m(\u001b[0m\u001b[0ml\u001b[0m\u001b[0;34m,\u001b[0m\u001b[0mk\u001b[0m\u001b[0;34m)\u001b[0m\u001b[0;34m:\u001b[0m\u001b[0;34m\u001b[0m\u001b[0m\n\u001b[1;32m     24\u001b[0m     \u001b[0;32mreturn\u001b[0m \u001b[0ml\u001b[0m\u001b[0;34m,\u001b[0m\u001b[0mk\u001b[0m\u001b[0;34m\u001b[0m\u001b[0m\n",
      "\u001b[0;31mTypeError\u001b[0m: wrapper() missing 1 required positional argument: 'k'"
     ]
    }
   ],
   "source": [
    "from time import sleep\n",
    "\n",
    "\n",
    "def sleep_decorator(function):\n",
    "\n",
    "    \"\"\"\n",
    "    Limits how fast the function is\n",
    "    called.\n",
    "    \"\"\"\n",
    "\n",
    "    def wrapper(l,k):\n",
    "        sleep(2)\n",
    "        return function(l,k)\n",
    "    return wrapper  #it is object and it call to function wrapper \n",
    "\n",
    "kwar={'l':222,'k':33}\n",
    "@sleep_decorator\n",
    "def print_number(l,k):\n",
    "    return l,k\n",
    "\n",
    "\n",
    "@print_number\n",
    "def abcd(l,k):\n",
    "    return l,k\n",
    "print(abcd(**kwargs))"
   ]
  },
  {
   "cell_type": "code",
   "execution_count": 118,
   "metadata": {},
   "outputs": [],
   "source": [
    "b = sleep_decorator(kwargs)"
   ]
  },
  {
   "cell_type": "code",
   "execution_count": 119,
   "metadata": {},
   "outputs": [
    {
     "data": {
      "text/plain": [
       "<function __main__.sleep_decorator.<locals>.wrapper(l)>"
      ]
     },
     "execution_count": 119,
     "metadata": {},
     "output_type": "execute_result"
    }
   ],
   "source": [
    "b"
   ]
  },
  {
   "cell_type": "code",
   "execution_count": 120,
   "metadata": {},
   "outputs": [
    {
     "data": {
      "text/plain": [
       "<function __main__.sleep_decorator.<locals>.wrapper(l)>"
      ]
     },
     "execution_count": 120,
     "metadata": {},
     "output_type": "execute_result"
    }
   ],
   "source": [
    "print_number"
   ]
  },
  {
   "cell_type": "code",
   "execution_count": 124,
   "metadata": {},
   "outputs": [
    {
     "ename": "TypeError",
     "evalue": "'dict' object is not callable",
     "output_type": "error",
     "traceback": [
      "\u001b[0;31m---------------------------------------------------------------------------\u001b[0m",
      "\u001b[0;31mTypeError\u001b[0m                                 Traceback (most recent call last)",
      "\u001b[0;32m<ipython-input-124-64bbdb063cdf>\u001b[0m in \u001b[0;36m<module>\u001b[0;34m()\u001b[0m\n\u001b[0;32m----> 1\u001b[0;31m \u001b[0mprint\u001b[0m\u001b[0;34m(\u001b[0m\u001b[0mb\u001b[0m\u001b[0;34m(\u001b[0m\u001b[0ml\u001b[0m\u001b[0;34m=\u001b[0m\u001b[0;34m'123'\u001b[0m\u001b[0;34m)\u001b[0m\u001b[0;34m)\u001b[0m\u001b[0;34m\u001b[0m\u001b[0m\n\u001b[0m",
      "\u001b[0;32m<ipython-input-112-2687ef9ae3d6>\u001b[0m in \u001b[0;36mwrapper\u001b[0;34m(l)\u001b[0m\n\u001b[1;32m     11\u001b[0m     \u001b[0;32mdef\u001b[0m \u001b[0mwrapper\u001b[0m\u001b[0;34m(\u001b[0m\u001b[0ml\u001b[0m\u001b[0;34m)\u001b[0m\u001b[0;34m:\u001b[0m\u001b[0;34m\u001b[0m\u001b[0m\n\u001b[1;32m     12\u001b[0m         \u001b[0msleep\u001b[0m\u001b[0;34m(\u001b[0m\u001b[0;36m2\u001b[0m\u001b[0;34m)\u001b[0m\u001b[0;34m\u001b[0m\u001b[0m\n\u001b[0;32m---> 13\u001b[0;31m         \u001b[0;32mreturn\u001b[0m \u001b[0mfunction\u001b[0m\u001b[0;34m(\u001b[0m\u001b[0ml\u001b[0m\u001b[0;34m)\u001b[0m\u001b[0;34m\u001b[0m\u001b[0m\n\u001b[0m\u001b[1;32m     14\u001b[0m     \u001b[0;32mreturn\u001b[0m \u001b[0mwrapper\u001b[0m\u001b[0;34m\u001b[0m\u001b[0m\n\u001b[1;32m     15\u001b[0m \u001b[0;34m\u001b[0m\u001b[0m\n",
      "\u001b[0;31mTypeError\u001b[0m: 'dict' object is not callable"
     ]
    }
   ],
   "source": [
    "print(b(l='123'))"
   ]
  },
  {
   "cell_type": "code",
   "execution_count": 133,
   "metadata": {},
   "outputs": [
    {
     "name": "stdout",
     "output_type": "stream",
     "text": [
      "apple = fruit\n",
      "cabbage = vegetable\n"
     ]
    }
   ],
   "source": [
    "def table_things(**kwargs):\n",
    "    for name, value in kwargs.items():\n",
    "        print( '{0} = {1}'.format(name, value))\n",
    "\n",
    "        \n",
    "table_things(apple = 'fruit', cabbage = 'vegetable')"
   ]
  },
  {
   "cell_type": "code",
   "execution_count": 2,
   "metadata": {},
   "outputs": [
    {
     "name": "stdout",
     "output_type": "stream",
     "text": [
      "l = 222\n",
      "k = 33\n",
      "None\n"
     ]
    }
   ],
   "source": [
    "from time import sleep\n",
    "\n",
    "\n",
    "def sleep_decorator(function):\n",
    "\n",
    "    \"\"\"\n",
    "    Limits how fast the function is\n",
    "    called.\n",
    "    \"\"\"\n",
    "\n",
    "    def wrapper(**kwargs):\n",
    "        sleep(2)\n",
    "        return function(**kwargs)\n",
    "    return wrapper  #it is object and it call to function wrapper \n",
    "\n",
    "kwargs={'l':222,'k':33}\n",
    "@sleep_decorator\n",
    "def print_number(**kwargs):\n",
    "    for name, value in kwargs.items():\n",
    "        print( '{0} = {1}'.format(name, value))\n",
    "        \n",
    "print(print_number(**kwargs))"
   ]
  },
  {
   "cell_type": "code",
   "execution_count": 149,
   "metadata": {},
   "outputs": [
    {
     "name": "stdout",
     "output_type": "stream",
     "text": [
      "l = 222\n",
      "k = 33\n",
      "None\n"
     ]
    }
   ],
   "source": [
    "print(print_number(**kwargs))"
   ]
  },
  {
   "cell_type": "code",
   "execution_count": 146,
   "metadata": {},
   "outputs": [
    {
     "name": "stdout",
     "output_type": "stream",
     "text": [
      "a = [1, 2, 3, 4]\n",
      "None\n"
     ]
    }
   ],
   "source": [
    "print(print_number(a = [1,2,3,4]))"
   ]
  },
  {
   "cell_type": "code",
   "execution_count": 147,
   "metadata": {},
   "outputs": [
    {
     "name": "stdout",
     "output_type": "stream",
     "text": [
      "l = 222\n",
      "k = 33\n"
     ]
    }
   ],
   "source": [
    "for name, value in kwargs.items():\n",
    "        print( '{0} = {1}'.format(name, value))\n",
    "        "
   ]
  },
  {
   "cell_type": "code",
   "execution_count": null,
   "metadata": {},
   "outputs": [],
   "source": []
  }
 ],
 "metadata": {
  "kernelspec": {
   "display_name": "Python 3",
   "language": "python",
   "name": "python3"
  },
  "language_info": {
   "codemirror_mode": {
    "name": "ipython",
    "version": 3
   },
   "file_extension": ".py",
   "mimetype": "text/x-python",
   "name": "python",
   "nbconvert_exporter": "python",
   "pygments_lexer": "ipython3",
   "version": "3.6.5"
  }
 },
 "nbformat": 4,
 "nbformat_minor": 2
}
