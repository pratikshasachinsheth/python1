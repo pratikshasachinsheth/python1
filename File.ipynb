{
 "cells": [
  {
   "cell_type": "markdown",
   "metadata": {},
   "source": [
    "# File"
   ]
  },
  {
   "cell_type": "markdown",
   "metadata": {},
   "source": [
    "f = open('data.txt', 'w')\n",
    "\n",
    "f.write('Hello\\n') # Make a new file in output mode ('w' is write)\n",
    "\n",
    "6\n",
    "# Write strings of characters to it\n",
    "\n",
    "f.write('world\\n') # Return number of items written in Python 3.X\n",
    "\n",
    "6\n",
    "\n",
    "f.close() # Close to flush output buffers to disk"
   ]
  },
  {
   "cell_type": "code",
   "execution_count": 2,
   "metadata": {},
   "outputs": [],
   "source": [
    "f=open('abc.txt','w')"
   ]
  },
  {
   "cell_type": "code",
   "execution_count": 3,
   "metadata": {},
   "outputs": [
    {
     "data": {
      "text/plain": [
       "5"
      ]
     },
     "execution_count": 3,
     "metadata": {},
     "output_type": "execute_result"
    }
   ],
   "source": [
    "f.write(\"hello\")"
   ]
  },
  {
   "cell_type": "code",
   "execution_count": 5,
   "metadata": {},
   "outputs": [
    {
     "ename": "UnsupportedOperation",
     "evalue": "not readable",
     "output_type": "error",
     "traceback": [
      "\u001b[0;31m---------------------------------------------------------------------------\u001b[0m",
      "\u001b[0;31mUnsupportedOperation\u001b[0m                      Traceback (most recent call last)",
      "\u001b[0;32m<ipython-input-5-5bd14c9494a9>\u001b[0m in \u001b[0;36m<module>\u001b[0;34m()\u001b[0m\n\u001b[0;32m----> 1\u001b[0;31m \u001b[0mh\u001b[0m\u001b[0;34m=\u001b[0m\u001b[0mf\u001b[0m\u001b[0;34m.\u001b[0m\u001b[0mread\u001b[0m\u001b[0;34m(\u001b[0m\u001b[0;34m)\u001b[0m\u001b[0;34m\u001b[0m\u001b[0m\n\u001b[0m",
      "\u001b[0;31mUnsupportedOperation\u001b[0m: not readable"
     ]
    }
   ],
   "source": [
    "h=f.read()\n"
   ]
  },
  {
   "cell_type": "markdown",
   "metadata": {},
   "source": [
    "file function:\n",
    "https://www.tutorialspoint.com/python/file_methods.htm "
   ]
  },
  {
   "cell_type": "markdown",
   "metadata": {},
   "source": [
    "**seek\n",
    "\n",
    "The method seek() sets the file's current position at the offset. The whence argument is optional and defaults to 0, which means absolute file positioning, other values are 1 which means seek relative to the current position and 2 means seek relative to the file's end.\n",
    "\n",
    "There is no return value. Note that if the file is opened for appending using either 'a' or 'a+', any seek() operations will be undone at the next write.\n",
    "\n",
    "If the file is only opened for writing in append mode using 'a', this method is essentially a no-op, but it remains useful for files opened in append mode with reading enabled (mode 'a+').\n",
    "\n",
    "If the file is opened in text mode using 't', only offsets returned by tell() are legal. Use of other offsets causes undefined behavior.\n",
    "\n",
    "\n",
    "Syntax\n",
    "\n",
    "Following is the syntax for seek() method −\n",
    "\n",
    "fileObject.seek(offset[, whence])\n",
    "\n",
    "Parameters\n",
    "\n",
    "offset − This is the position of the read/write pointer within the file.\n",
    "\n",
    "whence − This is optional and defaults to 0 which means absolute file positioning, other values are 1 which means seek relative to the current position and 2 means seek relative to the file's end."
   ]
  },
  {
   "cell_type": "markdown",
   "metadata": {},
   "source": [
    "***tell\n",
    "\n",
    "The method tell() returns the current position of the file read/write pointer within the file.\n",
    "\n",
    "Syntax\n",
    "\n",
    "Following is the syntax for tell() method −\n",
    "\n",
    "fileObject.tell()\n",
    "\n",
    "Parameters\n",
    "\n",
    "NA\n",
    "\n",
    "Return Value\n",
    "\n",
    "This method returns the current position of the file read/write pointer within the file."
   ]
  },
  {
   "cell_type": "markdown",
   "metadata": {},
   "source": [
    "*** truncate\n",
    "\n",
    "Description\n",
    "The method truncate() truncates the file's size. If the optional size argument is present, the file is truncated to (at most) that size.\n",
    "\n",
    "The size defaults to the current position. The current file position is not changed. Note that if a specified size exceeds the file's current size, the result is platform-dependent.\n",
    "\n",
    "Note − This method would not work in case file is opened in read-only mode.\n",
    "\n",
    "Syntax\n",
    "\n",
    "Following is the syntax for truncate() method −\n",
    "\n",
    "fileObject.truncate( [ size ])\n",
    "\n",
    "Parameters\n",
    "\n",
    "size − If this optional argument is present, the file is truncated to (at most) that size.\n",
    "\n",
    "Return Value\n",
    "\n",
    "This method does not return any value"
   ]
  },
  {
   "cell_type": "code",
   "execution_count": null,
   "metadata": {},
   "outputs": [],
   "source": []
  }
 ],
 "metadata": {
  "kernelspec": {
   "display_name": "Python 3",
   "language": "python",
   "name": "python3"
  },
  "language_info": {
   "codemirror_mode": {
    "name": "ipython",
    "version": 3
   },
   "file_extension": ".py",
   "mimetype": "text/x-python",
   "name": "python",
   "nbconvert_exporter": "python",
   "pygments_lexer": "ipython3",
   "version": "3.6.5"
  }
 },
 "nbformat": 4,
 "nbformat_minor": 2
}
