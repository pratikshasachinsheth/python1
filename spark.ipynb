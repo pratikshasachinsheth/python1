{
 "cells": [
  {
   "cell_type": "markdown",
   "metadata": {},
   "source": [
    "# if there is more than one sparksubmit kill them using \"kill pid\""
   ]
  },
  {
   "cell_type": "code",
   "execution_count": 3,
   "metadata": {
    "collapsed": false,
    "scrolled": true
   },
   "outputs": [
    {
     "data": {
      "text/plain": [
       "<pyspark.context.SparkContext at 0x7f6d8406d910>"
      ]
     },
     "execution_count": 3,
     "metadata": {},
     "output_type": "execute_result"
    }
   ],
   "source": [
    "sc"
   ]
  },
  {
   "cell_type": "code",
   "execution_count": null,
   "metadata": {
    "collapsed": true
   },
   "outputs": [],
   "source": [
    "filepath=\"file:///home/icpl12900/Desktop/assignments/routes.csv\""
   ]
  },
  {
   "cell_type": "code",
   "execution_count": null,
   "metadata": {
    "collapsed": false
   },
   "outputs": [],
   "source": [
    "filepath"
   ]
  },
  {
   "cell_type": "code",
   "execution_count": null,
   "metadata": {
    "collapsed": true
   },
   "outputs": [],
   "source": [
    "route=sc.textFile(filepath)"
   ]
  },
  {
   "cell_type": "code",
   "execution_count": null,
   "metadata": {
    "collapsed": false
   },
   "outputs": [],
   "source": [
    "route"
   ]
  },
  {
   "cell_type": "code",
   "execution_count": null,
   "metadata": {
    "collapsed": false,
    "scrolled": true
   },
   "outputs": [],
   "source": [
    "route.take(10)"
   ]
  },
  {
   "cell_type": "markdown",
   "metadata": {},
   "source": [
    "take top 10 rows from RDD"
   ]
  },
  {
   "cell_type": "code",
   "execution_count": null,
   "metadata": {
    "collapsed": false,
    "scrolled": false
   },
   "outputs": [],
   "source": [
    "route.count()"
   ]
  },
  {
   "cell_type": "markdown",
   "metadata": {},
   "source": [
    "take count of no of rows"
   ]
  },
  {
   "cell_type": "code",
   "execution_count": null,
   "metadata": {
    "collapsed": false
   },
   "outputs": [],
   "source": [
    "route.first()"
   ]
  },
  {
   "cell_type": "markdown",
   "metadata": {},
   "source": [
    "take first row from RDD"
   ]
  },
  {
   "cell_type": "code",
   "execution_count": null,
   "metadata": {
    "collapsed": false,
    "scrolled": false
   },
   "outputs": [],
   "source": [
    "\n",
    "#route.collect()"
   ]
  },
  {
   "cell_type": "markdown",
   "metadata": {},
   "source": [
    "take all rows from RDD"
   ]
  },
  {
   "cell_type": "markdown",
   "metadata": {},
   "source": [
    "all this upper operation request data from RDD and all are called ACTION"
   ]
  },
  {
   "cell_type": "markdown",
   "metadata": {},
   "source": [
    "Method which is use to read file as textFile is call \"TRANSFORMATION\"\n",
    "\n",
    "Operations that create RDD and Convert one RDD into another RDD call \"TRANSFORMATION\""
   ]
  },
  {
   "cell_type": "markdown",
   "metadata": {},
   "source": [
    "** Difference between transformations and RDD is:\n",
    "1. Transformation is not execute immediately. they execute only actions are call on them\n",
    "\n",
    "** textFile only take file from path and create RDD for it. It not read or do any operation on it. this job is done by actions"
   ]
  },
  {
   "cell_type": "markdown",
   "metadata": {},
   "source": [
    "# Filter"
   ]
  },
  {
   "cell_type": "code",
   "execution_count": null,
   "metadata": {
    "collapsed": true
   },
   "outputs": [],
   "source": [
    "file_for_filter=\"file:///home/icpl12900/Desktop/data_files/prat.csv\""
   ]
  },
  {
   "cell_type": "code",
   "execution_count": null,
   "metadata": {
    "collapsed": false
   },
   "outputs": [],
   "source": [
    "data_for_filter=sc.textFile(file_for_filter)"
   ]
  },
  {
   "cell_type": "code",
   "execution_count": null,
   "metadata": {
    "collapsed": false
   },
   "outputs": [],
   "source": [
    "data_for_filter.collect()"
   ]
  },
  {
   "cell_type": "code",
   "execution_count": null,
   "metadata": {
    "collapsed": true
   },
   "outputs": [],
   "source": [
    "dataofhead=data_for_filter.first()"
   ]
  },
  {
   "cell_type": "code",
   "execution_count": null,
   "metadata": {
    "collapsed": false
   },
   "outputs": [],
   "source": [
    "data_without_head=data_for_filter.filter(lambda x : x <> dataofhead)"
   ]
  },
  {
   "cell_type": "code",
   "execution_count": null,
   "metadata": {
    "collapsed": false
   },
   "outputs": [],
   "source": [
    "data_without_head.collect()"
   ]
  },
  {
   "cell_type": "markdown",
   "metadata": {},
   "source": [
    "# MAP"
   ]
  },
  {
   "cell_type": "markdown",
   "metadata": {},
   "source": [
    "using map we can convert unstructre string into structure string with name of filds with we can access"
   ]
  },
  {
   "cell_type": "code",
   "execution_count": null,
   "metadata": {
    "collapsed": true
   },
   "outputs": [],
   "source": [
    "list_string=data_without_head.map(lambda x:x.split(\",\"))"
   ]
  },
  {
   "cell_type": "markdown",
   "metadata": {},
   "source": [
    "it take whole record and split it into individual string i.e list of string"
   ]
  },
  {
   "cell_type": "code",
   "execution_count": null,
   "metadata": {
    "collapsed": false
   },
   "outputs": [],
   "source": [
    "list_string.collect()"
   ]
  },
  {
   "cell_type": "code",
   "execution_count": null,
   "metadata": {
    "collapsed": false
   },
   "outputs": [],
   "source": [
    "list_string.take(10)"
   ]
  },
  {
   "cell_type": "markdown",
   "metadata": {},
   "source": [
    "*** Write function"
   ]
  },
  {
   "cell_type": "code",
   "execution_count": null,
   "metadata": {
    "collapsed": true
   },
   "outputs": [],
   "source": [
    "import csv\n",
    "from StringIO import StringIO\n",
    "from collections import namedtuple"
   ]
  },
  {
   "cell_type": "code",
   "execution_count": null,
   "metadata": {
    "collapsed": false
   },
   "outputs": [],
   "source": [
    "fields=dataofhead.replace(\" \",\"_\").replace(\"/\",\"_\").split(\",\")"
   ]
  },
  {
   "cell_type": "code",
   "execution_count": null,
   "metadata": {
    "collapsed": false,
    "scrolled": false
   },
   "outputs": [],
   "source": [
    "fields"
   ]
  },
  {
   "cell_type": "markdown",
   "metadata": {},
   "source": [
    "to print list use only name of list i.e fields"
   ]
  },
  {
   "cell_type": "code",
   "execution_count": null,
   "metadata": {
    "collapsed": false
   },
   "outputs": [],
   "source": [
    "class_for_nametuple=namedtuple('class_for_nametuple',fields,verbose=True)"
   ]
  },
  {
   "cell_type": "markdown",
   "metadata": {},
   "source": [
    "any object of class have fields"
   ]
  },
  {
   "cell_type": "code",
   "execution_count": null,
   "metadata": {
    "collapsed": true
   },
   "outputs": [],
   "source": [
    "def parse(row):\n",
    "    reader = csv.reader(StringIO(row))\n",
    "    row=reader.next()\n",
    "    return class_for_nametuple(*row) #this function return object of class_for_name"
   ]
  },
  {
   "cell_type": "code",
   "execution_count": null,
   "metadata": {
    "collapsed": true
   },
   "outputs": [],
   "source": [
    "data=data_without_head.map(parse) #nametuple is created"
   ]
  },
  {
   "cell_type": "code",
   "execution_count": null,
   "metadata": {
    "collapsed": false
   },
   "outputs": [],
   "source": [
    "data.first() "
   ]
  },
  {
   "cell_type": "code",
   "execution_count": null,
   "metadata": {
    "collapsed": false,
    "scrolled": true
   },
   "outputs": [],
   "source": [
    "data.first().id #access filed using name"
   ]
  },
  {
   "cell_type": "markdown",
   "metadata": {},
   "source": [
    "# Find out missing value and remove it"
   ]
  },
  {
   "cell_type": "code",
   "execution_count": null,
   "metadata": {
    "collapsed": true
   },
   "outputs": [],
   "source": [
    "filepath=\"file:///home/icpl12900/Desktop/assignments/routes.csv\""
   ]
  },
  {
   "cell_type": "code",
   "execution_count": null,
   "metadata": {
    "collapsed": true
   },
   "outputs": [],
   "source": [
    "route=sc.textFile(filepath)"
   ]
  },
  {
   "cell_type": "code",
   "execution_count": null,
   "metadata": {
    "collapsed": true
   },
   "outputs": [],
   "source": [
    "header = route.first()"
   ]
  },
  {
   "cell_type": "code",
   "execution_count": null,
   "metadata": {
    "collapsed": false
   },
   "outputs": [],
   "source": [
    "header"
   ]
  },
  {
   "cell_type": "code",
   "execution_count": null,
   "metadata": {
    "collapsed": true
   },
   "outputs": [],
   "source": [
    "data_missing = route.filter(lambda x : x <> header)"
   ]
  },
  {
   "cell_type": "code",
   "execution_count": null,
   "metadata": {
    "collapsed": false
   },
   "outputs": [],
   "source": [
    "data_missing.take(10)"
   ]
  },
  {
   "cell_type": "code",
   "execution_count": null,
   "metadata": {
    "collapsed": true
   },
   "outputs": [],
   "source": [
    "import csv\n",
    "from StringIO import StringIO\n",
    "from collections import namedtuple"
   ]
  },
  {
   "cell_type": "code",
   "execution_count": null,
   "metadata": {
    "collapsed": false
   },
   "outputs": [],
   "source": [
    "header_fields = header.replace(\" \",\"_\").replace(\"/\",\"_\").split(\",\")"
   ]
  },
  {
   "cell_type": "code",
   "execution_count": null,
   "metadata": {
    "collapsed": false,
    "scrolled": true
   },
   "outputs": [],
   "source": [
    "header_fields"
   ]
  },
  {
   "cell_type": "code",
   "execution_count": null,
   "metadata": {
    "collapsed": false
   },
   "outputs": [],
   "source": [
    "class_for_nametuple=namedtuple('class_for_nametuple',header_fields,verbose=True)"
   ]
  },
  {
   "cell_type": "code",
   "execution_count": null,
   "metadata": {
    "collapsed": true
   },
   "outputs": [],
   "source": [
    "def parse(row):\n",
    "    reader = csv.reader(StringIO(row))\n",
    "    row=reader.next()\n",
    "    return class_for_nametuple(*row)"
   ]
  },
  {
   "cell_type": "code",
   "execution_count": null,
   "metadata": {
    "collapsed": true
   },
   "outputs": [],
   "source": [
    "data_name=data_missing.map(parse) #nametuple is created"
   ]
  },
  {
   "cell_type": "code",
   "execution_count": null,
   "metadata": {
    "collapsed": false
   },
   "outputs": [],
   "source": [
    "data_name.take(10)"
   ]
  },
  {
   "cell_type": "code",
   "execution_count": null,
   "metadata": {
    "collapsed": false
   },
   "outputs": [],
   "source": [
    "data_name.map(lambda x : x.Codeshare).countByValue()  #contain null value"
   ]
  },
  {
   "cell_type": "code",
   "execution_count": null,
   "metadata": {
    "collapsed": false
   },
   "outputs": [],
   "source": [
    "data_name.map(lambda x : x.Equipment).countByValue() #''"
   ]
  },
  {
   "cell_type": "code",
   "execution_count": null,
   "metadata": {
    "collapsed": false
   },
   "outputs": [],
   "source": [
    "data_filter = data_name.filter(lambda x : not (x.Codeshare == '' or x.Equipment == '')) #take all data from data_name and apply function only on codeshare"
   ]
  },
  {
   "cell_type": "code",
   "execution_count": null,
   "metadata": {
    "collapsed": false
   },
   "outputs": [],
   "source": [
    "data_filter.map(lambda x : x.Codeshare).countByValue()"
   ]
  },
  {
   "cell_type": "code",
   "execution_count": null,
   "metadata": {
    "collapsed": false,
    "scrolled": false
   },
   "outputs": [],
   "source": [
    "a=data_filter.map(lambda x : x.Source_airport_ID)"
   ]
  },
  {
   "cell_type": "code",
   "execution_count": null,
   "metadata": {
    "collapsed": false,
    "scrolled": true
   },
   "outputs": [],
   "source": [
    "a.take(10)"
   ]
  },
  {
   "cell_type": "code",
   "execution_count": null,
   "metadata": {
    "collapsed": false
   },
   "outputs": [],
   "source": [
    "a.reduce(lambda x :"
   ]
  },
  {
   "cell_type": "code",
   "execution_count": null,
   "metadata": {
    "collapsed": false
   },
   "outputs": [],
   "source": [
    "data_filter.map(lambda x : x.Airline).countByValue()"
   ]
  },
  {
   "cell_type": "markdown",
   "metadata": {},
   "source": [
    "# Reduce"
   ]
  },
  {
   "cell_type": "code",
   "execution_count": 2,
   "metadata": {
    "collapsed": true
   },
   "outputs": [],
   "source": [
    "filepath=\"file:///home/icpl12900/Desktop/assignments/air.csv\""
   ]
  },
  {
   "cell_type": "code",
   "execution_count": 3,
   "metadata": {
    "collapsed": true
   },
   "outputs": [],
   "source": [
    "airpot=sc.textFile(filepath)"
   ]
  },
  {
   "cell_type": "code",
   "execution_count": 4,
   "metadata": {
    "collapsed": false
   },
   "outputs": [],
   "source": [
    "airpot_header = airpot.first()"
   ]
  },
  {
   "cell_type": "code",
   "execution_count": 5,
   "metadata": {
    "collapsed": false
   },
   "outputs": [
    {
     "data": {
      "text/plain": [
       "u'IATA/FAA,ICAO,Location,Altitude,Timezone,DST,Tz'"
      ]
     },
     "execution_count": 5,
     "metadata": {},
     "output_type": "execute_result"
    }
   ],
   "source": [
    "airpot_header"
   ]
  },
  {
   "cell_type": "code",
   "execution_count": 6,
   "metadata": {
    "collapsed": true
   },
   "outputs": [],
   "source": [
    "airpot_data = airpot.filter(lambda x :x <> airpot_header)"
   ]
  },
  {
   "cell_type": "code",
   "execution_count": null,
   "metadata": {
    "collapsed": false
   },
   "outputs": [],
   "source": []
  },
  {
   "cell_type": "code",
   "execution_count": 7,
   "metadata": {
    "collapsed": false
   },
   "outputs": [
    {
     "data": {
      "text/plain": [
       "[u'GKA,AYGA,\"-6.081689,145.391881\",5282,10,U,Pacific/Port_Moresby',\n",
       " u'MAG,AYMD,\"-5.207083,145.7887\",20,10,U,Pacific/Port_Moresby',\n",
       " u'HGU,AYMH,\"-5.826789,144.295861\",5388,10,U,Pacific/Port_Moresby',\n",
       " u'LAE,AYNZ,\"-6.569828,146.726242\",239,10,U,Pacific/Port_Moresby',\n",
       " u'POM,AYPY,\"-9.443383,147.22005\",146,10,U,Pacific/Port_Moresby',\n",
       " u'WWK,AYWK,\"-3.583828,143.669186\",19,10,U,Pacific/Port_Moresby',\n",
       " u'UAK,BGBW,\"61.160517,-45.425978\",112,-3,E,America/Godthab',\n",
       " u'GOH,BGGH,\"64.190922,-51.678064\",283,-3,E,America/Godthab',\n",
       " u'SFJ,BGSF,\"67.016969,-50.689325\",165,-3,E,America/Godthab',\n",
       " u'THU,BGTL,\"76.531203,-68.703161\",251,-4,E,America/Thule']"
      ]
     },
     "execution_count": 7,
     "metadata": {},
     "output_type": "execute_result"
    }
   ],
   "source": [
    "airpot_data.take(10)"
   ]
  },
  {
   "cell_type": "code",
   "execution_count": 8,
   "metadata": {
    "collapsed": true
   },
   "outputs": [],
   "source": [
    "import csv\n",
    "from StringIO import StringIO\n",
    "from collections import namedtuple"
   ]
  },
  {
   "cell_type": "code",
   "execution_count": 9,
   "metadata": {
    "collapsed": true
   },
   "outputs": [],
   "source": [
    "airpot_header_fields = airpot_header.replace(\" \",\"_\").replace(\"/\",\"_\").split(\",\")"
   ]
  },
  {
   "cell_type": "code",
   "execution_count": 10,
   "metadata": {
    "collapsed": false
   },
   "outputs": [
    {
     "data": {
      "text/plain": [
       "[u'IATA_FAA', u'ICAO', u'Location', u'Altitude', u'Timezone', u'DST', u'Tz']"
      ]
     },
     "execution_count": 10,
     "metadata": {},
     "output_type": "execute_result"
    }
   ],
   "source": [
    "airpot_header_fields"
   ]
  },
  {
   "cell_type": "code",
   "execution_count": 11,
   "metadata": {
    "collapsed": false
   },
   "outputs": [
    {
     "name": "stdout",
     "output_type": "stream",
     "text": [
      "class class_for_nametuple(tuple):\n",
      "    'class_for_nametuple(IATA_FAA, ICAO, Location, Altitude, Timezone, DST, Tz)'\n",
      "\n",
      "    __slots__ = ()\n",
      "\n",
      "    _fields = ('IATA_FAA', 'ICAO', 'Location', 'Altitude', 'Timezone', 'DST', 'Tz')\n",
      "\n",
      "    def __new__(_cls, IATA_FAA, ICAO, Location, Altitude, Timezone, DST, Tz):\n",
      "        'Create new instance of class_for_nametuple(IATA_FAA, ICAO, Location, Altitude, Timezone, DST, Tz)'\n",
      "        return _tuple.__new__(_cls, (IATA_FAA, ICAO, Location, Altitude, Timezone, DST, Tz))\n",
      "\n",
      "    @classmethod\n",
      "    def _make(cls, iterable, new=tuple.__new__, len=len):\n",
      "        'Make a new class_for_nametuple object from a sequence or iterable'\n",
      "        result = new(cls, iterable)\n",
      "        if len(result) != 7:\n",
      "            raise TypeError('Expected 7 arguments, got %d' % len(result))\n",
      "        return result\n",
      "\n",
      "    def __repr__(self):\n",
      "        'Return a nicely formatted representation string'\n",
      "        return 'class_for_nametuple(IATA_FAA=%r, ICAO=%r, Location=%r, Altitude=%r, Timezone=%r, DST=%r, Tz=%r)' % self\n",
      "\n",
      "    def _asdict(self):\n",
      "        'Return a new OrderedDict which maps field names to their values'\n",
      "        return OrderedDict(zip(self._fields, self))\n",
      "\n",
      "    def _replace(_self, **kwds):\n",
      "        'Return a new class_for_nametuple object replacing specified fields with new values'\n",
      "        result = _self._make(map(kwds.pop, ('IATA_FAA', 'ICAO', 'Location', 'Altitude', 'Timezone', 'DST', 'Tz'), _self))\n",
      "        if kwds:\n",
      "            raise ValueError('Got unexpected field names: %r' % kwds.keys())\n",
      "        return result\n",
      "\n",
      "    def __getnewargs__(self):\n",
      "        'Return self as a plain tuple.  Used by copy and pickle.'\n",
      "        return tuple(self)\n",
      "\n",
      "    __dict__ = _property(_asdict)\n",
      "\n",
      "    def __getstate__(self):\n",
      "        'Exclude the OrderedDict from pickling'\n",
      "        pass\n",
      "\n",
      "    IATA_FAA = _property(_itemgetter(0), doc='Alias for field number 0')\n",
      "\n",
      "    ICAO = _property(_itemgetter(1), doc='Alias for field number 1')\n",
      "\n",
      "    Location = _property(_itemgetter(2), doc='Alias for field number 2')\n",
      "\n",
      "    Altitude = _property(_itemgetter(3), doc='Alias for field number 3')\n",
      "\n",
      "    Timezone = _property(_itemgetter(4), doc='Alias for field number 4')\n",
      "\n",
      "    DST = _property(_itemgetter(5), doc='Alias for field number 5')\n",
      "\n",
      "    Tz = _property(_itemgetter(6), doc='Alias for field number 6')\n",
      "\n",
      "\n"
     ]
    }
   ],
   "source": [
    "class_for_nametuple=namedtuple('class_for_nametuple',airpot_header_fields,verbose=True) #verbose=True it use for give more output related to class u create in spark"
   ]
  },
  {
   "cell_type": "code",
   "execution_count": 12,
   "metadata": {
    "collapsed": true
   },
   "outputs": [],
   "source": [
    "import logging\n",
    "logging.basicConfig(filename='/home/icpl12900/Desktop/example1.log',level=logging.DEBUG)\n",
    "logging.debug('This message should go to the log file')\n",
    "logging.info('So should this')\n",
    "logging.warning('And this, too')"
   ]
  },
  {
   "cell_type": "code",
   "execution_count": null,
   "metadata": {
    "collapsed": false
   },
   "outputs": [],
   "source": [
    "!pwd"
   ]
  },
  {
   "cell_type": "code",
   "execution_count": null,
   "metadata": {
    "collapsed": false
   },
   "outputs": [],
   "source": [
    "def parse(row):\n",
    "    try:\n",
    "        reader = csv.reader(StringIO(row))\n",
    "        row=reader.next()\n",
    "        print(\"{} {}\".format(\"My Data\",row.get(1)))\n",
    "        return class_for_nametuple(*row)\n",
    "    except:\n",
    "        return class_for_nametuple(Airport_ID='24', Name='St Anthony', City='St. Anthony', Country='Canada', IATA_FAA='YAY', ICAO='CYAY', Location=\"51.391944,-56.083056\", Altitude='108', Timezone='-3.5', DST='A', Tz='America/St_Johns')"
   ]
  },
  {
   "cell_type": "code",
   "execution_count": 16,
   "metadata": {
    "collapsed": true
   },
   "outputs": [],
   "source": [
    "def parse(row):\n",
    "    reader = csv.reader(StringIO(row))\n",
    "    row=reader.next()\n",
    "    return class_for_nametuple(*row)"
   ]
  },
  {
   "cell_type": "code",
   "execution_count": 17,
   "metadata": {
    "collapsed": false
   },
   "outputs": [],
   "source": [
    "airpot_data_name=airpot_data.map(parse)"
   ]
  },
  {
   "cell_type": "code",
   "execution_count": null,
   "metadata": {
    "collapsed": true
   },
   "outputs": [],
   "source": [
    "def processRecord(record):\n",
    "        print(record)"
   ]
  },
  {
   "cell_type": "code",
   "execution_count": 18,
   "metadata": {
    "collapsed": false
   },
   "outputs": [],
   "source": [
    "airpot_data.foreach(parse)"
   ]
  },
  {
   "cell_type": "code",
   "execution_count": 19,
   "metadata": {
    "collapsed": false
   },
   "outputs": [
    {
     "data": {
      "text/plain": [
       "PythonRDD[6] at RDD at PythonRDD.scala:49"
      ]
     },
     "execution_count": 19,
     "metadata": {},
     "output_type": "execute_result"
    }
   ],
   "source": [
    "airpot_data_name"
   ]
  },
  {
   "cell_type": "code",
   "execution_count": 20,
   "metadata": {
    "collapsed": false
   },
   "outputs": [
    {
     "data": {
      "text/plain": [
       "['-6.081689,145.391881',\n",
       " '-5.207083,145.7887',\n",
       " '-5.826789,144.295861',\n",
       " '-6.569828,146.726242',\n",
       " '-9.443383,147.22005',\n",
       " '-3.583828,143.669186',\n",
       " '61.160517,-45.425978',\n",
       " '64.190922,-51.678064',\n",
       " '67.016969,-50.689325',\n",
       " '76.531203,-68.703161',\n",
       " '65.659994,-18.072703',\n",
       " '65.283333,-14.401389',\n",
       " '64.295556,-15.227222',\n",
       " '65.952328,-17.425978',\n",
       " '66.058056,-23.135278',\n",
       " '63.985,-22.605556',\n",
       " '65.555833,-23.965',\n",
       " '64.13,-21.940556',\n",
       " '66.133333,-18.916667']"
      ]
     },
     "execution_count": 20,
     "metadata": {},
     "output_type": "execute_result"
    }
   ],
   "source": [
    "airpot_data_name.map(lambda x: x.Location).collect()"
   ]
  },
  {
   "cell_type": "code",
   "execution_count": 21,
   "metadata": {
    "collapsed": true
   },
   "outputs": [],
   "source": [
    "def extractCoords(location):\n",
    "    loc_lat = float(location[1:location.index(\",\")])\n",
    "    loc_lan = float(location[location.index(\",\")+1:-1])\n",
    "    return(loc_lat,loc_lan)\n",
    "    \n",
    "    "
   ]
  },
  {
   "cell_type": "code",
   "execution_count": 22,
   "metadata": {
    "collapsed": false,
    "scrolled": true
   },
   "outputs": [
    {
     "data": {
      "text/plain": [
       "PythonRDD[8] at RDD at PythonRDD.scala:49"
      ]
     },
     "execution_count": 22,
     "metadata": {},
     "output_type": "execute_result"
    }
   ],
   "source": [
    "airpot_data_name.map(lambda x:extractCoords(x.Location))"
   ]
  },
  {
   "cell_type": "code",
   "execution_count": 70,
   "metadata": {
    "collapsed": false
   },
   "outputs": [
    {
     "data": {
      "text/plain": [
       "PythonRDD[33] at RDD at PythonRDD.scala:49"
      ]
     },
     "execution_count": 70,
     "metadata": {},
     "output_type": "execute_result"
    }
   ],
   "source": [
    "airpot_data_name.map(lambda x:extractCoords(x.Location))"
   ]
  },
  {
   "cell_type": "code",
   "execution_count": 75,
   "metadata": {
    "collapsed": false
   },
   "outputs": [
    {
     "data": {
      "text/plain": [
       "[class_for_nametuple(IATA_FAA='GKA', ICAO='AYGA', Location='-6.081689,145.391881', Altitude='5282', Timezone='10', DST='U', Tz='Pacific/Port_Moresby'),\n",
       " class_for_nametuple(IATA_FAA='MAG', ICAO='AYMD', Location='-5.207083,145.7887', Altitude='20', Timezone='10', DST='U', Tz='Pacific/Port_Moresby'),\n",
       " class_for_nametuple(IATA_FAA='HGU', ICAO='AYMH', Location='-5.826789,144.295861', Altitude='5388', Timezone='10', DST='U', Tz='Pacific/Port_Moresby'),\n",
       " class_for_nametuple(IATA_FAA='LAE', ICAO='AYNZ', Location='-6.569828,146.726242', Altitude='239', Timezone='10', DST='U', Tz='Pacific/Port_Moresby'),\n",
       " class_for_nametuple(IATA_FAA='POM', ICAO='AYPY', Location='-9.443383,147.22005', Altitude='146', Timezone='10', DST='U', Tz='Pacific/Port_Moresby'),\n",
       " class_for_nametuple(IATA_FAA='WWK', ICAO='AYWK', Location='-3.583828,143.669186', Altitude='19', Timezone='10', DST='U', Tz='Pacific/Port_Moresby'),\n",
       " class_for_nametuple(IATA_FAA='UAK', ICAO='BGBW', Location='61.160517,-45.425978', Altitude='112', Timezone='-3', DST='E', Tz='America/Godthab'),\n",
       " class_for_nametuple(IATA_FAA='GOH', ICAO='BGGH', Location='64.190922,-51.678064', Altitude='283', Timezone='-3', DST='E', Tz='America/Godthab'),\n",
       " class_for_nametuple(IATA_FAA='SFJ', ICAO='BGSF', Location='67.016969,-50.689325', Altitude='165', Timezone='-3', DST='E', Tz='America/Godthab'),\n",
       " class_for_nametuple(IATA_FAA='THU', ICAO='BGTL', Location='76.531203,-68.703161', Altitude='251', Timezone='-4', DST='E', Tz='America/Thule'),\n",
       " class_for_nametuple(IATA_FAA='AEY', ICAO='BIAR', Location='65.659994,-18.072703', Altitude='6', Timezone='0', DST='N', Tz='Atlantic/Reykjavik'),\n",
       " class_for_nametuple(IATA_FAA='EGS', ICAO='BIEG', Location='65.283333,-14.401389', Altitude='76', Timezone='0', DST='N', Tz='Atlantic/Reykjavik'),\n",
       " class_for_nametuple(IATA_FAA='HFN', ICAO='BIHN', Location='64.295556,-15.227222', Altitude='24', Timezone='0', DST='N', Tz='Atlantic/Reykjavik'),\n",
       " class_for_nametuple(IATA_FAA='HZK', ICAO='BIHU', Location='65.952328,-17.425978', Altitude='48', Timezone='0', DST='N', Tz='Atlantic/Reykjavik'),\n",
       " class_for_nametuple(IATA_FAA='IFJ', ICAO='BIIS', Location='66.058056,-23.135278', Altitude='8', Timezone='0', DST='N', Tz='Atlantic/Reykjavik'),\n",
       " class_for_nametuple(IATA_FAA='KEF', ICAO='BIKF', Location='63.985,-22.605556', Altitude='171', Timezone='0', DST='N', Tz='Atlantic/Reykjavik'),\n",
       " class_for_nametuple(IATA_FAA='PFJ', ICAO='BIPA', Location='65.555833,-23.965', Altitude='11', Timezone='0', DST='N', Tz='Atlantic/Reykjavik'),\n",
       " class_for_nametuple(IATA_FAA='RKV', ICAO='BIRK', Location='64.13,-21.940556', Altitude='48', Timezone='0', DST='N', Tz='Atlantic/Reykjavik'),\n",
       " class_for_nametuple(IATA_FAA='SIJ', ICAO='BISI', Location='66.133333,-18.916667', Altitude='10', Timezone='0', DST='N', Tz='Atlantic/Reykjavik')]"
      ]
     },
     "execution_count": 75,
     "metadata": {},
     "output_type": "execute_result"
    }
   ],
   "source": [
    "airpot_data_name.collect()"
   ]
  },
  {
   "cell_type": "code",
   "execution_count": 72,
   "metadata": {
    "collapsed": false,
    "scrolled": true
   },
   "outputs": [
    {
     "data": {
      "text/plain": [
       "(1.160517, -68.70316)"
      ]
     },
     "execution_count": 72,
     "metadata": {},
     "output_type": "execute_result"
    }
   ],
   "source": [
    "airpot_data_name.map(lambda x:extractCoords(x.Location)).reduce(lambda x,y:(min(x[0],y[0]),(min(x[1],y[1]))))\n",
    "\n",
    "#x,y means two rows\n",
    "#it find long and minimum latitude\n",
    "#lambda x, y means two arguuments pass to function\n",
    "           "
   ]
  },
  {
   "cell_type": "code",
   "execution_count": 73,
   "metadata": {
    "collapsed": false
   },
   "outputs": [
    {
     "data": {
      "text/plain": [
       "[(6.081689, 145.39188),\n",
       " (5.207083, 145.788),\n",
       " (5.826789, 144.29586),\n",
       " (6.569828, 146.72624),\n",
       " (9.443383, 147.22),\n",
       " (3.583828, 143.66918),\n",
       " (1.160517, -45.42597),\n",
       " (4.190922, -51.67806),\n",
       " (7.016969, -50.68932),\n",
       " (6.531203, -68.70316),\n",
       " (5.659994, -18.0727),\n",
       " (5.283333, -14.40138),\n",
       " (4.295556, -15.22722),\n",
       " (5.952328, -17.42597),\n",
       " (6.058056, -23.13527),\n",
       " (3.985, -22.60555),\n",
       " (5.555833, -23.96),\n",
       " (4.13, -21.94055),\n",
       " (6.133333, -18.91666)]"
      ]
     },
     "execution_count": 73,
     "metadata": {},
     "output_type": "execute_result"
    }
   ],
   "source": []
  },
  {
   "cell_type": "code",
   "execution_count": 82,
   "metadata": {
    "collapsed": false
   },
   "outputs": [
    {
     "data": {
      "text/plain": [
       "defaultdict(int, {'Atlantic/Reykjavik': 9})"
      ]
     },
     "execution_count": 82,
     "metadata": {},
     "output_type": "execute_result"
    }
   ],
   "source": [
    "airpot_data_name.filter(lambda x:x.DST == 'N').map(lambda x:x.Tz).countByValue()"
   ]
  },
  {
   "cell_type": "code",
   "execution_count": 95,
   "metadata": {
    "collapsed": false
   },
   "outputs": [],
   "source": [
    "#need to work on it\n",
    "\n",
    "import gmplot\n",
    "\n",
    "gmap = gmplot.GoogleMapPlotter(37.428, -122.145, 16)\n"
   ]
  },
  {
   "cell_type": "markdown",
   "metadata": {},
   "source": [
    "# PAIR RDD"
   ]
  },
  {
   "cell_type": "code",
   "execution_count": 104,
   "metadata": {
    "collapsed": false
   },
   "outputs": [],
   "source": [
    "file1=\"file:///home/icpl12900/Desktop/Pair_rdd/Dodgers.data\"\n",
    "file2=\"file:///home/icpl12900/Desktop/Pair_rdd/Dodgers.events\""
   ]
  },
  {
   "cell_type": "code",
   "execution_count": 105,
   "metadata": {
    "collapsed": false
   },
   "outputs": [
    {
     "data": {
      "text/plain": [
       "[u'4/10/2005 0:00,-1',\n",
       " u'4/10/2005 0:05,-1',\n",
       " u'4/10/2005 0:10,-1',\n",
       " u'4/10/2005 0:15,-1',\n",
       " u'4/10/2005 0:20,-1',\n",
       " u'4/10/2005 0:25,-1',\n",
       " u'4/10/2005 0:30,-1',\n",
       " u'4/10/2005 0:35,-1',\n",
       " u'4/10/2005 0:40,-1',\n",
       " u'4/10/2005 0:45,-1']"
      ]
     },
     "execution_count": 105,
     "metadata": {},
     "output_type": "execute_result"
    }
   ],
   "source": [
    "traffic=sc.textFile(file1)\n",
    "traffic.take(10) #time after 5 min , no of car within that 5 min"
   ]
  },
  {
   "cell_type": "code",
   "execution_count": 107,
   "metadata": {
    "collapsed": false
   },
   "outputs": [
    {
     "data": {
      "text/plain": [
       "[u'04/12/05,13:10:00,16:23:00,55892,San Francisco,W 9-8\\ufffd',\n",
       " u'04/13/05,19:10:00,21:48:00,46514,San Francisco,W 4-1\\ufffd',\n",
       " u'04/15/05,19:40:00,21:48:00,51816,San Diego,W 4-0\\ufffd',\n",
       " u'04/16/05,19:10:00,21:52:00,54704,San Diego,W 8-3\\ufffd',\n",
       " u'04/17/05,13:10:00,15:31:00,53402,San Diego,W 6-0\\ufffd',\n",
       " u'04/25/05,19:10:00,21:33:00,36876,Arizona,L 4-2\\ufffd',\n",
       " u'04/26/05,19:10:00,22:00:00,44486,Arizona,L 3-2\\ufffd',\n",
       " u'04/27/05,19:10:00,22:17:00,54387,Arizona,L 6-3\\ufffd',\n",
       " u'04/29/05,19:40:00,22:01:00,40150,Colorado,W 6-3\\ufffd',\n",
       " u'04/30/05,19:10:00,21:45:00,54123,Colorado,W 6-2\\ufffd']"
      ]
     },
     "execution_count": 107,
     "metadata": {},
     "output_type": "execute_result"
    }
   ],
   "source": [
    "game=sc.textFile(file2)\n",
    "game.take(10)  #startTime , endTime, audience,opponent,win/loss along with score"
   ]
  },
  {
   "cell_type": "code",
   "execution_count": 112,
   "metadata": {
    "collapsed": true
   },
   "outputs": [],
   "source": [
    "from StringIO import StringIO\n",
    "from datetime import datetime\n",
    "import csv\n",
    "\n",
    "def parsetraffic(row):\n",
    "    date_format = \"%m/%d/%Y %H:%M\"\n",
    "    row = row.split(\",\")\n",
    "    row[0] = datetime.strptime(row[0],date_format)\n",
    "    row[1]=int(row[1])\n",
    "    return(row[0],row[1]) #here we create tuple from record and i.e we create pair RDD"
   ]
  },
  {
   "cell_type": "code",
   "execution_count": 113,
   "metadata": {
    "collapsed": true
   },
   "outputs": [],
   "source": [
    "trafficparse = traffic.map(parsetraffic)"
   ]
  },
  {
   "cell_type": "code",
   "execution_count": 114,
   "metadata": {
    "collapsed": false,
    "scrolled": true
   },
   "outputs": [
    {
     "data": {
      "text/plain": [
       "[(datetime.datetime(2005, 4, 10, 0, 0), -1),\n",
       " (datetime.datetime(2005, 4, 10, 0, 5), -1),\n",
       " (datetime.datetime(2005, 4, 10, 0, 10), -1),\n",
       " (datetime.datetime(2005, 4, 10, 0, 15), -1),\n",
       " (datetime.datetime(2005, 4, 10, 0, 20), -1),\n",
       " (datetime.datetime(2005, 4, 10, 0, 25), -1),\n",
       " (datetime.datetime(2005, 4, 10, 0, 30), -1),\n",
       " (datetime.datetime(2005, 4, 10, 0, 35), -1),\n",
       " (datetime.datetime(2005, 4, 10, 0, 40), -1),\n",
       " (datetime.datetime(2005, 4, 10, 0, 45), -1)]"
      ]
     },
     "execution_count": 114,
     "metadata": {},
     "output_type": "execute_result"
    }
   ],
   "source": [
    "trafficparse.take(10) #timestamp = key and no. of cars = value"
   ]
  },
  {
   "cell_type": "markdown",
   "metadata": {},
   "source": [
    "# 1. reduceByKey : "
   ]
  },
  {
   "cell_type": "markdown",
   "metadata": {},
   "source": [
    " \n",
    "\n",
    "same as reduce operation and use for combine record who have same key\n",
    "\n",
    "it need function with two arguments\n",
    "\n",
    "it is transformation\n",
    "\n",
    "it return RDD and we have to do operation on it\n",
    "\n",
    "\n",
    "syntax: lambda(x,y:x+y)    it take 2 value of same key and combine it"
   ]
  },
  {
   "cell_type": "code",
   "execution_count": 117,
   "metadata": {
    "collapsed": true
   },
   "outputs": [],
   "source": [
    "dailytrend = trafficparse.map(lambda x : (x[0].date(),x[1]))\\\n",
    "                        .reduceByKey(lambda x,y :x+y)\n",
    "    \n",
    "    \n",
    "    #we create RDD where key = date and Value = sum of cars\n",
    "    #we convert timestamp into date and take 2nd argument as it is and apply reduceByKey function to sum no of cars of same date"
   ]
  },
  {
   "cell_type": "code",
   "execution_count": 118,
   "metadata": {
    "collapsed": false
   },
   "outputs": [
    {
     "data": {
      "text/plain": [
       "[(datetime.date(2005, 8, 9), 5958),\n",
       " (datetime.date(2005, 6, 29), 5437),\n",
       " (datetime.date(2005, 8, 17), 6673),\n",
       " (datetime.date(2005, 9, 6), 6402),\n",
       " (datetime.date(2005, 5, 22), 4977),\n",
       " (datetime.date(2005, 6, 21), 5759),\n",
       " (datetime.date(2005, 7, 14), 5338),\n",
       " (datetime.date(2005, 8, 25), 6463),\n",
       " (datetime.date(2005, 9, 14), 5631),\n",
       " (datetime.date(2005, 5, 30), 3973)]"
      ]
     },
     "execution_count": 118,
     "metadata": {},
     "output_type": "execute_result"
    }
   ],
   "source": [
    "dailytrend.take(10)"
   ]
  },
  {
   "cell_type": "code",
   "execution_count": 124,
   "metadata": {
    "collapsed": true
   },
   "outputs": [],
   "source": [
    "sort_dailytrend = dailytrend.sortBy(lambda x: -x[1]) \n",
    "\n",
    "#sort operation to sort record and -x[1]   means sort by value i.e x[1] and -x[1] means sort by descinding order\n",
    "#if we use x[1] only then sort by ascending order\n",
    "#sortBy is built-in function"
   ]
  },
  {
   "cell_type": "code",
   "execution_count": 123,
   "metadata": {
    "collapsed": false
   },
   "outputs": [
    {
     "data": {
      "text/plain": [
       "[(datetime.date(2005, 4, 10), -288),\n",
       " (datetime.date(2005, 10, 1), -260),\n",
       " (datetime.date(2005, 6, 28), -96),\n",
       " (datetime.date(2005, 7, 4), 328),\n",
       " (datetime.date(2005, 7, 12), 1204),\n",
       " (datetime.date(2005, 5, 23), 2173),\n",
       " (datetime.date(2005, 9, 17), 2426),\n",
       " (datetime.date(2005, 9, 10), 2851),\n",
       " (datetime.date(2005, 6, 27), 2907),\n",
       " (datetime.date(2005, 7, 10), 3518)]"
      ]
     },
     "execution_count": 123,
     "metadata": {},
     "output_type": "execute_result"
    }
   ],
   "source": [
    "sort_dailytrend.take(10)"
   ]
  },
  {
   "cell_type": "markdown",
   "metadata": {},
   "source": [
    "# 2.Merge "
   ]
  },
  {
   "cell_type": "markdown",
   "metadata": {},
   "source": [
    "spark allow you to merge two pair RDD based on keys . and if they have different value then it make list of that differnt value of same key and this operation is called \"JOIN\"\n",
    "\n",
    "three diff join:\n",
    "\n",
    "1.join == inner join\n",
    "\n",
    "2.leftOuterJoin == same as sql\n",
    "\n",
    "3.rightOuterJoin == same as sql"
   ]
  },
  {
   "cell_type": "code",
   "execution_count": 132,
   "metadata": {
    "collapsed": true
   },
   "outputs": [],
   "source": [
    "from StringIO import StringIO\n",
    "from datetime import datetime\n",
    "import csv\n",
    "\n",
    "def parsegame(row):\n",
    "    date_format = \"%m/%d/%y\"\n",
    "    row = row.split(\",\")\n",
    "    row[0] = datetime.strptime(row[0],date_format).date()\n",
    "    return(row[0],row[4])   "
   ]
  },
  {
   "cell_type": "code",
   "execution_count": 135,
   "metadata": {
    "collapsed": true
   },
   "outputs": [],
   "source": [
    "gameparse = game.map(parsegame)  #create pair RDD of Game"
   ]
  },
  {
   "cell_type": "code",
   "execution_count": 136,
   "metadata": {
    "collapsed": false
   },
   "outputs": [
    {
     "data": {
      "text/plain": [
       "[(datetime.date(2005, 4, 12), u'San Francisco'),\n",
       " (datetime.date(2005, 4, 13), u'San Francisco'),\n",
       " (datetime.date(2005, 4, 15), u'San Diego'),\n",
       " (datetime.date(2005, 4, 16), u'San Diego'),\n",
       " (datetime.date(2005, 4, 17), u'San Diego'),\n",
       " (datetime.date(2005, 4, 25), u'Arizona'),\n",
       " (datetime.date(2005, 4, 26), u'Arizona'),\n",
       " (datetime.date(2005, 4, 27), u'Arizona'),\n",
       " (datetime.date(2005, 4, 29), u'Colorado'),\n",
       " (datetime.date(2005, 4, 30), u'Colorado')]"
      ]
     },
     "execution_count": 136,
     "metadata": {},
     "output_type": "execute_result"
    }
   ],
   "source": [
    "gameparse.take(10)"
   ]
  },
  {
   "cell_type": "code",
   "execution_count": 139,
   "metadata": {
    "collapsed": true
   },
   "outputs": [],
   "source": [
    "dailyTrendCombined = dailytrend.leftOuterJoin(gameparse)\n",
    "#create new RDD"
   ]
  },
  {
   "cell_type": "code",
   "execution_count": 140,
   "metadata": {
    "collapsed": false
   },
   "outputs": [
    {
     "data": {
      "text/plain": [
       "[(datetime.date(2005, 9, 24), (5848, u'Pittsburgh')),\n",
       " (datetime.date(2005, 8, 11), (7110, u'Philadelphia')),\n",
       " (datetime.date(2005, 6, 21), (5759, None)),\n",
       " (datetime.date(2005, 5, 24), (4138, None)),\n",
       " (datetime.date(2005, 6, 13), (5974, None)),\n",
       " (datetime.date(2005, 7, 18), (5994, None)),\n",
       " (datetime.date(2005, 4, 23), (5366, None)),\n",
       " (datetime.date(2005, 6, 29), (5437, u'San Diego')),\n",
       " (datetime.date(2005, 8, 15), (5329, None)),\n",
       " (datetime.date(2005, 6, 1), (6520, u'Chicago Cubs'))]"
      ]
     },
     "execution_count": 140,
     "metadata": {},
     "output_type": "execute_result"
    }
   ],
   "source": [
    "dailyTrendCombined.take(10)\n",
    "#here we join two RDD using date =key and make list of value"
   ]
  },
  {
   "cell_type": "code",
   "execution_count": 142,
   "metadata": {
    "collapsed": true
   },
   "outputs": [],
   "source": [
    "def checkGameDay(row):\n",
    "    if row[1][1] == None:\n",
    "        return (row[0],row[1][1],\"Regular Day\",row[1][0])\n",
    "    else:\n",
    "         return (row[0],row[1][1],\"Game Day\",row[1][0])\n",
    "\n",
    "#create function to convert tuple into 4 values:\n",
    "    #date,opponent,type of day and #car\n",
    "    \n",
    "#here row[1][1] means row from leftOuterJoin 2 value from Value elment bcoz index start with 0 so key =0 index and value=1st index"
   ]
  },
  {
   "cell_type": "code",
   "execution_count": 143,
   "metadata": {
    "collapsed": true
   },
   "outputs": [],
   "source": [
    "dailytrendgame = dailyTrendCombined.map(checkGameDay)\n",
    "#apply function"
   ]
  },
  {
   "cell_type": "code",
   "execution_count": 144,
   "metadata": {
    "collapsed": false
   },
   "outputs": [
    {
     "data": {
      "text/plain": [
       "[(datetime.date(2005, 9, 24), u'Pittsburgh', 'Game Day', 5848),\n",
       " (datetime.date(2005, 8, 11), u'Philadelphia', 'Game Day', 7110),\n",
       " (datetime.date(2005, 6, 21), None, 'Regular Day', 5759),\n",
       " (datetime.date(2005, 5, 24), None, 'Regular Day', 4138),\n",
       " (datetime.date(2005, 6, 13), None, 'Regular Day', 5974),\n",
       " (datetime.date(2005, 7, 18), None, 'Regular Day', 5994),\n",
       " (datetime.date(2005, 4, 23), None, 'Regular Day', 5366),\n",
       " (datetime.date(2005, 6, 29), u'San Diego', 'Game Day', 5437),\n",
       " (datetime.date(2005, 8, 15), None, 'Regular Day', 5329),\n",
       " (datetime.date(2005, 6, 1), u'Chicago Cubs', 'Game Day', 6520)]"
      ]
     },
     "execution_count": 144,
     "metadata": {},
     "output_type": "execute_result"
    }
   ],
   "source": [
    "dailytrendgame.take(10)"
   ]
  },
  {
   "cell_type": "code",
   "execution_count": 147,
   "metadata": {
    "collapsed": false,
    "scrolled": true
   },
   "outputs": [
    {
     "data": {
      "text/plain": [
       "[(datetime.date(2005, 7, 28), u'Cincinnati', 'Game Day', 7661),\n",
       " (datetime.date(2005, 7, 29), u'St. Louis', 'Game Day', 7499),\n",
       " (datetime.date(2005, 8, 12), u'NY Mets', 'Game Day', 7287),\n",
       " (datetime.date(2005, 7, 27), u'Cincinnati', 'Game Day', 7238),\n",
       " (datetime.date(2005, 9, 23), u'Pittsburgh', 'Game Day', 7175),\n",
       " (datetime.date(2005, 7, 26), u'Cincinnati', 'Game Day', 7163),\n",
       " (datetime.date(2005, 5, 20), u'LA Angels', 'Game Day', 7119),\n",
       " (datetime.date(2005, 8, 11), u'Philadelphia', 'Game Day', 7110),\n",
       " (datetime.date(2005, 9, 8), None, 'Regular Day', 7107),\n",
       " (datetime.date(2005, 9, 7), u'San Francisco', 'Game Day', 7082)]"
      ]
     },
     "execution_count": 147,
     "metadata": {},
     "output_type": "execute_result"
    }
   ],
   "source": [
    "dailytrendgame.sortBy(lambda x : -x[3]).take(10) #apply descending sort"
   ]
  },
  {
   "cell_type": "markdown",
   "metadata": {},
   "source": [
    "#  3. CombineByKey"
   ]
  },
  {
   "cell_type": "markdown",
   "metadata": {},
   "source": [
    "use for combine record of same key within RDD\n",
    "\n",
    "use for finding \"AVERAGE of value\"\n",
    "\n",
    "if we want to calculate average by using \"reduceByKey\" then it give wrong result bcoz reduceByKey 1st apply on 1st two rows then result and 3rd row. so it give wrong result\n",
    "\n",
    "so for right result use following:\n",
    "\n",
    "1.sum per group\n",
    "\n",
    "2.count per group\n",
    "\n",
    "3.join\n",
    "\n",
    "4.divide sum/count\n",
    "\n",
    "using combineByKey we complete 1st three steps in 1 step:\n",
    "\n",
    "    combineByKey required 3 function  to compute sum and count at same time"
   ]
  },
  {
   "cell_type": "code",
   "execution_count": 148,
   "metadata": {
    "collapsed": false
   },
   "outputs": [
    {
     "data": {
      "text/plain": [
       "[('Game Day', 5948), ('Regular Day', 5411)]"
      ]
     },
     "execution_count": 148,
     "metadata": {},
     "output_type": "execute_result"
    }
   ],
   "source": [
    "dailytrendgame.map(lambda x : (x[2],x[3]))\\  #here 1st create pair RDD where key=regular day or game day and value=traffic\n",
    "               .combineByKey(lambda value : (value,1),\\\n",
    "                             (lambda acc,value : (acc[0] + value, acc[1] + 1)),\\\n",
    "                             (lambda acc1,acc2 : (acc1[0]+acc2[0],acc1[1]+acc2[1])))\\\n",
    "                .mapValues(lambda x : x[0]/x[1])\\ #here we take ratio of sum and count\n",
    "                .collect()\n",
    "                "
   ]
  },
  {
   "cell_type": "markdown",
   "metadata": {
    "collapsed": true
   },
   "source": [
    "# Modeling Relationships in the Marvel Social Universe"
   ]
  },
  {
   "cell_type": "code",
   "execution_count": 2,
   "metadata": {
    "collapsed": true
   },
   "outputs": [],
   "source": [
    "bookpath = \"file:///home/icpl12900/Desktop/marvel/Books.txt\"\n",
    "charpath = \"file:///home/icpl12900/Desktop/marvel/Characters.txt\"\n",
    "edgepath = \"file:///home/icpl12900/Desktop/marvel/Edges.txt\""
   ]
  },
  {
   "cell_type": "code",
   "execution_count": 4,
   "metadata": {
    "collapsed": true
   },
   "outputs": [],
   "source": [
    "book = sc.textFile(bookpath)\n",
    "char =  sc.textFile(charpath)\n",
    "edge =  sc.textFile(edgepath)"
   ]
  },
  {
   "cell_type": "code",
   "execution_count": 7,
   "metadata": {
    "collapsed": false
   },
   "outputs": [
    {
     "data": {
      "text/plain": [
       "[u'Vertex 6487: AA2 35', u'Vertex 6488: M/PRM 35']"
      ]
     },
     "execution_count": 7,
     "metadata": {},
     "output_type": "execute_result"
    }
   ],
   "source": [
    "book.take(2) #vertex name and book name"
   ]
  },
  {
   "cell_type": "code",
   "execution_count": 10,
   "metadata": {
    "collapsed": false
   },
   "outputs": [
    {
     "data": {
      "text/plain": [
       "[u'Vertex 1: 24-HOUR MAN/EMMANUEL',\n",
       " u'Vertex 2: 3-D MAN/CHARLES CHANDLER & HAROLD CHANDLER']"
      ]
     },
     "execution_count": 10,
     "metadata": {},
     "output_type": "execute_result"
    }
   ],
   "source": [
    "char.take(2) #vertex no or character id and char name"
   ]
  },
  {
   "cell_type": "code",
   "execution_count": 11,
   "metadata": {
    "collapsed": false
   },
   "outputs": [
    {
     "data": {
      "text/plain": [
       "[u'*Vertices 19428 6486', u'1 \"24-HOUR MAN/EMMANUEL\"']"
      ]
     },
     "execution_count": 11,
     "metadata": {},
     "output_type": "execute_result"
    }
   ],
   "source": [
    "edge.take(2) #1st contain all vertex that appear in book and char , and edge"
   ]
  },
  {
   "cell_type": "code",
   "execution_count": 12,
   "metadata": {
    "collapsed": true
   },
   "outputs": [],
   "source": [
    "def edgefilter(row):\n",
    "    if '*' in row or '\"' in row:\n",
    "        return False\n",
    "    else:\n",
    "        return True\n",
    "edgefil = edge.filter(edgefilter)"
   ]
  },
  {
   "cell_type": "code",
   "execution_count": 14,
   "metadata": {
    "collapsed": false
   },
   "outputs": [
    {
     "data": {
      "text/plain": [
       "[u'1 6487', u'2 6488 6489 6490 6491 6492 6493 6494 6495 6496']"
      ]
     },
     "execution_count": 14,
     "metadata": {},
     "output_type": "execute_result"
    }
   ],
   "source": [
    "edgefil.take(2)  #it contain only edges"
   ]
  },
  {
   "cell_type": "markdown",
   "metadata": {},
   "source": [
    "# 1. For most influence char"
   ]
  },
  {
   "cell_type": "code",
   "execution_count": 15,
   "metadata": {
    "collapsed": true
   },
   "outputs": [],
   "source": [
    "charbookmap = edgefil.map(lambda x : x.split())\\\n",
    "                        .map(lambda x : (x[0],x[1:]))  #x[0] is char and x[1:] list book that contain char\n",
    "    #here we create pair RDD where key = character and value is list of book"
   ]
  },
  {
   "cell_type": "code",
   "execution_count": 16,
   "metadata": {
    "collapsed": false
   },
   "outputs": [
    {
     "data": {
      "text/plain": [
       "[(u'1', [u'6487']),\n",
       " (u'2',\n",
       "  [u'6488',\n",
       "   u'6489',\n",
       "   u'6490',\n",
       "   u'6491',\n",
       "   u'6492',\n",
       "   u'6493',\n",
       "   u'6494',\n",
       "   u'6495',\n",
       "   u'6496'])]"
      ]
     },
     "execution_count": 16,
     "metadata": {},
     "output_type": "execute_result"
    }
   ],
   "source": [
    "charbookmap.take(2)"
   ]
  },
  {
   "cell_type": "code",
   "execution_count": 18,
   "metadata": {
    "collapsed": false
   },
   "outputs": [],
   "source": [
    "charPairRDD = char.map(lambda x : x.split(\":\"))\\\n",
    "                .map(lambda x : (x[0][7:] , x[1]))"
   ]
  },
  {
   "cell_type": "code",
   "execution_count": 19,
   "metadata": {
    "collapsed": false
   },
   "outputs": [
    {
     "data": {
      "text/plain": [
       "[(u'1', u' 24-HOUR MAN/EMMANUEL'),\n",
       " (u'2', u' 3-D MAN/CHARLES CHANDLER & HAROLD CHANDLER')]"
      ]
     },
     "execution_count": 19,
     "metadata": {},
     "output_type": "execute_result"
    }
   ],
   "source": [
    "charPairRDD.take(2)"
   ]
  },
  {
   "cell_type": "code",
   "execution_count": 20,
   "metadata": {
    "collapsed": true
   },
   "outputs": [],
   "source": [
    "charDictionary = charPairRDD.collectAsMap() #collectAsMap is use with Pair RDD and take pair RDD and return dictionary"
   ]
  },
  {
   "cell_type": "code",
   "execution_count": 22,
   "metadata": {
    "collapsed": false
   },
   "outputs": [
    {
     "data": {
      "text/plain": [
       "{u'5988': u' VALKYRIE II | MUTANT X-VERSE',\n",
       " u'5989': u' VALKYRIE IV',\n",
       " u'5982': u' VAGABOND/PRISCILLA LYONS',\n",
       " u'5983': u' VAGUE/',\n",
       " u'5980': u' UTGARD-LOKI',\n",
       " u'5981': u' VACUUM',\n",
       " u'5986': u' VALINOR',\n",
       " u'5987': u' VALKIN',\n",
       " u'5984': u' VAKUME',\n",
       " u'5985': u' VALERIA',\n",
       " u'6294': u' WOLF SPIRIT/OWAYODATA',\n",
       " u'270': u' AUGUST PERSONAGE IN JADE/YU-TI',\n",
       " u'271': u' AUNTIE FREEZE/',\n",
       " u'272': u' AURA/ANN HERD',\n",
       " u'273': u' AURIC/',\n",
       " u'274': u' AURORA/JEANNE-MARIE BAUBIER',\n",
       " u'275': u' AURORA DOPPELGANGER',\n",
       " u'276': u' AURORA | MUTANT X-VERSE',\n",
       " u'277': u' AUSTIN, GEN.',\n",
       " u'278': u' AUSTIN, SUSAN',\n",
       " u'279': u' AUSTIN, TERRY',\n",
       " u'2143': u' GLADIATRIX',\n",
       " u'2142': u' GLADIATOR II',\n",
       " u'3519': u' MASTER OM',\n",
       " u'3518': u' MASTER OF VENGEANCE',\n",
       " u'3513': u' MASTER MENACE/DR. EMIL BURBANK',\n",
       " u'3512': u' MASTER MAN II/ALEXANDER',\n",
       " u'3511': u' MASTER MAN/WILHELM LOHMER GSINV 1',\n",
       " u'3510': u' MASTER LINK/WILLIS HAYWORTH',\n",
       " u'3517': u' MASTER MONARCH/',\n",
       " u'3516': u' MASTER MOLD III',\n",
       " u'3515': u' MASTER MOLD II',\n",
       " u'3514': u' MASTER MOLD',\n",
       " u'2688': u\" K'RK [SHI'AR]\",\n",
       " u'2689': u' KA-ZAR/KEVIN PLUNDER',\n",
       " u'2684': u' IZANAMI II',\n",
       " u'2685': u' IZZIFIZZ',\n",
       " u'2686': u\" K'AD-MON\",\n",
       " u'2687': u\" K'RIN\",\n",
       " u'2680': u' ITZAMNA',\n",
       " u'2681': u' IVANOVA, ELENA',\n",
       " u'2682': u' IVORY/',\n",
       " u'2683': u' IZANAMI',\n",
       " u'99': u' AMERICAN EAGLE III/JASON STRONGBOW',\n",
       " u'98': u' AMERICAN EAGLE II/JAMES DORE',\n",
       " u'91': u' ALRAUNE, MARLENE',\n",
       " u'90': u' ALPHA',\n",
       " u'93': u' ALVAREZ, PAUL',\n",
       " u'92': u' ALVAREZ, CARLY',\n",
       " u'95': u' AMAZO-MAXI-WOMAN/',\n",
       " u'94': u' ALVAREZ, FELIX',\n",
       " u'97': u' AMENHOTEP',\n",
       " u'96': u' AMAZON',\n",
       " u'1177': u' CORBEAU, DR. PETER',\n",
       " u'1176': u' CORAL',\n",
       " u'1175': u' COPYCAT/VANESSA',\n",
       " u'1174': u' COPPERSMITH, ALFRED',\n",
       " u'1173': u' COPPERHEAD IV/',\n",
       " u'1172': u' COPPERHEAD III/DAVIS LAWFERS',\n",
       " u'1171': u' COPPERHEAD II/',\n",
       " u'1170': u' COPPERHEAD/LAWRENCE CHESNEY',\n",
       " u'1179': u' CORD, JANICE',\n",
       " u'1178': u' CORD, EDWIN',\n",
       " u'876': u' CAPTAIN MARVEL III/GENIS-VELL',\n",
       " u'877': u' CAPTAIN POWER/DR. CHRISTINA CARR',\n",
       " u'3432': u' MANNING, DR.',\n",
       " u'623': u' BLUE BULLET/PROF. JOHN GOLDSTEIN',\n",
       " u'875': u' CAPTAIN MARVEL II/MONICA RAMBEAU',\n",
       " u'622': u' BLUDGEON/',\n",
       " u'872': u' CAPTAIN HIP/FRED MACRAE',\n",
       " u'1225': u' CRIMSON CRUSADER/RORY DESTINE',\n",
       " u'3435': u' MANIPULATOR II',\n",
       " u'620': u' BLOWTORCH/',\n",
       " u'870': u' CAPTAIN GLORY',\n",
       " u'627': u' BLUNT',\n",
       " u'871': u' CAPTAIN HAWK',\n",
       " u'626': u' BLUE STREAK/',\n",
       " u'4592': u' RED GUARDIAN IV',\n",
       " u'625': u' BLUE SHIELD/JOSEPH JOEY CARTELLI',\n",
       " u'2036': u' GALEN KOR, ADMIRAL [KREE]',\n",
       " u'624': u' BLUE DIAMOND/PROFESSOR ELTON T. MORROW',\n",
       " u'4590': u' RED GUARDIAN II/ALEXI ALANOVICH SHOSTAKOV',\n",
       " u'4591': u' RED GUARDIAN III/DR. TANIA BELINSKY',\n",
       " u'4596': u' RED RAVEN II',\n",
       " u'4849': u' SANTINI, DR. JOSE',\n",
       " u'4594': u' RED QUEEN',\n",
       " u'4595': u' RED RAVEN',\n",
       " u'2749': u' KAZE',\n",
       " u'4845': u' SANDY',\n",
       " u'4598': u' RED SHIFT',\n",
       " u'4599': u' RED SKULL/JOHANN SCHMIDT',\n",
       " u'4734': u' ROMAN, DR. NILES',\n",
       " u'4735': u' ROMANO, TONY',\n",
       " u'2039': u' GALVIN, TOMMY',\n",
       " u'4843': u' SANDOVAL, JULIANA',\n",
       " u'4738': u' ROMMEL, EDWIN ROMULUS, CASSANDRA',\n",
       " u'4739': u' RON, DAN',\n",
       " u'393': u' BAYLOR, FRANK',\n",
       " u'392': u' BAXTER, NOAH',\n",
       " u'391': u' BAXTER, ABIGAIL',\n",
       " u'390': u' BAXTER',\n",
       " u'397': u' BAZIN, BRODERICK RICK',\n",
       " u'396': u' BAZIN, ANDREW',\n",
       " u'395': u' BAZIN, ALLEGRA',\n",
       " u'394': u' BAYMAX',\n",
       " u'399': u' BEACH, GINGER',\n",
       " u'398': u' BAZIN, PHILLIPPE',\n",
       " u'2309': u' HALE, JONAS',\n",
       " u'2308': u' HALDEMAN, CALVIN',\n",
       " u'4729': u' ROK',\n",
       " u'4728': u' ROGUE | MUTANT X-VERSE',\n",
       " u'2301': u' HADDOCK, DR. MYRA',\n",
       " u'2300': u' HACK/',\n",
       " u'2303': u' HAG/',\n",
       " u'2302': u' HAFNIUM',\n",
       " u'2305': u' HAGGERT, BOB',\n",
       " u'2304': u' HAGER, GENERAL',\n",
       " u'2307': u' HALBERG, DONALD',\n",
       " u'2306': u' HAIRBAG/SUGGS',\n",
       " u'5847': u' TRANTRA',\n",
       " u'5846': u' TRAINER, DR. SEWARD',\n",
       " u'5845': u' TRADER',\n",
       " u'5844': u' TRACKER',\n",
       " u'5843': u' TRACER',\n",
       " u'5842': u' TOY',\n",
       " u'5841': u' TOWNSEND, CHRIS',\n",
       " u'5840': u' TOWER, BLAKE',\n",
       " u'5849': u' TRAPSTER/PETER PETRUSKI',\n",
       " u'5848': u' TRAPPER/VOLA',\n",
       " u'3748': u' MOODY, RUNYAN',\n",
       " u'3749': u' MOOMJI, INDRIES',\n",
       " u'3746': u' MONTOYA, JULIO',\n",
       " u'3747': u' MONTOYA, MARIA',\n",
       " u'3744': u' MONTGOMERY',\n",
       " u'3745': u' MONTGOMERY, SIR BERNARD LAW',\n",
       " u'3742': u' MONTENEGRO',\n",
       " u'3743': u' MONTESI, VICTORIA',\n",
       " u'3740': u' MONTANA',\n",
       " u'3741': u' MONTANA II',\n",
       " u'4620': u' REISZ, RAY',\n",
       " u'4621': u' REJECT/RAN-SAK [DEVIANT]',\n",
       " u'4622': u' RELAY',\n",
       " u'4623': u' REM-RAM/',\n",
       " u'4624': u' REMIPED',\n",
       " u'4625': u' REMORA',\n",
       " u'4626': u' RENKO, DR. IRENO',\n",
       " u'4627': u' RENO, AGENT',\n",
       " u'4628': u' REPLICUS',\n",
       " u'4629': u' REPTILLA',\n",
       " u'179': u' AQUARIAN/WUNDARR',\n",
       " u'178': u' APPLEBAUM, PHANTASY',\n",
       " u'177': u' APPALLA',\n",
       " u'176': u' APOSTATE',\n",
       " u'175': u' APOLLO [GREEK GOD]',\n",
       " u'174': u' APOCRYPHUS',\n",
       " u'173': u' APOCALYPSE | MUTANT X-VERSE',\n",
       " u'172': u' APOCALYPSE/EN SABAH NUR',\n",
       " u'171': u' APE-X/XINA',\n",
       " u'170': u' APE MAN II/ROY MCVEY',\n",
       " u'6217': u' WHITE RABBIT',\n",
       " u'6216': u' WHITE QUEEN/EMMA FROST',\n",
       " u'6215': u' WHITE KING',\n",
       " u'6214': u' WHITE DRAGON II',\n",
       " u'6213': u' WHITE DRAGON',\n",
       " u'6212': u' WHITE BIRD/AMARA',\n",
       " u'6211': u' WHISPER II/',\n",
       " u'6210': u' WHISPER/',\n",
       " u'6219': u' WHITE TIGER II/',\n",
       " u'6218': u' WHITE TIGER/HECTOR AYALA',\n",
       " u'1768': u' ESSEX',\n",
       " u'1769': u' ESSEX, REBECCA',\n",
       " u'1762': u' ERISHKIGEL II/HOLLY DEBORAH STECKLEY',\n",
       " u'1763': u' EROS',\n",
       " u'1760': u' ERIC THE RED II',\n",
       " u'1761': u' ERISHKIGEL',\n",
       " u'1766': u' ESON [CELESTIAL]',\n",
       " u'1767': u' ESON II',\n",
       " u'1764': u' ERWIN, CLYTEMNESTRA',\n",
       " u'1765': u' ERWIN, MORLEY',\n",
       " u'692': u' BRANDEIS, PROF. HENRY',\n",
       " u'693': u' BRANDT, ELLEN',\n",
       " u'690': u' BRANDEIS, CAMMY',\n",
       " u'691': u' BRANDEIS, LIZ PARRISH',\n",
       " u'696': u' BRANSON',\n",
       " u'697': u' BRASS/SEAN WATANABE',\n",
       " u'694': u' BRANNEX',\n",
       " u'695': u' BRANNEX, ALLESSANDRO',\n",
       " u'698': u' BRASS BISHOP/',\n",
       " u'699': u' BRAWLER',\n",
       " u'1548': u' DOMINEX',\n",
       " u'1549': u' DOMINO',\n",
       " u'5618': u' TALO',\n",
       " u'5619': u' TALOS',\n",
       " u'5612': u' TAL, GENERAL',\n",
       " u'5613': u' TALBOT, GLENN',\n",
       " u'5610': u' TAKIMOTO, RON',\n",
       " u'5611': u' TAKU',\n",
       " u'5616': u' TALISMAN II/ELIZABETH TWOYOUNGMEN',\n",
       " u'5617': u' TALISMAN III/NAHITA',\n",
       " u'5614': u' TALBOT, MAJ. MATT',\n",
       " u'5615': u' TALISMAN',\n",
       " u'3580': u' MCPHAIL, NATALIE',\n",
       " u'258': u' ASYLUM II/HENRIQUE MANUEL GALLANTE',\n",
       " u'259': u' ATALANTA',\n",
       " u'252': u' ASTRA II',\n",
       " u'253': u' ASTROLOGER/',\n",
       " u'250': u' ASTER, LUCIAN',\n",
       " u'251': u' ASTRA',\n",
       " u'256': u' ASTROVIK, NORMA',\n",
       " u'257': u' ASYLUM/',\n",
       " u'254': u' ASTRONOMER',\n",
       " u'255': u' ASTROVIK, ARNOLD',\n",
       " u'4665': u' RIDER, ROBERT ROBBIE',\n",
       " u'3689': u' MIRACLE MAN',\n",
       " u'3688': u' MINXI [INHUMAN]',\n",
       " u'3683': u' MINOR DOMO',\n",
       " u'3682': u' MINISTER TOME',\n",
       " u'3681': u' MINSTER HOARD',\n",
       " u'3680': u' MINISTER BLOOD',\n",
       " u'3687': u' MINOTAURUS',\n",
       " u'3686': u' MINOTAUR III',\n",
       " u'3685': u' MINOTAUR II',\n",
       " u'3684': u' MINOTAUR',\n",
       " u'2518': u' HONIKAWA, SHO',\n",
       " u'2519': u' HOO',\n",
       " u'2514': u' HOLOCAUST',\n",
       " u'2515': u' HOLY/FATHER HECTOR REDONDO',\n",
       " u'2516': u' HONDA, DR.',\n",
       " u'2517': u' HONEY LEMON/',\n",
       " u'2510': u' HOLIDAY, JORDAN',\n",
       " u'2511': u' HOLKAR, DR. SHYAM',\n",
       " u'2512': u' HOLLISTER, SHERIFF',\n",
       " u'2513': u' HOLLYWOOD',\n",
       " u'3531': u' MASTERS, DR. AUGUST',\n",
       " u'3530': u' MASTERS, ALICIA REISS',\n",
       " u'3533': u' MASTIFF',\n",
       " u'3532': u' MASTERSON, KEVIN',\n",
       " u'3535': u' MASTON-DAR',\n",
       " u'3534': u' MASTIFF, MINNIE',\n",
       " u'3537': u' MATHEMANIC/THOMAS SORENSON',\n",
       " u'3536': u' MATADOR/MANUEL ELOGANTO',\n",
       " u'5054': u' SHEPPARD, JOAN ACE',\n",
       " u'3538': u' MAULER/BRENDAN DOYLE',\n",
       " u'5056': u' SHERIDAN, LEAH',\n",
       " u'5057': u' SHERIDAN, RICHARD RICK',\n",
       " u'5050': u' SHEFFIELD, LEAH',\n",
       " u'5051': u' SHELDON, PHIL',\n",
       " u'5052': u' SHELL/',\n",
       " u'5053': u' SHELLSHOCK/',\n",
       " u'1159': u' CONTONI, PAUL',\n",
       " u'1158': u' CONTEMPLATOR/TATH KI [ELDER]',\n",
       " u'1155': u' CONSTRICTOR/FRANK PAYNE/FRANK SCHLICTING',\n",
       " u'1154': u' CONROY, KAREN',\n",
       " u'1157': u' CONSUMPTION',\n",
       " u'1156': u' CONSUELA',\n",
       " u'1151': u' CONOWAY, SEKMEHT',\n",
       " u'1150': u' CONOVER, REV. WILLIAM',\n",
       " u'1153': u' CONRAD, LUTHER DUTCH',\n",
       " u'1152': u' CONQUEST/BRIDGET MALONE',\n",
       " u'4299': u' POPEYE',\n",
       " u'4298': u' POPE',\n",
       " u'4295': u' POLTERGEIST/MICKEY SILK',\n",
       " u'4294': u' POLOMBO, CATHY',\n",
       " u'4297': u' PONG, WU',\n",
       " u'4296': u' POMEROY, SYLVIA',\n",
       " u'4291': u' POLARIS DOPPELGANGER II',\n",
       " u'4290': u' POLARIS DOPPELGANGER',\n",
       " u'4293': u' POLESTAR/',\n",
       " u'4292': u' POLARIS | MUTANT X-VERSE/LORNA DANE',\n",
       " u'6368': u' YASHIDA, MARIKO | MUTANT X-VERSE',\n",
       " u'4749': u' ROSE, JUSTICE',\n",
       " u'4748': u' ROSE, HENRIETTA',\n",
       " u'1324': u' DAKIMH THE ENCHANTER',\n",
       " u'4743': u' ROOTAR',\n",
       " u'4742': u' ROOSEVELT, FRANKLIN DELANO',\n",
       " u'4741': u' RONAN THE ACCUSER [KREE]',\n",
       " u'4740': u' RON, TALLA',\n",
       " u'4747': u' ROSE IV/JACOB JAKE CONOVER',\n",
       " u'4746': u' ROSE III/',\n",
       " u'4745': u' ROSE II/SGT. BLUME',\n",
       " u'4744': u' RORY, RICHARD',\n",
       " u'5869': u' TRIAX',\n",
       " u'5868': u' TRIATHLON/DELROY GARRETT JR.',\n",
       " u'5865': u' TREVOR, STEVE',\n",
       " u'5864': u' TREVANI, DANIKA',\n",
       " u'5867': u' TRI-SENTINEL',\n",
       " u'5866': u' TREVORIK',\n",
       " u'5861': u' TREMELO/',\n",
       " u'5860': u' TRAYNOR, HARLEY',\n",
       " u'5863': u' TREVANE, DET. CONNOR',\n",
       " u'5862': u' TREMONT, JONATHAN',\n",
       " u'2183': u' GORGILLA',\n",
       " u'2182': u' GORGEOUS GEORGE',\n",
       " u'2181': u' GOONER, MELVIN',\n",
       " u'2180': u' GOOM',\n",
       " u'2187': u' GORN',\n",
       " u'2186': u' GORILLA-MAN',\n",
       " u'2185': u' GORGON | MUTANT X-VERSE',\n",
       " u'2184': u' GORGON [INHUMAN]',\n",
       " u'4606': u' REDSTONE/',\n",
       " u'4607': u' REDWING',\n",
       " u'2189': u' GOROTH',\n",
       " u'2188': u' GORNKAI',\n",
       " u'4602': u' RED WOLF II',\n",
       " u'4603': u' RED WOLF III/WILL TALLTREES',\n",
       " u'4600': u' RED SKULL II/ALBERT MALIK',\n",
       " u'4601': u' RED WOLF/WILDRUN',\n",
       " u'151': u' ANON, LORD',\n",
       " u'150': u' ANOMALY III',\n",
       " u'153': u' ANSWER II/DAVID FERRARI',\n",
       " u'152': u' ANSWER',\n",
       " u'155': u' ANT-MAN II/SCOTT HARRIS LANG',\n",
       " u'154': u' ANT-MAN/DR. HENRY J. PYM',\n",
       " u'157': u' ANTHROMORPHO',\n",
       " u'156': u' ANTEUS',\n",
       " u'159': u' ANTI-VISION',\n",
       " u'158': u' ANTI-PHOENIX',\n",
       " u'6187': u' WEISS, KONRAD KONNIE',\n",
       " u'6186': u' WEISMAN, DR.',\n",
       " u'6185': u' WEISENTHAL, DR. JONAS',\n",
       " u'6184': u' WEISENTHAL, DR. JACOB',\n",
       " u'6183': u' WEIN, LEN',\n",
       " u'6182': u' WEIN, GLYNIS',\n",
       " u'6181': u' WEI, LINDA',\n",
       " u'6180': u' WEED',\n",
       " u'6189': u' WENDIGO II/GEORGES BAPTISTE',\n",
       " u'6188': u' WENDIGO/PAUL CARTIER',\n",
       " u'2727': u' KARMA 2013',\n",
       " u'2726': u\" KARMA/XI'AN COY MANH\",\n",
       " u'2725': u' KARLSON, KAREN',\n",
       " u'2724': u' KARKAS | MUTANT X-VERSE',\n",
       " u'2723': u' KARKAS [DEVIANT]',\n",
       " u'2722': u' KARIMA',\n",
       " u'2721': u' KARIM, MERYET',\n",
       " u'2720': u' KARGUL',\n",
       " u'2729': u' KARNAK DOPPELGANGER',\n",
       " u'2728': u' KARNAK [INHUMAN]',\n",
       " u'6239': u' WILCOX, DR. BRENT',\n",
       " u'6238': u' WILBURN, MYRON',\n",
       " u'6235': u' WIDGET',\n",
       " u'6234': u' WIDE LOAD ANNIE/ANNIE WHEELER',\n",
       " u'6237': u' WIGGINS, TRACY',\n",
       " u'6236': u' WIDOW-MAKER',\n",
       " u'6231': u' WHYTEOUT/STUART ANTHONY WHYTE',\n",
       " u'6230': u' WHYTE, HARMONY (HARMONY YOUNG)',\n",
       " u'6233': u' WIDDOWS, SGT.',\n",
       " u'6232': u' WIBBOW',\n",
       " u'818': u' CADAVER',\n",
       " u'819': u' CADMIUM',\n",
       " u'810': u' BYRRAH | HEROES REBORN-VERSE',\n",
       " u'811': u' C.F.',\n",
       " u'812': u' CABE, BETHANY',\n",
       " u'813': u' CABER',\n",
       " u'814': u' CACHE',\n",
       " u'815': u' CACHES, FABIAN',\n",
       " u'816': u' CACHES, PROF. MARINA',\n",
       " u'817': u' CACTUS',\n",
       " u'1700': u' EILIF DRAGONSLAYER',\n",
       " u'1701': u' EISMAN, BETTY',\n",
       " u'5265': u' SOMERS, KATHY',\n",
       " u'5264': u' SOMERS, JOHNATHAN',\n",
       " u'1704': u' EKAK',\n",
       " u'1705': u' EL AGUILA',\n",
       " u'1706': u' EL CONQUISTADOR',\n",
       " u'1707': u' EL GIBAR, ACHMED',\n",
       " u'1708': u' EL JAGUAR',\n",
       " u'1709': u' EL TIGRE',\n",
       " u'2097': u' GEESEY, KARL',\n",
       " u'5269': u' SONIC',\n",
       " u'5268': u' SONDHEIM, ERICA',\n",
       " u'2096': u' GEE/ALEX POWER',\n",
       " u'4574': u' RAZORWIRE',\n",
       " u'4575': u' REAGAN, NANCY',\n",
       " u'2093': u' GAZELLE',\n",
       " u'4577': u' REANDEAU, DR.',\n",
       " u'3959': u' NIGHTMARE/EDVARD HABERDASH',\n",
       " u'3029': u' JONES, LOUISE',\n",
       " u'3028': u' JONES, LORRAINE LORRY',\n",
       " u'3027': u' JONES, KATIE',\n",
       " u'3026': u' JONES, JOHN',\n",
       " u'3025': u' JONES, JANIS',\n",
       " u'3024': u' JONES, HUGH',\n",
       " u'3023': u' JONES, GABE',\n",
       " u'3022': u' JONES, DRUCILLA',\n",
       " u'3021': u' JONES, DANIEL DANNY',\n",
       " u'3020': u' JONES, CHARLOTTE',\n",
       " u'4198': u' PENANCE III',\n",
       " u'4199': u' PENDRAGON, ARTHUR',\n",
       " u'4196': u' PEMBROKE',\n",
       " u'4197': u' PENANCE/MONET ST. CROIX',\n",
       " u'4194': u' PELIALI',\n",
       " u'4195': u' PELTINO, LT.',\n",
       " u'4192': u' PELE/MICHI SASAKI',\n",
       " u'4193': u' PELE II',\n",
       " u'4190': u' PEEL, EMMA',\n",
       " u'4191': u' PIERSO [TRIONIAN]',\n",
       " u'5670': u' TEN FOR',\n",
       " u'5671': u' TEN-THIRTIFOR',\n",
       " u'5672': u' TENDRIL/RIVER VERYS',\n",
       " u'5673': u' TENEBRAE',\n",
       " u'5674': u' TENELLE',\n",
       " u'5675': u' TENG, NIKKI',\n",
       " u'5676': u' TENKO, CARTER',\n",
       " u'5677': u' TENNYSON, JACOB',\n",
       " u'5678': u' TENPIN/ALVIN HEALEY',\n",
       " u'5679': u' TEQUILA/',\n",
       " u'473': u' BETA RAY BILL | MUTANT X-VERSE',\n",
       " u'6437': u' ZIRA',\n",
       " u'6436': u' ZINOVIEV, IVAN',\n",
       " u'6435': u' ZINGH',\n",
       " u'6434': u' ZIMMER, ABE',\n",
       " u'6433': u' ZEY-ROGG',\n",
       " u'6432': u' ZEUS',\n",
       " u'6431': u' ZET',\n",
       " u'6430': u' ZERO',\n",
       " u'6439': u' ZIRCONIUM',\n",
       " u'6438': u' ZIRAN',\n",
       " u'238': u' ASBESTOS LADY',\n",
       " u'239': u' ASH, BRANDY',\n",
       " u'234': u' ARVAK',\n",
       " u'235': u' ARYAN',\n",
       " u'236': u' ASANO',\n",
       " u'237': u' ASBERY, SHAMARI',\n",
       " u'230': u' ARSENAL',\n",
       " u'231': u' ARSENAL II',\n",
       " u'232': u' ARSENIC',\n",
       " u'233': u' ARTEMIS',\n",
       " u'4680': u' RINGLEADER',\n",
       " u'4681': u' RINGLET',\n",
       " u'2538': u' HOYT, TONY',\n",
       " u'2539': u' HRILL',\n",
       " u'2532': u' HOUSTON, LT. COMMANDER REBECCA BECKY',\n",
       " u'2533': u' HOUSTON, STELLA',\n",
       " u'2530': u' HOUND',\n",
       " u'2531': u' HOUSE OF SHADOWS',\n",
       " u'2536': u' HOWLER/LUKE GARROW',\n",
       " u'2537': u' HOWLER II/ZED',\n",
       " u'2534': u' HOWARD THE DUCK',\n",
       " u'2535': u' HOWARD, PROFESSOR MARK',\n",
       " u'5078': u' SHORT CIRCUIT/HENRY WALLINGER',\n",
       " u'5079': u' SHOT/',\n",
       " u'5072': u' SHOCKER/HERMAN SCHULTZ',\n",
       " u'5073': u' SHOCKWAVE/LANCASTER SNEED',\n",
       " u'5070': u' SHIVER MAN',\n",
       " u'5071': u' SHOC/NEIL AIKEN',\n",
       " u'5076': u' SHOOTING STAR',\n",
       " u'5077': u' SHORR, JACQUELINE',\n",
       " u'5074': u' SHOCKWAVE ROBOT',\n",
       " u'5075': u' SHOOTER, JIM',\n",
       " u'939': u' CAT IV',\n",
       " u'938': u' CAT III/SHEN KUEI',\n",
       " u'933': u' CASSADA, ROBERTO',\n",
       " u'932': u' CASSADA, MICHAEL',\n",
       " u'931': u' CASSADA, CARLOS',\n",
       " u'930': u' CASS, LARRY MAD DOG',\n",
       " u'937': u' CAT II',\n",
       " u'936': u' CASSIOPEIA',\n",
       " u'935': u' CASSANDRA',\n",
       " u'934': u' CASSADA, ROSA',\n",
       " u'5380': u' STAR HAMMER',\n",
       " u'5381': u' STAR THIEF/',\n",
       " u'5382': u' STAR THIEF II',\n",
       " u'5383': u' STAR THIEF III/DITMIL PIRVAT',\n",
       " u'5384': u' STAR, JOAN',\n",
       " u'5385': u' STAR-STALKER',\n",
       " u'5386': u' STARBOLT',\n",
       " u'5387': u\" STARDUST/T'URIN G'AR\",\n",
       " u'5388': u' STARFOX/EROS',\n",
       " u'5389': u' STARHAWK/STAKAR',\n",
       " u'797': u' BUTCH',\n",
       " u'796': u' BUSIEK, KURT',\n",
       " u'795': u' BUSHWACKER/CARL',\n",
       " u'794': u' BUSHMASTER II/QUINCY MCIVER',\n",
       " u'793': u' BUSHMASTER/JOHN MCIVER',\n",
       " u'792': u' BUSHMAN, RAOUL',\n",
       " u'791': u' BUSHKIN, BARNEY',\n",
       " u'790': u' BUSH, GEORGE',\n",
       " u'2145': u' GLAZER, FAST FREDDY',\n",
       " u'799': u' BUTTONS',\n",
       " u'798': u' BUTTERFLY',\n",
       " u'2144': u' GLAMOUR GIRL/GLORIA',\n",
       " u'2415': u' HEATER DELIGHT',\n",
       " u'2414': u' HEAT-RAY/',\n",
       " u'1139': u' COMMANDO/M-NELL',\n",
       " u'1138': u' COMMANDER COURAGE/',\n",
       " u'2141': u' GLADIATOR/MELVIN POTTER',\n",
       " u'1133': u' COMANCHE',\n",
       " u'1132': u' COLOSSUS II | MUTANT X-VERSE/PETER RASPUTIN',\n",
       " u'1131': u' COLOSSUS II DOPPELGANGER III',\n",
       " u'1130': u' COLOSSUS II DOPPELGANGER II',\n",
       " u'1137': u' COMMANDER BLAZE',\n",
       " u'1136': u' COMET MAN/DR. STEPHEN BECKLEY',\n",
       " u'1135': u' COMET/HARRIS MOORE',\n",
       " u'1134': u' COMBAT/',\n",
       " u'2419': u' HECTOR II',\n",
       " u'4975': u' SERESTUS',\n",
       " u'2149': u' GLITCH/CHARLES J. AMUNDSON',\n",
       " u'2148': u' GLENN, HEATHER',\n",
       " u'2882': u' KRAVEN THE HUNTER II/ALYOSHA KRAVINOV PPTSS 245',\n",
       " u'2883': u\" KRAY, D'VON\",\n",
       " u'2880': u' KRAUS, DR. FREIDERICH',\n",
       " u'2881': u' KRAVEN THE HUNTER/SERGEI KRAVINOFF',\n",
       " u'2886': u' KREE CAPTAIN AMERICA [KREE]',\n",
       " u'2887': u' KREE GIANT MAN [KREE]',\n",
       " u'2884': u' KREA, BRUNO',\n",
       " u'2885': u' KREDDICK',\n",
       " u'1072': u' CLASH/',\n",
       " u'2888': u' KREE IRON MAN [KREE]',\n",
       " u'2889': u' KREE SCARLET WITCH [KREE]',\n",
       " u'2': u' 3-D MAN/CHARLES CHANDLER & HAROLD CHANDLER',\n",
       " u'3276': u' LOVEJOY, FRANKLIN',\n",
       " u'3277': u' LOWELL, DR.',\n",
       " u'1922': u' FLEMING, PHILIP',\n",
       " u'1923': u' FLEX/ADRIAN CORBO',\n",
       " u'1924': u' FLINCH/',\n",
       " u'3273': u' LORVEX',\n",
       " u'1926': u' FLINT, LT.',\n",
       " u'1927': u' FLO',\n",
       " u'4761': u' ROSSIN, DR.',\n",
       " u'4760': u' ROSSI, COL. MICHAEL MICKEY',\n",
       " u'4763': u' ROTH, DR. GERALD',\n",
       " u'4762': u' ROTH, ARNIE',\n",
       " u'4765': u' ROUGHHOUSE',\n",
       " u'4764': u' ROTWRAP',\n",
       " u'4767': u' ROULETTE II/JENNY STAVROS',\n",
       " u'4766': u' ROULETTE/DUDE JENSEN',\n",
       " u'4769': u' ROUST',\n",
       " u'4768': u' ROUSSEAU, ETIENNE',\n",
       " u'5809': u' TOLLIVER',\n",
       " u'5808': u' TOLOC',\n",
       " u'5803': u' TOFIELD, FRANCESCA',\n",
       " u'5802': u' TODD, FISHER',\n",
       " u'5801': u' TOBIAS',\n",
       " u'5800': u' TOAD/MORTIMER TOYNBEE',\n",
       " u'5807': u' TOL-NOK',\n",
       " u'5806': u' TOKKOTS',\n",
       " u'5805': u' TOKEN',\n",
       " u'5804': u' TOI/REXEL TOIVEN',\n",
       " u'1573': u' DORREK [SKRULL]',\n",
       " u'1572': u' DORNOVA-BLONSKY, NADIA',\n",
       " u'1571': u' DORMAMMU',\n",
       " u'1570': u' DORMA II [ATLANTEAN]',\n",
       " u'1577': u' DOVER, DONNA-LEE',\n",
       " u'1576': u' DOUGLOCK 2013',\n",
       " u'1575': u' DOUGHBOY',\n",
       " u'1574': u' DORREK II',\n",
       " u'4888': u' SCANNER II',\n",
       " u'4889': u' SCANNER II/RHANLA',\n",
       " u'2709': u' KAMINARI',\n",
       " u'2708': u' KAMIKAZE',\n",
       " u'4880': u' SAWYER, RYAN',\n",
       " u'4881': u' SAXON, STARR',\n",
       " u'4882': u' SAYGE',\n",
       " u'2706': u' KALUU',\n",
       " u'2701': u' KALE, NAOMI',\n",
       " u'2700': u' KALE, JENNIFER',\n",
       " u'2703': u' KALIKYA [INHUMAN]',\n",
       " u'4887': u' SCANNER/SKERA',\n",
       " u'6259': u' WILLIAMS, MINDY',\n",
       " u'6258': u' WILLIAMS JOHN',\n",
       " u'6253': u' WILFORD, BONNIE',\n",
       " u'6252': u' WILDSTREAK',\n",
       " u'6251': u' WILSON, LOUIS',\n",
       " u'6250': u' WILLIFORD, BRENT',\n",
       " u'6257': u\" WILL O' THE WISP/JACKSON ARVAD\",\n",
       " u'6256': u' WILKS, SHANTAL',\n",
       " u'6255': u' WILFORD, ETHAN',\n",
       " u'6254': u' WILFORD, ELISABETH BETSY',\n",
       " u'2411': u' HEADLOK',\n",
       " u'475': u' BETTY-6',\n",
       " u'3474': u' MARTELL, SHIELD AGENT KIRBY',\n",
       " u'3475': u' MARTHA',\n",
       " u'3476': u' MARTIN, ASHLEY',\n",
       " u'3477': u' MARTIN, TERI',\n",
       " u'3470': u' MARROW/SARAH ',\n",
       " u'3471': u' MARRS, DESMOND',\n",
       " u'3472': u' MARRS(-PAYNE), PHOEBE',\n",
       " u'3473': u' MARSHALL, GRANT',\n",
       " u'838': u' CALLISTO | MUTANT X-VERSE',\n",
       " u'839': u' CALUMET',\n",
       " u'3478': u' MARTINELLI, VINCENT VIC',\n",
       " u'3479': u' MARTINEX',\n",
       " u'5249': u' SNOW, VICTORIA',\n",
       " u'5248': u' SNOW, TANDY',\n",
       " u'1728': u' ELO',\n",
       " u'1729': u' ELSIE DEE',\n",
       " u'1726': u' ELLINGTON, DR./TRAVIS T. HIPP',\n",
       " u'5244': u' SNIPER/VON BURIAN',\n",
       " u'5247': u' SNOW, CHARLIE',\n",
       " u'5246': u' SNOW QUEEN/GITTE',\n",
       " u'1722': u' ELEKTRA | MUTANT X-VERSE/ELEKTRA NATCHIOS',\n",
       " u'1723': u' ELECTRYON',\n",
       " u'1720': u' ELEJEA',\n",
       " u'1721': u' ELEKTRA/ELEKTRA NATCHIOS',\n",
       " u'5626': u' TANNEN, PAUL',\n",
       " u'3005': u' JINKU',\n",
       " u'3004': u' JILLETE, RANDI',\n",
       " u'3007': u' JIOMO',\n",
       " u'3006': u' JINX',\n",
       " u'3001': u' JIGSAW',\n",
       " u'3000': u' JEXIA',\n",
       " u'3003': u' JILL',\n",
       " u'3002': u' JIKEKT',\n",
       " u'3009': u' JOCASTA II',\n",
       " u'3008': u' JOCASTA',\n",
       " u'1588': u' DR. FAUSTUS',\n",
       " u'1589': u' DR. GOODWRENCH',\n",
       " u'1582': u' DR. DOOM/VICTOR VON DOOM',\n",
       " u'1583': u' DR. DOOM CLONE/VICTOR VON DOOM II',\n",
       " u'1580': u' DR. BONG',\n",
       " u'1581': u' DR. DECIBEL/ANTON DECIBEL',\n",
       " u'1586': u' DR. DOOM | TIMESLIDE',\n",
       " u'1587': u' DR. DRUID/ANTHONY LUDGATE/ANTHONY DRUID',\n",
       " u'1584': u' DR. DOOM DOPPELGANGER',\n",
       " u'1585': u' DR. DOOM | MUTANT X-VERSE',\n",
       " u'5481': u' STRIKER',\n",
       " u'5480': u' STRIDER',\n",
       " u'5658': u' TECHNARX',\n",
       " u'5659': u' TECHNOCRAT/RANDY',\n",
       " u'5656': u' TAYLOR, LEILA',\n",
       " u'5657': u' TECH-NOIR/',\n",
       " u'5654': u' TAYLOR, JACK',\n",
       " u'2416': u' HECATE',\n",
       " u'5652': u' TAURUS/CORNELIUS VAN LUNT',\n",
       " u'5653': u' TAURUS II/',\n",
       " u'5650': u' TAUREY, SIR WILLIAM',\n",
       " u'5651': u' TAUREY, WILLIAM MALCOLM',\n",
       " u'6419': u' ZAWADI',\n",
       " u'6418': u' ZARRKO, ARTHUR',\n",
       " u'6415': u' ZARATHOS',\n",
       " u'6414': u' ZARAN II',\n",
       " u'6417': u' ZARIN',\n",
       " u'6416': u' ZARATHUSTRA',\n",
       " u'6411': u' ZANTOR',\n",
       " u'6410': u' ZANKOR/JAY STEVENSON',\n",
       " u'6413': u' ZARAN/MAXIMILLIAN ZARAN',\n",
       " u'6412': u' ZAPPER, DAN',\n",
       " u'3917': u' NELSON, DEBBIE HARRIS',\n",
       " u'3916': u' NELSON, CANDACE',\n",
       " u'3915': u' NELIT',\n",
       " u'3914': u' NEKRA/ADRIENNE HATROS',\n",
       " u'3913': u' NEKOBAH, ROMAN',\n",
       " u'3912': u' NEIFI [INHUMAN]',\n",
       " u'3911': u' NEFFETHESK',\n",
       " u'3910': u' NEEDLE',\n",
       " u'3919': u' NEMESIS',\n",
       " u'3918': u' NELSON, FRANKLIN FOGGY',\n",
       " u'3287': u' LUDI',\n",
       " u'216': u' ARMADA II/',\n",
       " u'217': u' ARMADILLO/ANTONIO RODRIGUEZ',\n",
       " u'214': u' ARLISSE',\n",
       " u'215': u' ARMADA',\n",
       " u'212': u' ARKON',\n",
       " u'213': u' ARLINGTON, DR. MARCUS',\n",
       " u'210': u' ARKANIAN, GLIB',\n",
       " u'211': u' ARKO',\n",
       " u'218': u' ARMAGEDDON',\n",
       " u'219': u' ARMAGEDDON MAN',\n",
       " u'6088': u' VON FRANKENSTEIN, BARONESS VICTORIA',\n",
       " u'6089': u' VON RICHTOFEN, LT. MOLLY',\n",
       " u'6086': u' VOLX',\n",
       " u'6087': u' VON DOOM, CYNTHIA',\n",
       " u'6084': u' VOLSTAGG',\n",
       " u'6085': u' VOLSTAGG | MUTANT X-VERSE',\n",
       " u'6082': u' VOLKHVY',\n",
       " u'6083': u' VOLLA',\n",
       " u'6080': u' VOLGA BELLE/',\n",
       " u'6081': u' VOLK/ILYA DUBROMOVITCH SKORZORSKI',\n",
       " u'3649': u' MICHELLE',\n",
       " u'3648': u' MICHEL, RAFE',\n",
       " u'3647': u' MICHAELS, DAWN',\n",
       " u'3646': u' MICAWBER, TRISTRAM',\n",
       " u'3645': u' MIBA',\n",
       " u'3644': u' MEXXA RIEN',\n",
       " u'3643': u' METOXO',\n",
       " u'3642': u' METEORITE III/VALERIE BARNHARDT',\n",
       " u'3641': u' METEORITE',\n",
       " u'3640': u' METALSLASH/',\n",
       " u'2550': u' HULK IV',\n",
       " u'2551': u' HULK DOPPELGANGER',\n",
       " u'2552': u' HULK DOPPELGANGER II',\n",
       " u'2553': u' HULK ROBOT',\n",
       " u'2554': u' HULK | MUTANT X-VERSE',\n",
       " u'2555': u' HUMAN ROBOT',\n",
       " u'2556': u' HUMAN TOP/DAVEY MITCHELL',\n",
       " u'2557': u' HUMAN TORCH/JOHNNY STORM ',\n",
       " u'2558': u' HUMAN TORCH ANDROID/JIM HAMMOND',\n",
       " u'2559': u' HUMAN TORCH DOPPELGANGER',\n",
       " u'5010': u' SHALAK',\n",
       " u'5011': u' SHALLA BAL',\n",
       " u'5012': u' SHALLA BAL II',\n",
       " u'5013': u' SHAMAN/MICHAEL TWOYOUNGMAN',\n",
       " u'5014': u' SHAMAN II',\n",
       " u'5015': u' SHAMAN III',\n",
       " u'5016': u' SHAMAN | MUTANT X-VERSE',\n",
       " u'5017': u' SHAMROCK/MOLLY FITZGERALD',\n",
       " u'5018': u' SHANE, BRIDGIT',\n",
       " u'5019': u' SHANG-CHI',\n",
       " u'4419': u' PURL, DR. NOAH',\n",
       " u'4418': u' PUPPY',\n",
       " u'4417': u' PUPPET MASTER/PHILLIP MASTERS',\n",
       " u'4416': u' PUNISHER/FRANK CASTLE | MUTANT X-VERSE',\n",
       " u'4415': u' PUNISHER II/FRANK CASTIGLIONE/FRANK CASTLE',\n",
       " u'4414': u' PUNISHER',\n",
       " u'4413': u' PUNCHOUT',\n",
       " u'4412': u' PUMPKIN',\n",
       " u'4411': u' PUMA/THOMAS FIREHEART',\n",
       " u'4410': u' PULSSUS',\n",
       " u'919': u' CARTER, JIMMY',\n",
       " u'918': u' CARTER, BRAD',\n",
       " u'915': u' CARRION II/MALCOLM MACBRIDE',\n",
       " u'914': u' CARRION',\n",
       " u'917': u' CARSON, LT. PAUL',\n",
       " u'916': u' CARRION III/DR. WILLIAM ALLEN',\n",
       " u'911': u' CARR, DAN',\n",
       " u'910': u' CARPENTER, RACHEL',\n",
       " u'913': u' CARRERA, MIA',\n",
       " u'912': u' CARRADINE, JESSICA JESSE',\n",
       " u'630': u' BOAK',\n",
       " u'631': u' BOBCAT/',\n",
       " u'632': u' BODYBAG',\n",
       " u'1211': u' CRAWLEY, BETRAND',\n",
       " u'634': u' BOGATYR/MIKULA GOLUBEV',\n",
       " u'635': u' BOGGS, MORDECAI P.',\n",
       " u'1214': u' CREED, GRAYDON',\n",
       " u'1215': u' CREED, GRAYDON | MUTANT X-VERSE',\n",
       " u'1111': u' COLDBLOOD/',\n",
       " u'1110': u' COLD WARRIOR',\n",
       " u'1113': u' COLE, LYNETTE',\n",
       " u'1112': u' COLDHEART',\n",
       " u'1115': u' COLE, WADE',\n",
       " u'1114': u' COLE, PRISCILLA',\n",
       " u'1117': u' COLLECTIVE MAN II',\n",
       " u'1440': u' DELPHI II',\n",
       " u'1119': u' COLLETTE',\n",
       " u'1118': u' COLLECTOR/TANELEER TIVAN [ELDER]',\n",
       " u'1449': u' DEMOLITION MAN/DENNIS DUNPHY',\n",
       " u'1448': u' DEMOGOBLIN',\n",
       " u'4859': u' SAROYAN, NEAL',\n",
       " u'2005': u' FUANARO, RENEE',\n",
       " u'4857': u' SARDAN',\n",
       " u'4584': u' REBO',\n",
       " u'2008': u' FUJIKAWA, RUMIKO',\n",
       " u'4854': u' SAPPHIRAS',\n",
       " u'4581': u' REAVER/JOSHUA STRAGG',\n",
       " u'4580': u' REAPER II',\n",
       " u'4725': u' ROGERS, W.T.',\n",
       " u'4583': u' REBEL/',\n",
       " u'4724': u' ROGERS, CAPT. STEVEN',\n",
       " u'4582': u' REAVES, VERNON',\n",
       " u'4727': u' ROGUE DOPPELGANGER',\n",
       " u'4726': u' ROGUE /',\n",
       " u'4721': u' RODRIGUEZ, DET. PHIL',\n",
       " u'4720': u' RODRIGUEZ, DEBRA',\n",
       " u'4723': u' ROGERS, GAYLE',\n",
       " u'4789': u' RYAN, THOMAS',\n",
       " u'4788': u\" RY'LOR\",\n",
       " u'4787': u' RUSSIAN',\n",
       " u'4786': u' RUSSELL, LISSA',\n",
       " u'4785': u' RUNNER',\n",
       " u'4722': u' ROEBERG, SEN.',\n",
       " u'4783': u' RUNCITER, GAIL',\n",
       " u'4782': u' RUMOR/',\n",
       " u'4781': u' RUIZ, RIGGER',\n",
       " u'4780': u' RUIZ, RHYTHM',\n",
       " u'5821': u' TOOTHGRINDER',\n",
       " u'5820': u' TONGAH',\n",
       " u'5823': u' TOPAZ',\n",
       " u'5822': u' TOOTHGNASHER',\n",
       " u'5825': u' TORES',\n",
       " u'5824': u' TOPSPIN/DARREN MITCHELL',\n",
       " u'5827': u' TORGO',\n",
       " u'5826': u' TORG',\n",
       " u'5829': u' TORK, SGT.',\n",
       " u'5828': u' TORK, LT.',\n",
       " u'1182': u' CORNELIUS, DR.',\n",
       " u'199': u' ARGOS',\n",
       " u'198': u' AREX',\n",
       " u'195': u' ARCLIGHT/PHILLIPA SONTAG',\n",
       " u'194': u' ARCHER, ULYSSES SAMSON U.S.',\n",
       " u'197': u' ARES [GREEK GOD]',\n",
       " u'196': u' ARCTURUS',\n",
       " u'191': u' ARCANNA/ARCANNA JONES',\n",
       " u'190': u' ARCADIUS',\n",
       " u'193': u' ARCHER/JUDE BLACK',\n",
       " u'192': u' ARCHAEOPTERYX/TONAJA [INHUMAN]',\n",
       " u'2769': u' KETCH, DORIS AUDRA',\n",
       " u'2768': u' KETCH, BARBARA',\n",
       " u'2763': u' KENNEDY, LOUISE',\n",
       " u'2762': u' KEMEL, MEHMET',\n",
       " u'2761': u' KEMBLE, DR.',\n",
       " u'2760': u' KELLY, SEN. ROBERT EDWARD',\n",
       " u'2767': u' KESTRUS',\n",
       " u'2766': u' KERIVAK',\n",
       " u'2765': u' KEREM',\n",
       " u'2764': u' KENT, CLARK',\n",
       " u'6271': u' WINDY',\n",
       " u'6270': u' WINDSTORM/',\n",
       " u'6273': u' WING, COLLEEN',\n",
       " u'6272': u' WING',\n",
       " u'6275': u' WINGFOOT, WYATT',\n",
       " u'6274': u' WING, PROFESSOR',\n",
       " u'6277': u' WINGFOOT, WYNONA',\n",
       " u'6276': u' WINGFOOT, WYATT II',\n",
       " u'6279': u' WIPEOUT',\n",
       " u'6278': u' WINTHROP, DESIREE',\n",
       " u'1183': u' CORONA/DAGNY FORRESTER',\n",
       " u'3452': u' MARGOYLE',\n",
       " u'3453': u' MARIK',\n",
       " u'3450': u' MARCHALLA',\n",
       " u'3451': u' MARCHALLA II',\n",
       " u'3456': u' MARIONETTE/MARI',\n",
       " u'3457': u' MARISSA (OF GENE-TECH)',\n",
       " u'3454': u' MARILLA [INHUMAN]',\n",
       " u'3455': u' MARIN, DR.',\n",
       " u'3458': u' MARISTA',\n",
       " u'3459': u' MARITA',\n",
       " u'858': u' CAPRICORN II/',\n",
       " u'859': u' CAPTAIN AMERICA',\n",
       " u'6': u\" A'YIN\",\n",
       " u'5229': u' SMITH, WANDA JO BIALOWSKY',\n",
       " u'5228': u' SMITH, SIR DENIS NAYLAND',\n",
       " u'5223': u' SMITH, HELEN BACK',\n",
       " u'5222': u' SMITH, DR. ARMSTRONG',\n",
       " u'5221': u' SMITH, DAPHNE',\n",
       " u'5220': u' SMITH, COL. TOLLIVER',\n",
       " u'5227': u' SMITH, MARTY LOUIS LOU',\n",
       " u'5226': u' SMITH, MANDY',\n",
       " u'5225': u' SMITH, KEVIN',\n",
       " u'5224': u' SMITH, JOE',\n",
       " u'4588': u' RECORDER II',\n",
       " u'3063': u' JUNIPER, JONATHAN JUNIOR',\n",
       " u'3062': u' JUNIPER',\n",
       " u'3061': u' JUNCTION',\n",
       " u'3060': u' JUGGERNAUT | MUTANT X-VERSE',\n",
       " u'3067': u' JUSTICE PEACE',\n",
       " u'3066': u' JUSTICE II/VANCE ASTROVIK ',\n",
       " u'3065': u' JURIAS',\n",
       " u'3064': u' JUPITER',\n",
       " u'3069': u' JUSUR',\n",
       " u'3068': u' JUSTIN, GLORIA',\n",
       " u'4817': u' SAINT, AMANDA',\n",
       " u'4816': u' SAINT ELMO',\n",
       " u'1304': u' D.O.A.',\n",
       " u'1305': u\" D'ALEXIS, AMBER\",\n",
       " u'1306': u\" D'ANGELO, LIEUTENANT JAMES\",\n",
       " u'1307': u\" D'AURIA, JACK\",\n",
       " u'1300': u' CYPRESS/',\n",
       " u'1301': u' CYRA [ASGARDIAN]',\n",
       " u'1302': u' CYTTORAK',\n",
       " u'1303': u' D.K./DAVID KALEN',\n",
       " u'1308': u\" D'KAY\",\n",
       " u'1309': u\" D'KEN [SHI'AR]\",\n",
       " u'498': u' BIRDBRAIN',\n",
       " u'499': u' BIRDY',\n",
       " u'494': u' BIOHAZARD II/FLETCHER TRAYNOR',\n",
       " u'495': u' BIRD MAN/HENRY HAWK',\n",
       " u'496': u' BIRD MAN III/',\n",
       " u'497': u' BIRD, TUESDAY',\n",
       " u'490': u' BILLUPS, AGENT',\n",
       " u'491': u' BINARY/CAROL DANVERS',\n",
       " u'492': u' BINARY | MUTANT X-VERSE/CAROL DANVERS',\n",
       " u'493': u' BIOHAZARD',\n",
       " u'6479': u' WARLORD',\n",
       " u'6478': u' VOLCANA ASH',\n",
       " u'6473': u' SABRE',\n",
       " u'6472': u' RATTACK',\n",
       " u'6471': u' OLD SKULL',\n",
       " u'6470': u' MOURNING PREY',\n",
       " u'6477': u' VIGILANT/PSTUN-RAGE',\n",
       " u'6476': u' SKARLET',\n",
       " u'6475': u' SKAR',\n",
       " u'6474': u' SACRIFICER',\n",
       " u'3939': u' NICKEL',\n",
       " u'3938': u' NICHOLS, TOM',\n",
       " u'3935': u' NEZARR',\n",
       " u'3934': u' NEWMARK, LOTUS',\n",
       " u'3937': u' NICHOLS, LORNA',\n",
       " u'3936': u\" NHU'ABDAR\",\n",
       " u'3931': u' NEVILLE, KATE',\n",
       " u'3930': u' NEUTRON',\n",
       " u'3933': u' NEWELL, DIANE ARLISS',\n",
       " u'3932': u' NEW SUN',\n",
       " u'3265': u' LORD GASPAR',\n",
       " u'4044': u' ODDBALL/ELTON HEALEY',\n",
       " u'4045': u' ODIN [ASGARDIAN]',\n",
       " u'4046': u' OGADA, DR.',\n",
       " u'4047': u' OGRE',\n",
       " u'4040': u' OBLIVION',\n",
       " u'4041': u' OCCULUS',\n",
       " u'4042': u' OCCULT',\n",
       " u'4043': u' OCULUS, LT.',\n",
       " u'4048': u' OGRE II',\n",
       " u'4049': u' OGRESS/',\n",
       " u'3665': u' MILLENNIUM MONARCH',\n",
       " u'3664': u' MILLENIUS',\n",
       " u'3667': u' MILLER, CHRIS',\n",
       " u'3666': u' MILLER, FRANK',\n",
       " u'3661': u' MIFUNE, DR.',\n",
       " u'3660': u' MIESHO',\n",
       " u'3663': u' MILAN',\n",
       " u'3662': u' MIKHLO',\n",
       " u'3669': u' MILLER, TRACE',\n",
       " u'3668': u' MILLER, STACI MURPHY',\n",
       " u'5582': u' SYNARIO/ANGELA BRADFORD',\n",
       " u'446': u' BENNING, VERONICA',\n",
       " u'2578': u' HUNTSMAN',\n",
       " u'2579': u' HURDLER, THOMAS',\n",
       " u'2576': u' HUNTER, LANCE',\n",
       " u'2577': u' HUNTER, STEVIE',\n",
       " u'2574': u' HUNTER IN DARKNESS',\n",
       " u'2575': u' HUNTER, IAN',\n",
       " u'2572': u' HUNTARA/MARY ELIZABETH ALVAREZ',\n",
       " u'2573': u' HUNTER/JAEGER',\n",
       " u'2570': u' HUNT, JERRY',\n",
       " u'2571': u' HUNT, ROBERTA',\n",
       " u'3593': u' MEDINA, ANALISA MARISOL SOTO',\n",
       " u'3592': u' MEDEA',\n",
       " u'3591': u' MECHAMAGE/',\n",
       " u'3590': u' MECHADOOM',\n",
       " u'3597': u' MEEK',\n",
       " u'3596': u' MEDUSA | MUTANT X-VERSE',\n",
       " u'5038': u' SHAW, JACOB',\n",
       " u'3594': u' MEDUSA/MEDUSALITH AMAQUELIN [INHUMAN]',\n",
       " u'5036': u' SHAW, ESAU',\n",
       " u'5037': u' SHAW, HIRAM',\n",
       " u'5034': u' SHATTERSTAR II/GAVEEDRA SEVEN/BENJAMIN RUSSELL',\n",
       " u'5035': u' SHAUNEGHANN, MICHAEL',\n",
       " u'5032': u' SHATTERAX',\n",
       " u'5033': u' SHATTERFIST/',\n",
       " u'5030': u' SHARPE, ROSALINDE',\n",
       " u'5031': u' SHARYD/CONAL',\n",
       " u'4435': u' QUANTUM',\n",
       " u'4434': u' QUAGMIRE',\n",
       " u'4437': u' QUARRY',\n",
       " u'4436': u' QUARK',\n",
       " u'4431': u' QABIRI',\n",
       " u'4430': u\" Q'WAKE/QUAKE\",\n",
       " u'4433': u' QNAX',\n",
       " u'4432': u' QIRMET',\n",
       " u'4439': u' QUASAR',\n",
       " u'4438': u' QUARTERMAIN, CLAY',\n",
       " u'977': u' CHAKA KHAN',\n",
       " u'976': u' CHAINSAW/',\n",
       " u'975': u' CHAIN',\n",
       " u'974': u' CHADWICK, DR. HESPERUS',\n",
       " u'973': u' CHADWICK, CHEER',\n",
       " u'972': u\" CH'VAYRE\",\n",
       " u'971': u\" CH'THON\",\n",
       " u'970': u\" CH'OD\",\n",
       " u'979': u' CHAKARA, KANU',\n",
       " u'978': u' CHAKA KHAN II',\n",
       " u'3386': u' MAJOR VICTORY/MAJ. VANCE ASTRO',\n",
       " u'3387': u' MAJOWSKI, SAM MOTHER',\n",
       " u'3384': u' MAJOR LOVE',\n",
       " u'5417': u' STEIN, EMIL',\n",
       " u'5410': u' STEEL WIND',\n",
       " u'5411': u' STEELE, BOBBY',\n",
       " u'5412': u' STEELE, MARCY MASTERSON',\n",
       " u'5413': u' STEELE, SIMON/WOLFGANG HEINRICH VON LUNDT',\n",
       " u'1681': u' ECLIPTIC',\n",
       " u'1680': u' ECLECTA/',\n",
       " u'1683': u' EDDA',\n",
       " u'1682': u' ECSTACY/MME. RENE DELADIER',\n",
       " u'1685': u' EDGERTON, GAYLE',\n",
       " u'1684': u' EDITOR',\n",
       " u'1687': u' EDWARDS, MARTIN/DR. EDWIN MARTYNEC',\n",
       " u'1686': u' EDGERTON, MR.',\n",
       " u'1689': u' EEL II/EDWARD LAVELL',\n",
       " u'1688': u' EEL/LEOPOLD STRYKE',\n",
       " u'653': u' BORA',\n",
       " u'1469': u' DESTROYER III',\n",
       " u'1468': u' DESTRAK',\n",
       " u'1465': u' DESTINE, NEWTON',\n",
       " u'1464': u' DESTINE, ADAM',\n",
       " u'1467': u' DESTINY II/IRENE ADLER',\n",
       " u'1466': u' DESTINY/PAUL DESTINE',\n",
       " u'1461': u' DESAK/DESAK STERIXIAN',\n",
       " u'1460': u' DESADIA',\n",
       " u'1463': u' DESOLATION/',\n",
       " u'1462': u' DESIGNATE/TARENE',\n",
       " u'4239': u' PHOENIX II',\n",
       " u'4238': u' PHOBOS',\n",
       " u'4237': u' PHOBIUS',\n",
       " u'4236': u' PHINEAS',\n",
       " u'4235': u' PHIM, FATHER',\n",
       " u'4234': u' PHILLIPS, SIR GORDON',\n",
       " u'4233': u' PHILLIPS, HANDSOME HARRY',\n",
       " u'4232': u' PHILIPS, PHILIP',\n",
       " u'4231': u' PHEMOUS',\n",
       " u'4230': u' PHAT/BILLY BOB REILLY',\n",
       " u'5591': u\" T'CHAKA\",\n",
       " u'5590': u' T',\n",
       " u'5593': u' T-RAY/WADE WILSON',\n",
       " u'5592': u\" T'KYLL ALABAR\",\n",
       " u'5595': u' TABOO',\n",
       " u'5594': u' TABESHAW, HARRY',\n",
       " u'5597': u' TABUR',\n",
       " u'5596': u' TABULA RASA',\n",
       " u'5599': u' TAGAK',\n",
       " ...}"
      ]
     },
     "execution_count": 22,
     "metadata": {},
     "output_type": "execute_result"
    }
   ],
   "source": [
    "charDictionary\n"
   ]
  },
  {
   "cell_type": "code",
   "execution_count": 33,
   "metadata": {
    "collapsed": false
   },
   "outputs": [],
   "source": [
    "charStrength = charbookmap.mapValues(lambda x : len(x))\\\n",
    "                            .map(lambda x : (charDictionary[x[0]],x[1]))\\\n",
    "                            .reduceByKey(lambda x,y : x+y)\\\n",
    "                            .sortBy(lambda x : -x[1])"
   ]
  },
  {
   "cell_type": "code",
   "execution_count": null,
   "metadata": {
    "collapsed": true
   },
   "outputs": [],
   "source": [
    "#mapValues is special operation use on pair rdd same as map opertion but only on value part of RDD\n",
    "#key remain as it is only apply map on value \n",
    "#1. charbookmap.mapValues(lambda x : len(x)) === here we computed length of book list in which char appear\n",
    "#2.  .map(lambda x : (charDictionary[x[0]],x[1])) == here we do mapping of vertex id to actual character name"
   ]
  },
  {
   "cell_type": "code",
   "execution_count": 34,
   "metadata": {
    "collapsed": false
   },
   "outputs": [
    {
     "data": {
      "text/plain": [
       "[(u' SPIDER-MAN/PETER PARKER', 1625),\n",
       " (u' CAPTAIN AMERICA', 1367),\n",
       " (u' IRON MAN/TONY STARK ', 1168),\n",
       " (u' THING/BENJAMIN J. GRIMM ', 990),\n",
       " (u' THOR/DR. DONALD BLAKE/SIGURD JARLSON II/JAKE OLSON/LOREN OLSON ', 965),\n",
       " (u' HUMAN TORCH/JOHNNY STORM ', 908),\n",
       " (u' MR. FANTASTIC/REED RICHARDS ', 875),\n",
       " (u' HULK/DR. ROBERT BRUCE BANNER ', 841),\n",
       " (u' WOLVERINE/LOGAN ', 820),\n",
       " (u' INVISIBLE WOMAN/SUE STORM RICHARDS ', 782)]"
      ]
     },
     "execution_count": 34,
     "metadata": {},
     "output_type": "execute_result"
    }
   ],
   "source": [
    "charStrength.take(10)"
   ]
  },
  {
   "cell_type": "markdown",
   "metadata": {},
   "source": [
    "# 2.Coorance Network"
   ]
  },
  {
   "cell_type": "markdown",
   "metadata": {},
   "source": [
    "# # STEP 1:"
   ]
  },
  {
   "cell_type": "markdown",
   "metadata": {},
   "source": [
    "\n",
    "\n",
    "1. bookCharMap = charbookmap.flatMapValues(lambda x:x)\n",
    "\n",
    "#here we use flatMapVlues operation to take values from Pair RDD of \"charbookmap\" and make flat list of them \n",
    "\n",
    "#i.e individual items\n",
    "\n",
    "#flatMapValue take list of values and iterate through them and make single record for each item in it\n",
    "\n",
    "#keep key as it is and apply function onlly on values and make single record value for each item in list of values\n",
    "\n",
    " result :\n",
    " \n",
    "[(u'1', u'6487'),\n",
    "\n",
    " (u'2', u'6488'),\n",
    " \n",
    " (u'2', u'6489'),\n",
    " \n",
    " (u'2', u'6490'),\n",
    " \n",
    " (u'2', u'6491'),\n",
    " \n",
    " (u'2', u'6492'),\n",
    " \n",
    " (u'2', u'6493'),\n",
    " \n",
    " (u'2', u'6494'),\n",
    " \n",
    " (u'2', u'6495'),\n",
    " \n",
    " (u'2', u'6496')]\n",
    " \n",
    " 2.  bookCharMap = charbookmap.flatMapValues(lambda x:x)\n",
    "                              .map(lambda x: (x[1],x[0]))\n",
    " \n",
    " #reverse list i.e key = book and value = id\n",
    " \n",
    " result:\n",
    " \n",
    " \n",
    " [(u'6487', u'1'),\n",
    " \n",
    " (u'6488', u'2'),\n",
    " \n",
    " (u'6489', u'2'),\n",
    " \n",
    " (u'6490', u'2'),\n",
    " \n",
    " (u'6491', u'2'),\n",
    " \n",
    " (u'6492', u'2'),\n",
    " \n",
    " (u'6493', u'2'),\n",
    " \n",
    " (u'6494', u'2'),\n",
    " \n",
    " (u'6495', u'2'),\n",
    " \n",
    " (u'6496', u'2')]\n",
    " \n",
    "3. bookCharMap = charbookmap.flatMapValues(lambda x:x)\\\n",
    "                               .map(lambda x: (x[1],x[0]))\\\n",
    "                               .reduceByKey(lambda x ,y : x +\",\"+ y )\n",
    "  \n",
    "  #use reduceByKey to collect all character for each book into one string\n",
    "  \n",
    "  Result : \n",
    "      book , list of char for that book\n",
    "      \n",
    "  [(u'11542', u'545,1084,1319,4415'),\n",
    "  \n",
    " (u'11540', u'545,1084,1319,1347,1602,3750,3959,4415,5019'),\n",
    " \n",
    " (u'11546', u'550,1077,1602,3959,6316'),\n",
    " \n",
    " (u'11544',\n",
    "  u'548,612,748,865,1415,2043,2239,2397,2401,2545,2602,2661,5920,6312,6368'),\n",
    "  \n",
    " (u'11548', u'554,1869,2197,2360,2776,3072,3645,4613,5121,5662,5954,6399'),\n",
    " \n",
    " (u'19399', u'6372'),\n",
    " \n",
    " (u'19397', u'6351'),\n",
    " \n",
    " (u'19395', u'6351'),\n",
    " \n",
    " (u'19393', u'6316'),\n",
    " \n",
    " (u'19391', u'6313')]\n",
    " \n",
    " \n",
    " 4.bookCharMap = charbookmap.flatMapValues(lambda x:x)\\\n",
    " \n",
    "                               .map(lambda x: (x[1],x[0]))\\\n",
    "                               \n",
    "                               .reduceByKey(lambda x ,y : x +\",\"+ y )\\\n",
    "                               \n",
    "                                .mapValues(lambda x : x.split(\",\"))\n",
    "                                \n",
    "                                \n",
    "    # to split string into list\n",
    "    \n",
    "    result:\n",
    "    \n",
    "    [(u'11542', [u'545', u'1084', u'1319', u'4415']),\n",
    "    \n",
    "     (u'11540',[u'545',u'1084',u'1319', u'1347',u'1602', u'3750', u'3959', u'4415',u'5019'])]  "
   ]
  },
  {
   "cell_type": "code",
   "execution_count": null,
   "metadata": {
    "collapsed": true
   },
   "outputs": [],
   "source": [
    " bookCharMap = charbookmap.flatMapValues(lambda x:x)"
   ]
  },
  {
   "cell_type": "code",
   "execution_count": 37,
   "metadata": {
    "collapsed": false
   },
   "outputs": [
    {
     "data": {
      "text/plain": [
       "[(u'1', u'6487'),\n",
       " (u'2', u'6488'),\n",
       " (u'2', u'6489'),\n",
       " (u'2', u'6490'),\n",
       " (u'2', u'6491'),\n",
       " (u'2', u'6492'),\n",
       " (u'2', u'6493'),\n",
       " (u'2', u'6494'),\n",
       " (u'2', u'6495'),\n",
       " (u'2', u'6496')]"
      ]
     },
     "execution_count": 37,
     "metadata": {},
     "output_type": "execute_result"
    }
   ],
   "source": [
    "bookCharMap.take(10)"
   ]
  },
  {
   "cell_type": "code",
   "execution_count": 45,
   "metadata": {
    "collapsed": true
   },
   "outputs": [],
   "source": [
    "bookCharMap = charbookmap.flatMapValues(lambda x:x)\\\n",
    "                .map(lambda x: (x[1],x[0]))\n"
   ]
  },
  {
   "cell_type": "code",
   "execution_count": 47,
   "metadata": {
    "collapsed": false
   },
   "outputs": [
    {
     "data": {
      "text/plain": [
       "[(u'6487', u'1'),\n",
       " (u'6488', u'2'),\n",
       " (u'6489', u'2'),\n",
       " (u'6490', u'2'),\n",
       " (u'6491', u'2'),\n",
       " (u'6492', u'2'),\n",
       " (u'6493', u'2'),\n",
       " (u'6494', u'2'),\n",
       " (u'6495', u'2'),\n",
       " (u'6496', u'2')]"
      ]
     },
     "execution_count": 47,
     "metadata": {},
     "output_type": "execute_result"
    }
   ],
   "source": [
    "bookCharMap.take(10)"
   ]
  },
  {
   "cell_type": "code",
   "execution_count": 42,
   "metadata": {
    "collapsed": false
   },
   "outputs": [],
   "source": [
    "bookCharMap = charbookmap.flatMapValues(lambda x:x)\\\n",
    "                               .map(lambda x: (x[1],x[0]))\\\n",
    "                               .reduceByKey(lambda x ,y : x +\",\"+ y )"
   ]
  },
  {
   "cell_type": "code",
   "execution_count": 43,
   "metadata": {
    "collapsed": false
   },
   "outputs": [
    {
     "data": {
      "text/plain": [
       "[(u'11542', u'545,1084,1319,4415'),\n",
       " (u'11540', u'545,1084,1319,1347,1602,3750,3959,4415,5019'),\n",
       " (u'11546', u'550,1077,1602,3959,6316'),\n",
       " (u'11544',\n",
       "  u'548,612,748,865,1415,2043,2239,2397,2401,2545,2602,2661,5920,6312,6368'),\n",
       " (u'11548', u'554,1869,2197,2360,2776,3072,3645,4613,5121,5662,5954,6399'),\n",
       " (u'19399', u'6372'),\n",
       " (u'19397', u'6351'),\n",
       " (u'19395', u'6351'),\n",
       " (u'19393', u'6316'),\n",
       " (u'19391', u'6313')]"
      ]
     },
     "execution_count": 43,
     "metadata": {},
     "output_type": "execute_result"
    }
   ],
   "source": [
    "bookCharMap.take(10)"
   ]
  },
  {
   "cell_type": "code",
   "execution_count": 50,
   "metadata": {
    "collapsed": true
   },
   "outputs": [],
   "source": [
    "bookCharMap = charbookmap.flatMapValues(lambda x:x)\\\n",
    "                               .map(lambda x: (x[1],x[0]))\\\n",
    "                               .reduceByKey(lambda x ,y : x +\",\"+ y )\\\n",
    "                                .mapValues(lambda x : x.split(\",\"))"
   ]
  },
  {
   "cell_type": "code",
   "execution_count": 52,
   "metadata": {
    "collapsed": false
   },
   "outputs": [
    {
     "data": {
      "text/plain": [
       "[(u'11542', [u'545', u'1084', u'1319', u'4415']),\n",
       " (u'11540',\n",
       "  [u'545',\n",
       "   u'1084',\n",
       "   u'1319',\n",
       "   u'1347',\n",
       "   u'1602',\n",
       "   u'3750',\n",
       "   u'3959',\n",
       "   u'4415',\n",
       "   u'5019'])]"
      ]
     },
     "execution_count": 52,
     "metadata": {},
     "output_type": "execute_result"
    }
   ],
   "source": [
    "bookCharMap.take(2)"
   ]
  },
  {
   "cell_type": "markdown",
   "metadata": {},
   "source": [
    "# #STEP 2:"
   ]
  },
  {
   "cell_type": "markdown",
   "metadata": {},
   "source": [
    "For each BOOK create complete list of all pair that appear together for ecah book"
   ]
  },
  {
   "cell_type": "code",
   "execution_count": 56,
   "metadata": {
    "collapsed": true
   },
   "outputs": [],
   "source": [
    "import itertools\n",
    "cooccurenceMap = bookCharMap.flatMap(lambda x : list(itertools.combinations(x[1],2)))\n"
   ]
  },
  {
   "cell_type": "markdown",
   "metadata": {},
   "source": [
    "here we use python \"itertools\" module that take list of character and create pair from that list\n",
    "\n",
    "and then use flatMap to create one record pair from list of pair\n",
    "\n",
    "cooccurence is RDD which contain pair of character that appear together in book"
   ]
  },
  {
   "cell_type": "code",
   "execution_count": 57,
   "metadata": {
    "collapsed": false,
    "scrolled": true
   },
   "outputs": [
    {
     "data": {
      "text/plain": [
       "[(u'545', u'1084'),\n",
       " (u'545', u'1319'),\n",
       " (u'545', u'4415'),\n",
       " (u'1084', u'1319'),\n",
       " (u'1084', u'4415'),\n",
       " (u'1319', u'4415'),\n",
       " (u'545', u'1084'),\n",
       " (u'545', u'1319'),\n",
       " (u'545', u'1347'),\n",
       " (u'545', u'1602')]"
      ]
     },
     "execution_count": 57,
     "metadata": {},
     "output_type": "execute_result"
    }
   ],
   "source": [
    "cooccurenceMap.take(10)"
   ]
  },
  {
   "cell_type": "markdown",
   "metadata": {},
   "source": [
    "# # STEP 3:\n"
   ]
  },
  {
   "cell_type": "markdown",
   "metadata": {},
   "source": [
    "Now we have to compute count for each pair"
   ]
  },
  {
   "cell_type": "code",
   "execution_count": 62,
   "metadata": {
    "collapsed": true
   },
   "outputs": [],
   "source": [
    "coocurenceStrenght = cooccurenceMap.map(lambda x : (x,1))\\\n",
    "                                    .reduceByKey(lambda x, y: x+y)"
   ]
  },
  {
   "cell_type": "markdown",
   "metadata": {},
   "source": [
    "1. coocurenceStrenght = cooccurenceMap.map(lambda x : (x,1))\n",
    "\n",
    "  #here we give count 1 to each pair in cooccurence and make Pair RDD \n",
    "  \n",
    "  \n",
    "2.  coocurenceStrenght = cooccurenceMap.map(lambda x : (x,1))\\\n",
    "                                    .reduceByKey(lambda x, y: x+y)\n",
    "\n",
    "    #apply reduceByKey to calculate count "
   ]
  },
  {
   "cell_type": "code",
   "execution_count": 63,
   "metadata": {
    "collapsed": false
   },
   "outputs": [
    {
     "data": {
      "text/plain": [
       "[((u'2558', u'3757'), 3),\n",
       " ((u'3770', u'4483'), 1),\n",
       " ((u'4621', u'6452'), 1),\n",
       " ((u'5164', u'6000'), 2),\n",
       " ((u'1567', u'5705'), 1),\n",
       " ((u'4860', u'6242'), 1),\n",
       " ((u'3987', u'5978'), 2),\n",
       " ((u'1948', u'4288'), 3),\n",
       " ((u'1286', u'6166'), 2),\n",
       " ((u'4726', u'4984'), 2)]"
      ]
     },
     "execution_count": 63,
     "metadata": {},
     "output_type": "execute_result"
    }
   ],
   "source": [
    "coocurenceStrenght.take(10)"
   ]
  },
  {
   "cell_type": "markdown",
   "metadata": {},
   "source": [
    "Now we have RDD where  keys == edges are connected by pair characters and values are count for how much time that pair appear in that one book i.e strength"
   ]
  },
  {
   "cell_type": "code",
   "execution_count": 65,
   "metadata": {
    "collapsed": false
   },
   "outputs": [],
   "source": [
    "cooccurenceEdges = coocurenceStrenght.map(lambda x : (x[0][0], x[0][1], x[1]))"
   ]
  },
  {
   "cell_type": "markdown",
   "metadata": {},
   "source": [
    "here we create basic RDD"
   ]
  },
  {
   "cell_type": "code",
   "execution_count": 66,
   "metadata": {
    "collapsed": false
   },
   "outputs": [
    {
     "data": {
      "text/plain": [
       "[(u'2558', u'3757', 3),\n",
       " (u'3770', u'4483', 1),\n",
       " (u'4621', u'6452', 1),\n",
       " (u'5164', u'6000', 2),\n",
       " (u'1567', u'5705', 1),\n",
       " (u'4860', u'6242', 1),\n",
       " (u'3987', u'5978', 2),\n",
       " (u'1948', u'4288', 3),\n",
       " (u'1286', u'6166', 2),\n",
       " (u'4726', u'4984', 2)]"
      ]
     },
     "execution_count": 66,
     "metadata": {},
     "output_type": "execute_result"
    }
   ],
   "source": [
    "cooccurenceEdges.take(10)"
   ]
  },
  {
   "cell_type": "code",
   "execution_count": 69,
   "metadata": {
    "collapsed": true
   },
   "outputs": [],
   "source": [
    "sortedCooccurence = cooccurenceEdges.sortBy(lambda x : -x[2]) #sort using strength"
   ]
  },
  {
   "cell_type": "code",
   "execution_count": 70,
   "metadata": {
    "collapsed": false
   },
   "outputs": [
    {
     "data": {
      "text/plain": [
       "[(u'2557', u'5716', 744),\n",
       " (u'2557', u'3805', 713),\n",
       " (u'3805', u'5716', 708),\n",
       " (u'2650', u'3805', 701),\n",
       " (u'2557', u'2650', 694),\n",
       " (u'2650', u'5716', 668),\n",
       " (u'5306', u'6166', 616),\n",
       " (u'2959', u'5306', 526),\n",
       " (u'859', u'2664', 446),\n",
       " (u'4898', u'6066', 422)]"
      ]
     },
     "execution_count": 70,
     "metadata": {},
     "output_type": "execute_result"
    }
   ],
   "source": [
    "sortedCooccurence.take(10)"
   ]
  },
  {
   "cell_type": "code",
   "execution_count": 73,
   "metadata": {
    "collapsed": true
   },
   "outputs": [],
   "source": [
    "sortedCooccurence = cooccurenceEdges.sortBy(lambda x : -x[2])\\\n",
    "                                        .map(lambda x : (charDictionary[x[0]],charDictionary[x[1]],x[2]))\n",
    "    #do mapping from id to name"
   ]
  },
  {
   "cell_type": "code",
   "execution_count": 76,
   "metadata": {
    "collapsed": false,
    "scrolled": true
   },
   "outputs": [
    {
     "data": {
      "text/plain": [
       "[(u' HUMAN TORCH/JOHNNY STORM ', u' THING/BENJAMIN J. GRIMM ', 744),\n",
       " (u' HUMAN TORCH/JOHNNY STORM ', u' MR. FANTASTIC/REED RICHARDS ', 713),\n",
       " (u' MR. FANTASTIC/REED RICHARDS ', u' THING/BENJAMIN J. GRIMM ', 708),\n",
       " (u' INVISIBLE WOMAN/SUE STORM RICHARDS ',\n",
       "  u' MR. FANTASTIC/REED RICHARDS ',\n",
       "  701),\n",
       " (u' HUMAN TORCH/JOHNNY STORM ', u' INVISIBLE WOMAN/SUE STORM RICHARDS ', 694),\n",
       " (u' INVISIBLE WOMAN/SUE STORM RICHARDS ', u' THING/BENJAMIN J. GRIMM ', 668),\n",
       " (u' SPIDER-MAN/PETER PARKER', u' WATSON-PARKER, MARY JANE', 616),\n",
       " (u' JAMESON, J. JONAH', u' SPIDER-MAN/PETER PARKER', 526),\n",
       " (u' CAPTAIN AMERICA', u' IRON MAN/TONY STARK ', 446),\n",
       " (u' SCARLET WITCH/WANDA MAXIMOFF', u' VISION ', 422)]"
      ]
     },
     "execution_count": 76,
     "metadata": {},
     "output_type": "execute_result"
    }
   ],
   "source": [
    "sortedCooccurence.take(10)"
   ]
  },
  {
   "cell_type": "code",
   "execution_count": 81,
   "metadata": {
    "collapsed": false
   },
   "outputs": [
    {
     "data": {
      "text/plain": [
       "[(u' SPIDER-MAN/PETER PARKER', u' WATSON-PARKER, MARY JANE', 616)]"
      ]
     },
     "execution_count": 81,
     "metadata": {},
     "output_type": "execute_result"
    }
   ],
   "source": [
    "sortedCooccurence.filter(lambda x :u' SPIDER-MAN/PETER PARKER' in x).take(1)"
   ]
  },
  {
   "cell_type": "code",
   "execution_count": 84,
   "metadata": {
    "collapsed": false
   },
   "outputs": [
    {
     "data": {
      "text/plain": [
       "(count: 168267, mean: 3.38610660438, stdev: 10.9184820652, max: 744.0, min: 1.0)"
      ]
     },
     "execution_count": 84,
     "metadata": {},
     "output_type": "execute_result"
    }
   ],
   "source": [
    "sortedCooccurence.map(lambda x : x[2]).stats()\n",
    "#it give sence of distrubution using numeric values"
   ]
  },
  {
   "cell_type": "code",
   "execution_count": 92,
   "metadata": {
    "collapsed": true
   },
   "outputs": [],
   "source": [
    "import networkx as nx\n",
    "G = nx.Graph()\n",
    "edges = sortedCooccurence.map(lambda x : (x[0], x[1], {'weight' : 1000/x[2]})).take(50)\n",
    "G.add_edges_from(edges)"
   ]
  },
  {
   "cell_type": "code",
   "execution_count": 93,
   "metadata": {
    "collapsed": false
   },
   "outputs": [
    {
     "data": {
      "image/png": "[encoded data removed]",
      "text/plain": [
       "<matplotlib.figure.Figure at 0x7f6d63460650>"
      ]
     },
     "metadata": {},
     "output_type": "display_data"
    }
   ],
   "source": [
    "import matplotlib.pyplot as plt\n",
    "nx.draw_networkx(G, pos=nx.spring_layout(G))\n",
    "plt.show()"
   ]
  },
  {
   "cell_type": "code",
   "execution_count": null,
   "metadata": {
    "collapsed": true
   },
   "outputs": [],
   "source": []
  }
 ],
 "metadata": {
  "anaconda-cloud": {},
  "kernelspec": {
   "display_name": "Python [conda env:anaconda]",
   "language": "python",
   "name": "conda-env-anaconda-py"
  },
  "language_info": {
   "codemirror_mode": {
    "name": "ipython",
    "version": 2
   },
   "file_extension": ".py",
   "mimetype": "text/x-python",
   "name": "python",
   "nbconvert_exporter": "python",
   "pygments_lexer": "ipython2",
   "version": "2.7.12"
  }
 },
 "nbformat": 4,
 "nbformat_minor": 1
}
