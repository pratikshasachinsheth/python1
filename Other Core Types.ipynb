{
 "cells": [
  {
   "cell_type": "markdown",
   "metadata": {},
   "source": [
    "# Other Core Types"
   ]
  },
  {
   "cell_type": "markdown",
   "metadata": {},
   "source": [
    "# #Sets"
   ]
  },
  {
   "cell_type": "markdown",
   "metadata": {},
   "source": [
    "that are neither mappings nor sequences;\n",
    "rather, they are unordered collections of unique and immutable objects. You create sets\n",
    "by calling the built-in set function or using new set literals"
   ]
  },
  {
   "cell_type": "markdown",
   "metadata": {},
   "source": [
    ">>> X = set('spam')\n",
    "\n",
    ">>> Y = {'h', 'a', 'm'}\n",
    "\n",
    "# Make a set out of a sequence in 2.X and 3.X\n",
    "\n",
    "# Make a set with set literals in 3.X and 2.7\n",
    "\n",
    ">>> X, Y\n",
    "\n",
    "# A tuple of two sets without parentheses\n",
    "\n",
    "({'m', 'a', 'p', 's'}, {'m', 'a', 'h'})\n",
    "\n",
    ">>> X\n",
    "{'m',\n",
    ">>> X\n",
    "{'m',\n",
    ">>> X\n",
    "& Y\n",
    "'a'}\n",
    "| Y\n",
    "'h', 'a', 'p', 's'}\n",
    "- Y\n",
    "126 | Chapter 4: Introducing Python Object Types\n",
    "# Intersection\n",
    "# Union\n",
    "# Difference{'p', 's'}\n",
    ">>> X > Y\n",
    "False\n",
    "# Superset\n",
    ">>> {n ** 2 for n in [1, 2, 3, 4]} # Set comprehensions in 3.X and 2.7\n",
    "{16, 1, 4, 9}\n",
    "Even less mathematically inclined programmers often find sets useful for common tasks\n",
    "such as filtering out duplicates, isolating differences, and performing order-neutral\n",
    "equality tests without sorting—in lists, strings, and all other iterable objects:\n",
    ">>> list(set([1, 2, 1, 3, 1]))\n",
    "[1, 2, 3]\n",
    ">>> set('spam') - set('ham')\n",
    "{'p', 's'}\n",
    ">>> set('spam') == set('asmp')\n",
    "True\n",
    "# Filtering out duplicates (possibly reordered)\n",
    "# Finding differences in collections\n",
    "# Order-neutral equality tests (== is False)"
   ]
  },
  {
   "cell_type": "markdown",
   "metadata": {},
   "source": [
    "decimal numbers, which\n",
    "are fixed-precision floating-point numbers, and fraction numbers, which are rational\n",
    "numbers with both a numerator and a denominator."
   ]
  },
  {
   "cell_type": "markdown",
   "metadata": {},
   "source": [
    "# ##type object"
   ]
  },
  {
   "cell_type": "markdown",
   "metadata": {},
   "source": [
    "returned by the type built-in function, is an object that\n",
    "gives the type of another object;"
   ]
  },
  {
   "cell_type": "code",
   "execution_count": null,
   "metadata": {},
   "outputs": [],
   "source": []
  }
 ],
 "metadata": {
  "kernelspec": {
   "display_name": "Python 3",
   "language": "python",
   "name": "python3"
  },
  "language_info": {
   "codemirror_mode": {
    "name": "ipython",
    "version": 3
   },
   "file_extension": ".py",
   "mimetype": "text/x-python",
   "name": "python",
   "nbconvert_exporter": "python",
   "pygments_lexer": "ipython3",
   "version": "3.6.5"
  }
 },
 "nbformat": 4,
 "nbformat_minor": 2
}
